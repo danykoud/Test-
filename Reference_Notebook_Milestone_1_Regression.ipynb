{
  "cells": [
    {
      "cell_type": "markdown",
      "metadata": {
        "id": "view-in-github",
        "colab_type": "text"
      },
      "source": [
        "<a href=\"https://colab.research.google.com/github/danykoud/_NLP/blob/main/Reference_Notebook_Milestone_1_Regression.ipynb\" target=\"_parent\"><img src=\"https://colab.research.google.com/assets/colab-badge.svg\" alt=\"Open In Colab\"/></a>"
      ]
    },
    {
      "cell_type": "markdown",
      "metadata": {
        "id": "UlqYJ7oql3o1"
      },
      "source": [
        "# **Milestone 1**\n",
        "\n",
        "## **Context**\n",
        " - Why is this problem important to solve?"
      ]
    },
    {
      "cell_type": "markdown",
      "metadata": {
        "id": "xcOelcO5l6aM"
      },
      "source": [
        "### **The objectives:**\n",
        "\n",
        " - What is the intended goal?"
      ]
    },
    {
      "cell_type": "markdown",
      "metadata": {
        "id": "R0lXs6xjmBgk"
      },
      "source": [
        "###**The key questions:**\n",
        "\n",
        "- What are the key questions that need to be answered?\n",
        "\n"
      ]
    },
    {
      "cell_type": "markdown",
      "metadata": {
        "id": "4vh1HBtdmE_I"
      },
      "source": [
        "###**The problem formulation**:\n",
        "\n",
        "- What is it that we are trying to solve using data science?"
      ]
    },
    {
      "cell_type": "markdown",
      "metadata": {
        "id": "J-JZtcBYtOSb"
      },
      "source": [
        "## **Data Dictionary**\n",
        "\n",
        "**S.No.** : Serial Number\n",
        "\n",
        "**Name** : Name of the car which includes Brand name and Model name\n",
        "\n",
        "**Location** : The location in which the car is being sold or is available for purchase (Cities)\n",
        "\n",
        "**Year** : Manufacturing year of the car\n",
        "\n",
        "**Kilometers_driven** : The total kilometers driven in the car by the previous owner(s) in KM.\n",
        "\n",
        "**Fuel_Type** : The type of fuel used by the car. (Petrol, Diesel, Electric, CNG, LPG)\n",
        "\n",
        "**Transmission** : The type of transmission used by the car. (Automatic / Manual)\n",
        "\n",
        "**Owner** : Type of ownership\n",
        "\n",
        "**Mileage** : The standard mileage offered by the car company in kmpl or km/kg\n",
        "\n",
        "**Engine** : The displacement volume of the engine in CC.\n",
        "\n",
        "**Power** : The maximum power of the engine in bhp.\n",
        "\n",
        "**Seats** : The number of seats in the car.\n",
        "\n",
        "**New_Price** : The price of a new car of the same model in INR 100,000\n",
        "\n",
        "**Price** : The price of the used car in INR 100,000 (**Target Variable**)"
      ]
    },
    {
      "cell_type": "markdown",
      "metadata": {
        "id": "8AqyAIRRVL3P"
      },
      "source": [
        "## **Important Notes**\n",
        "\n",
        "- This notebook can be considered a guide to refer to while solving the problem. The evaluation will be as per the Rubric shared for each Milestone. Unlike previous courses, it does not follow the pattern of the graded questions in different sections. This notebook will give you a direction on what steps need to be taken in order to get a viable solution to the problem. Please note that this is just one way of doing this. There can be other 'creative' ways to solve the problem and we urge you to feel free and explore them as an 'optional' exercise. \n",
        "\n",
        "- In the notebook, there are markdown cells called - Observations and Insights. It is a good practice to provide observations and extract insights from the outputs.\n",
        "\n",
        "- The naming convention for different variables can vary. Please consider the code provided in this notebook as a sample code.\n",
        "\n",
        "- All the outputs in the notebook are just for reference and can be different if you follow a different approach.\n",
        "\n",
        "- There are sections called **Think About It** in the notebook that will help you get a better understanding of the reasoning behind a particular technique/step. Interested learners can take alternative approaches if they wish to explore different techniques. "
      ]
    },
    {
      "cell_type": "markdown",
      "metadata": {
        "id": "sq6tooY0VL3Q"
      },
      "source": [
        "# **Milestone 1** "
      ]
    },
    {
      "cell_type": "code",
      "source": [
        "from google.colab import drive\n",
        "\n",
        "drive.mount('/content/drive')"
      ],
      "metadata": {
        "colab": {
          "base_uri": "https://localhost:8080/"
        },
        "id": "rhT2VT6I7LPH",
        "outputId": "32b471fd-3e7b-4cfb-cae6-3f53a84000ab"
      },
      "execution_count": null,
      "outputs": [
        {
          "output_type": "stream",
          "name": "stdout",
          "text": [
            "Mounted at /content/drive\n"
          ]
        }
      ]
    },
    {
      "cell_type": "markdown",
      "metadata": {
        "id": "rlLoEhsbtOSg"
      },
      "source": [
        "### **Loading libraries**"
      ]
    },
    {
      "cell_type": "code",
      "execution_count": null,
      "metadata": {
        "id": "8J9KZGl9tOSh"
      },
      "outputs": [],
      "source": [
        "#Import required libraries\n",
        "import pandas as pd\n",
        "import numpy as np\n",
        "\n",
        "import matplotlib.pyplot as plt\n",
        "import seaborn as sns\n",
        "\n",
        "#to ignore warnings\n",
        "import warnings\n",
        "warnings.filterwarnings('ignore')\n",
        "\n",
        "# Remove the limit from the number of displayed columns and rows. It helps to see the entire dataframe while printing it\n",
        "pd.set_option(\"display.max_columns\", None)\n",
        "# pd.set_option('display.max_rows', None)\n",
        "pd.set_option(\"display.max_rows\", 200)"
      ]
    },
    {
      "cell_type": "markdown",
      "metadata": {
        "id": "baG7rS5FtOSh"
      },
      "source": [
        "### **Let us load the data**"
      ]
    },
    {
      "cell_type": "code",
      "execution_count": null,
      "metadata": {
        "id": "flK0muyhtOSi"
      },
      "outputs": [],
      "source": [
        "data = pd.read_csv(\"/content/drive/MyDrive/used_cars.csv\")"
      ]
    },
    {
      "cell_type": "markdown",
      "metadata": {
        "id": "63k9imdMtOSi"
      },
      "source": [
        "### **Understand the data by observing a few rows**"
      ]
    },
    {
      "cell_type": "code",
      "execution_count": null,
      "metadata": {
        "id": "rrVFKlXXtOSi",
        "colab": {
          "base_uri": "https://localhost:8080/",
          "height": 206
        },
        "outputId": "e573cbc2-bfb8-4733-f383-4cd6d98b998b"
      },
      "outputs": [
        {
          "output_type": "execute_result",
          "data": {
            "text/plain": [
              "   S.No.                              Name    Location  Year  \\\n",
              "0      0            Maruti Wagon R LXI CNG      Mumbai  2010   \n",
              "1      1  Hyundai Creta 1.6 CRDi SX Option        Pune  2015   \n",
              "2      2                      Honda Jazz V     Chennai  2011   \n",
              "3      3                 Maruti Ertiga VDI     Chennai  2012   \n",
              "4      4   Audi A4 New 2.0 TDI Multitronic  Coimbatore  2013   \n",
              "\n",
              "   Kilometers_Driven Fuel_Type Transmission Owner_Type  Mileage  Engine  \\\n",
              "0              72000       CNG       Manual      First    26.60   998.0   \n",
              "1              41000    Diesel       Manual      First    19.67  1582.0   \n",
              "2              46000    Petrol       Manual      First    18.20  1199.0   \n",
              "3              87000    Diesel       Manual      First    20.77  1248.0   \n",
              "4              40670    Diesel    Automatic     Second    15.20  1968.0   \n",
              "\n",
              "    Power  Seats  New_price  Price  \n",
              "0   58.16    5.0        NaN   1.75  \n",
              "1  126.20    5.0        NaN  12.50  \n",
              "2   88.70    5.0       8.61   4.50  \n",
              "3   88.76    7.0        NaN   6.00  \n",
              "4  140.80    5.0        NaN  17.74  "
            ],
            "text/html": [
              "\n",
              "  <div id=\"df-a8410fe6-bb3c-4452-9df8-335fc1f39216\">\n",
              "    <div class=\"colab-df-container\">\n",
              "      <div>\n",
              "<style scoped>\n",
              "    .dataframe tbody tr th:only-of-type {\n",
              "        vertical-align: middle;\n",
              "    }\n",
              "\n",
              "    .dataframe tbody tr th {\n",
              "        vertical-align: top;\n",
              "    }\n",
              "\n",
              "    .dataframe thead th {\n",
              "        text-align: right;\n",
              "    }\n",
              "</style>\n",
              "<table border=\"1\" class=\"dataframe\">\n",
              "  <thead>\n",
              "    <tr style=\"text-align: right;\">\n",
              "      <th></th>\n",
              "      <th>S.No.</th>\n",
              "      <th>Name</th>\n",
              "      <th>Location</th>\n",
              "      <th>Year</th>\n",
              "      <th>Kilometers_Driven</th>\n",
              "      <th>Fuel_Type</th>\n",
              "      <th>Transmission</th>\n",
              "      <th>Owner_Type</th>\n",
              "      <th>Mileage</th>\n",
              "      <th>Engine</th>\n",
              "      <th>Power</th>\n",
              "      <th>Seats</th>\n",
              "      <th>New_price</th>\n",
              "      <th>Price</th>\n",
              "    </tr>\n",
              "  </thead>\n",
              "  <tbody>\n",
              "    <tr>\n",
              "      <th>0</th>\n",
              "      <td>0</td>\n",
              "      <td>Maruti Wagon R LXI CNG</td>\n",
              "      <td>Mumbai</td>\n",
              "      <td>2010</td>\n",
              "      <td>72000</td>\n",
              "      <td>CNG</td>\n",
              "      <td>Manual</td>\n",
              "      <td>First</td>\n",
              "      <td>26.60</td>\n",
              "      <td>998.0</td>\n",
              "      <td>58.16</td>\n",
              "      <td>5.0</td>\n",
              "      <td>NaN</td>\n",
              "      <td>1.75</td>\n",
              "    </tr>\n",
              "    <tr>\n",
              "      <th>1</th>\n",
              "      <td>1</td>\n",
              "      <td>Hyundai Creta 1.6 CRDi SX Option</td>\n",
              "      <td>Pune</td>\n",
              "      <td>2015</td>\n",
              "      <td>41000</td>\n",
              "      <td>Diesel</td>\n",
              "      <td>Manual</td>\n",
              "      <td>First</td>\n",
              "      <td>19.67</td>\n",
              "      <td>1582.0</td>\n",
              "      <td>126.20</td>\n",
              "      <td>5.0</td>\n",
              "      <td>NaN</td>\n",
              "      <td>12.50</td>\n",
              "    </tr>\n",
              "    <tr>\n",
              "      <th>2</th>\n",
              "      <td>2</td>\n",
              "      <td>Honda Jazz V</td>\n",
              "      <td>Chennai</td>\n",
              "      <td>2011</td>\n",
              "      <td>46000</td>\n",
              "      <td>Petrol</td>\n",
              "      <td>Manual</td>\n",
              "      <td>First</td>\n",
              "      <td>18.20</td>\n",
              "      <td>1199.0</td>\n",
              "      <td>88.70</td>\n",
              "      <td>5.0</td>\n",
              "      <td>8.61</td>\n",
              "      <td>4.50</td>\n",
              "    </tr>\n",
              "    <tr>\n",
              "      <th>3</th>\n",
              "      <td>3</td>\n",
              "      <td>Maruti Ertiga VDI</td>\n",
              "      <td>Chennai</td>\n",
              "      <td>2012</td>\n",
              "      <td>87000</td>\n",
              "      <td>Diesel</td>\n",
              "      <td>Manual</td>\n",
              "      <td>First</td>\n",
              "      <td>20.77</td>\n",
              "      <td>1248.0</td>\n",
              "      <td>88.76</td>\n",
              "      <td>7.0</td>\n",
              "      <td>NaN</td>\n",
              "      <td>6.00</td>\n",
              "    </tr>\n",
              "    <tr>\n",
              "      <th>4</th>\n",
              "      <td>4</td>\n",
              "      <td>Audi A4 New 2.0 TDI Multitronic</td>\n",
              "      <td>Coimbatore</td>\n",
              "      <td>2013</td>\n",
              "      <td>40670</td>\n",
              "      <td>Diesel</td>\n",
              "      <td>Automatic</td>\n",
              "      <td>Second</td>\n",
              "      <td>15.20</td>\n",
              "      <td>1968.0</td>\n",
              "      <td>140.80</td>\n",
              "      <td>5.0</td>\n",
              "      <td>NaN</td>\n",
              "      <td>17.74</td>\n",
              "    </tr>\n",
              "  </tbody>\n",
              "</table>\n",
              "</div>\n",
              "      <button class=\"colab-df-convert\" onclick=\"convertToInteractive('df-a8410fe6-bb3c-4452-9df8-335fc1f39216')\"\n",
              "              title=\"Convert this dataframe to an interactive table.\"\n",
              "              style=\"display:none;\">\n",
              "        \n",
              "  <svg xmlns=\"http://www.w3.org/2000/svg\" height=\"24px\"viewBox=\"0 0 24 24\"\n",
              "       width=\"24px\">\n",
              "    <path d=\"M0 0h24v24H0V0z\" fill=\"none\"/>\n",
              "    <path d=\"M18.56 5.44l.94 2.06.94-2.06 2.06-.94-2.06-.94-.94-2.06-.94 2.06-2.06.94zm-11 1L8.5 8.5l.94-2.06 2.06-.94-2.06-.94L8.5 2.5l-.94 2.06-2.06.94zm10 10l.94 2.06.94-2.06 2.06-.94-2.06-.94-.94-2.06-.94 2.06-2.06.94z\"/><path d=\"M17.41 7.96l-1.37-1.37c-.4-.4-.92-.59-1.43-.59-.52 0-1.04.2-1.43.59L10.3 9.45l-7.72 7.72c-.78.78-.78 2.05 0 2.83L4 21.41c.39.39.9.59 1.41.59.51 0 1.02-.2 1.41-.59l7.78-7.78 2.81-2.81c.8-.78.8-2.07 0-2.86zM5.41 20L4 18.59l7.72-7.72 1.47 1.35L5.41 20z\"/>\n",
              "  </svg>\n",
              "      </button>\n",
              "      \n",
              "  <style>\n",
              "    .colab-df-container {\n",
              "      display:flex;\n",
              "      flex-wrap:wrap;\n",
              "      gap: 12px;\n",
              "    }\n",
              "\n",
              "    .colab-df-convert {\n",
              "      background-color: #E8F0FE;\n",
              "      border: none;\n",
              "      border-radius: 50%;\n",
              "      cursor: pointer;\n",
              "      display: none;\n",
              "      fill: #1967D2;\n",
              "      height: 32px;\n",
              "      padding: 0 0 0 0;\n",
              "      width: 32px;\n",
              "    }\n",
              "\n",
              "    .colab-df-convert:hover {\n",
              "      background-color: #E2EBFA;\n",
              "      box-shadow: 0px 1px 2px rgba(60, 64, 67, 0.3), 0px 1px 3px 1px rgba(60, 64, 67, 0.15);\n",
              "      fill: #174EA6;\n",
              "    }\n",
              "\n",
              "    [theme=dark] .colab-df-convert {\n",
              "      background-color: #3B4455;\n",
              "      fill: #D2E3FC;\n",
              "    }\n",
              "\n",
              "    [theme=dark] .colab-df-convert:hover {\n",
              "      background-color: #434B5C;\n",
              "      box-shadow: 0px 1px 3px 1px rgba(0, 0, 0, 0.15);\n",
              "      filter: drop-shadow(0px 1px 2px rgba(0, 0, 0, 0.3));\n",
              "      fill: #FFFFFF;\n",
              "    }\n",
              "  </style>\n",
              "\n",
              "      <script>\n",
              "        const buttonEl =\n",
              "          document.querySelector('#df-a8410fe6-bb3c-4452-9df8-335fc1f39216 button.colab-df-convert');\n",
              "        buttonEl.style.display =\n",
              "          google.colab.kernel.accessAllowed ? 'block' : 'none';\n",
              "\n",
              "        async function convertToInteractive(key) {\n",
              "          const element = document.querySelector('#df-a8410fe6-bb3c-4452-9df8-335fc1f39216');\n",
              "          const dataTable =\n",
              "            await google.colab.kernel.invokeFunction('convertToInteractive',\n",
              "                                                     [key], {});\n",
              "          if (!dataTable) return;\n",
              "\n",
              "          const docLinkHtml = 'Like what you see? Visit the ' +\n",
              "            '<a target=\"_blank\" href=https://colab.research.google.com/notebooks/data_table.ipynb>data table notebook</a>'\n",
              "            + ' to learn more about interactive tables.';\n",
              "          element.innerHTML = '';\n",
              "          dataTable['output_type'] = 'display_data';\n",
              "          await google.colab.output.renderOutput(dataTable, element);\n",
              "          const docLink = document.createElement('div');\n",
              "          docLink.innerHTML = docLinkHtml;\n",
              "          element.appendChild(docLink);\n",
              "        }\n",
              "      </script>\n",
              "    </div>\n",
              "  </div>\n",
              "  "
            ]
          },
          "metadata": {},
          "execution_count": 4
        }
      ],
      "source": [
        "# View first 5 rows\n",
        "data.head()"
      ]
    },
    {
      "cell_type": "code",
      "execution_count": null,
      "metadata": {
        "id": "7oeTruANtOSj",
        "colab": {
          "base_uri": "https://localhost:8080/",
          "height": 250
        },
        "outputId": "648b4546-2a69-4aa4-cdaa-faedad7e9576"
      },
      "outputs": [
        {
          "output_type": "execute_result",
          "data": {
            "text/plain": [
              "      S.No.                                               Name   Location  \\\n",
              "7248   7248                  Volkswagen Vento Diesel Trendline  Hyderabad   \n",
              "7249   7249                             Volkswagen Polo GT TSI     Mumbai   \n",
              "7250   7250                             Nissan Micra Diesel XV    Kolkata   \n",
              "7251   7251                             Volkswagen Polo GT TSI       Pune   \n",
              "7252   7252  Mercedes-Benz E-Class 2009-2013 E 220 CDI Avan...      Kochi   \n",
              "\n",
              "      Year  Kilometers_Driven Fuel_Type Transmission Owner_Type  Mileage  \\\n",
              "7248  2011              89411    Diesel       Manual      First    20.54   \n",
              "7249  2015              59000    Petrol    Automatic      First    17.21   \n",
              "7250  2012              28000    Diesel       Manual      First    23.08   \n",
              "7251  2013              52262    Petrol    Automatic      Third    17.20   \n",
              "7252  2014              72443    Diesel    Automatic      First    10.00   \n",
              "\n",
              "      Engine  Power  Seats  New_price  Price  \n",
              "7248  1598.0  103.6    5.0        NaN    NaN  \n",
              "7249  1197.0  103.6    5.0        NaN    NaN  \n",
              "7250  1461.0   63.1    5.0        NaN    NaN  \n",
              "7251  1197.0  103.6    5.0        NaN    NaN  \n",
              "7252  2148.0  170.0    5.0        NaN    NaN  "
            ],
            "text/html": [
              "\n",
              "  <div id=\"df-06a5a0e3-13f2-4dc8-b09d-cd90832814ff\">\n",
              "    <div class=\"colab-df-container\">\n",
              "      <div>\n",
              "<style scoped>\n",
              "    .dataframe tbody tr th:only-of-type {\n",
              "        vertical-align: middle;\n",
              "    }\n",
              "\n",
              "    .dataframe tbody tr th {\n",
              "        vertical-align: top;\n",
              "    }\n",
              "\n",
              "    .dataframe thead th {\n",
              "        text-align: right;\n",
              "    }\n",
              "</style>\n",
              "<table border=\"1\" class=\"dataframe\">\n",
              "  <thead>\n",
              "    <tr style=\"text-align: right;\">\n",
              "      <th></th>\n",
              "      <th>S.No.</th>\n",
              "      <th>Name</th>\n",
              "      <th>Location</th>\n",
              "      <th>Year</th>\n",
              "      <th>Kilometers_Driven</th>\n",
              "      <th>Fuel_Type</th>\n",
              "      <th>Transmission</th>\n",
              "      <th>Owner_Type</th>\n",
              "      <th>Mileage</th>\n",
              "      <th>Engine</th>\n",
              "      <th>Power</th>\n",
              "      <th>Seats</th>\n",
              "      <th>New_price</th>\n",
              "      <th>Price</th>\n",
              "    </tr>\n",
              "  </thead>\n",
              "  <tbody>\n",
              "    <tr>\n",
              "      <th>7248</th>\n",
              "      <td>7248</td>\n",
              "      <td>Volkswagen Vento Diesel Trendline</td>\n",
              "      <td>Hyderabad</td>\n",
              "      <td>2011</td>\n",
              "      <td>89411</td>\n",
              "      <td>Diesel</td>\n",
              "      <td>Manual</td>\n",
              "      <td>First</td>\n",
              "      <td>20.54</td>\n",
              "      <td>1598.0</td>\n",
              "      <td>103.6</td>\n",
              "      <td>5.0</td>\n",
              "      <td>NaN</td>\n",
              "      <td>NaN</td>\n",
              "    </tr>\n",
              "    <tr>\n",
              "      <th>7249</th>\n",
              "      <td>7249</td>\n",
              "      <td>Volkswagen Polo GT TSI</td>\n",
              "      <td>Mumbai</td>\n",
              "      <td>2015</td>\n",
              "      <td>59000</td>\n",
              "      <td>Petrol</td>\n",
              "      <td>Automatic</td>\n",
              "      <td>First</td>\n",
              "      <td>17.21</td>\n",
              "      <td>1197.0</td>\n",
              "      <td>103.6</td>\n",
              "      <td>5.0</td>\n",
              "      <td>NaN</td>\n",
              "      <td>NaN</td>\n",
              "    </tr>\n",
              "    <tr>\n",
              "      <th>7250</th>\n",
              "      <td>7250</td>\n",
              "      <td>Nissan Micra Diesel XV</td>\n",
              "      <td>Kolkata</td>\n",
              "      <td>2012</td>\n",
              "      <td>28000</td>\n",
              "      <td>Diesel</td>\n",
              "      <td>Manual</td>\n",
              "      <td>First</td>\n",
              "      <td>23.08</td>\n",
              "      <td>1461.0</td>\n",
              "      <td>63.1</td>\n",
              "      <td>5.0</td>\n",
              "      <td>NaN</td>\n",
              "      <td>NaN</td>\n",
              "    </tr>\n",
              "    <tr>\n",
              "      <th>7251</th>\n",
              "      <td>7251</td>\n",
              "      <td>Volkswagen Polo GT TSI</td>\n",
              "      <td>Pune</td>\n",
              "      <td>2013</td>\n",
              "      <td>52262</td>\n",
              "      <td>Petrol</td>\n",
              "      <td>Automatic</td>\n",
              "      <td>Third</td>\n",
              "      <td>17.20</td>\n",
              "      <td>1197.0</td>\n",
              "      <td>103.6</td>\n",
              "      <td>5.0</td>\n",
              "      <td>NaN</td>\n",
              "      <td>NaN</td>\n",
              "    </tr>\n",
              "    <tr>\n",
              "      <th>7252</th>\n",
              "      <td>7252</td>\n",
              "      <td>Mercedes-Benz E-Class 2009-2013 E 220 CDI Avan...</td>\n",
              "      <td>Kochi</td>\n",
              "      <td>2014</td>\n",
              "      <td>72443</td>\n",
              "      <td>Diesel</td>\n",
              "      <td>Automatic</td>\n",
              "      <td>First</td>\n",
              "      <td>10.00</td>\n",
              "      <td>2148.0</td>\n",
              "      <td>170.0</td>\n",
              "      <td>5.0</td>\n",
              "      <td>NaN</td>\n",
              "      <td>NaN</td>\n",
              "    </tr>\n",
              "  </tbody>\n",
              "</table>\n",
              "</div>\n",
              "      <button class=\"colab-df-convert\" onclick=\"convertToInteractive('df-06a5a0e3-13f2-4dc8-b09d-cd90832814ff')\"\n",
              "              title=\"Convert this dataframe to an interactive table.\"\n",
              "              style=\"display:none;\">\n",
              "        \n",
              "  <svg xmlns=\"http://www.w3.org/2000/svg\" height=\"24px\"viewBox=\"0 0 24 24\"\n",
              "       width=\"24px\">\n",
              "    <path d=\"M0 0h24v24H0V0z\" fill=\"none\"/>\n",
              "    <path d=\"M18.56 5.44l.94 2.06.94-2.06 2.06-.94-2.06-.94-.94-2.06-.94 2.06-2.06.94zm-11 1L8.5 8.5l.94-2.06 2.06-.94-2.06-.94L8.5 2.5l-.94 2.06-2.06.94zm10 10l.94 2.06.94-2.06 2.06-.94-2.06-.94-.94-2.06-.94 2.06-2.06.94z\"/><path d=\"M17.41 7.96l-1.37-1.37c-.4-.4-.92-.59-1.43-.59-.52 0-1.04.2-1.43.59L10.3 9.45l-7.72 7.72c-.78.78-.78 2.05 0 2.83L4 21.41c.39.39.9.59 1.41.59.51 0 1.02-.2 1.41-.59l7.78-7.78 2.81-2.81c.8-.78.8-2.07 0-2.86zM5.41 20L4 18.59l7.72-7.72 1.47 1.35L5.41 20z\"/>\n",
              "  </svg>\n",
              "      </button>\n",
              "      \n",
              "  <style>\n",
              "    .colab-df-container {\n",
              "      display:flex;\n",
              "      flex-wrap:wrap;\n",
              "      gap: 12px;\n",
              "    }\n",
              "\n",
              "    .colab-df-convert {\n",
              "      background-color: #E8F0FE;\n",
              "      border: none;\n",
              "      border-radius: 50%;\n",
              "      cursor: pointer;\n",
              "      display: none;\n",
              "      fill: #1967D2;\n",
              "      height: 32px;\n",
              "      padding: 0 0 0 0;\n",
              "      width: 32px;\n",
              "    }\n",
              "\n",
              "    .colab-df-convert:hover {\n",
              "      background-color: #E2EBFA;\n",
              "      box-shadow: 0px 1px 2px rgba(60, 64, 67, 0.3), 0px 1px 3px 1px rgba(60, 64, 67, 0.15);\n",
              "      fill: #174EA6;\n",
              "    }\n",
              "\n",
              "    [theme=dark] .colab-df-convert {\n",
              "      background-color: #3B4455;\n",
              "      fill: #D2E3FC;\n",
              "    }\n",
              "\n",
              "    [theme=dark] .colab-df-convert:hover {\n",
              "      background-color: #434B5C;\n",
              "      box-shadow: 0px 1px 3px 1px rgba(0, 0, 0, 0.15);\n",
              "      filter: drop-shadow(0px 1px 2px rgba(0, 0, 0, 0.3));\n",
              "      fill: #FFFFFF;\n",
              "    }\n",
              "  </style>\n",
              "\n",
              "      <script>\n",
              "        const buttonEl =\n",
              "          document.querySelector('#df-06a5a0e3-13f2-4dc8-b09d-cd90832814ff button.colab-df-convert');\n",
              "        buttonEl.style.display =\n",
              "          google.colab.kernel.accessAllowed ? 'block' : 'none';\n",
              "\n",
              "        async function convertToInteractive(key) {\n",
              "          const element = document.querySelector('#df-06a5a0e3-13f2-4dc8-b09d-cd90832814ff');\n",
              "          const dataTable =\n",
              "            await google.colab.kernel.invokeFunction('convertToInteractive',\n",
              "                                                     [key], {});\n",
              "          if (!dataTable) return;\n",
              "\n",
              "          const docLinkHtml = 'Like what you see? Visit the ' +\n",
              "            '<a target=\"_blank\" href=https://colab.research.google.com/notebooks/data_table.ipynb>data table notebook</a>'\n",
              "            + ' to learn more about interactive tables.';\n",
              "          element.innerHTML = '';\n",
              "          dataTable['output_type'] = 'display_data';\n",
              "          await google.colab.output.renderOutput(dataTable, element);\n",
              "          const docLink = document.createElement('div');\n",
              "          docLink.innerHTML = docLinkHtml;\n",
              "          element.appendChild(docLink);\n",
              "        }\n",
              "      </script>\n",
              "    </div>\n",
              "  </div>\n",
              "  "
            ]
          },
          "metadata": {},
          "execution_count": 5
        }
      ],
      "source": [
        "# View last 5 rows Hint: Use tail() method\n",
        "data.tail()"
      ]
    },
    {
      "cell_type": "markdown",
      "metadata": {
        "id": "phPYdzpDtOSk"
      },
      "source": [
        "#### **Observations and Insights: **\n",
        "\n",
        "- Dataset has 7253 rows and 14 columns (features).\n",
        "- There's a lot of missing values - data preparation will be necessary.\n",
        "- S.No. is a sequential number per row (index).\n",
        "- Dataset is comprised of cars names (brand and model), city of location, year made, kilometers driven, fuel type, transmission type, ownership type, mileage, engine power, number of seats, new price and price."
      ]
    },
    {
      "cell_type": "markdown",
      "metadata": {
        "id": "T0h9uyJNVL3U"
      },
      "source": [
        "### **Let us check the data types and and missing values of each column** "
      ]
    },
    {
      "cell_type": "code",
      "execution_count": null,
      "metadata": {
        "id": "r1jWwTJiVL3V",
        "colab": {
          "base_uri": "https://localhost:8080/"
        },
        "outputId": "8bdbb74d-5549-4023-f0a8-b76147fc399d"
      },
      "outputs": [
        {
          "output_type": "stream",
          "name": "stdout",
          "text": [
            "<class 'pandas.core.frame.DataFrame'>\n",
            "RangeIndex: 7253 entries, 0 to 7252\n",
            "Data columns (total 14 columns):\n",
            " #   Column             Non-Null Count  Dtype  \n",
            "---  ------             --------------  -----  \n",
            " 0   S.No.              7253 non-null   int64  \n",
            " 1   Name               7253 non-null   object \n",
            " 2   Location           7253 non-null   object \n",
            " 3   Year               7253 non-null   int64  \n",
            " 4   Kilometers_Driven  7253 non-null   int64  \n",
            " 5   Fuel_Type          7253 non-null   object \n",
            " 6   Transmission       7253 non-null   object \n",
            " 7   Owner_Type         7253 non-null   object \n",
            " 8   Mileage            7251 non-null   float64\n",
            " 9   Engine             7207 non-null   float64\n",
            " 10  Power              7078 non-null   float64\n",
            " 11  Seats              7200 non-null   float64\n",
            " 12  New_price          1006 non-null   float64\n",
            " 13  Price              6019 non-null   float64\n",
            "dtypes: float64(6), int64(3), object(5)\n",
            "memory usage: 793.4+ KB\n"
          ]
        }
      ],
      "source": [
        "# Check the datatypes of each column. Hint: Use info() method\n",
        "data.info()"
      ]
    },
    {
      "cell_type": "code",
      "execution_count": null,
      "metadata": {
        "id": "7d0y0_sqVL3V",
        "colab": {
          "base_uri": "https://localhost:8080/"
        },
        "outputId": "fc854dd4-12b4-4fa3-cb00-241b9de22938"
      },
      "outputs": [
        {
          "output_type": "execute_result",
          "data": {
            "text/plain": [
              "S.No.                   0\n",
              "Name                    0\n",
              "Location                0\n",
              "Year                    0\n",
              "Kilometers_Driven       0\n",
              "Fuel_Type               0\n",
              "Transmission            0\n",
              "Owner_Type              0\n",
              "Mileage                 2\n",
              "Engine                 46\n",
              "Power                 175\n",
              "Seats                  53\n",
              "New_price            6247\n",
              "Price                1234\n",
              "dtype: int64"
            ]
          },
          "metadata": {},
          "execution_count": 7
        }
      ],
      "source": [
        "# Check total number of missing values of each column. Hint: Use isnull() method\n",
        "data.isnull().sum()"
      ]
    },
    {
      "cell_type": "markdown",
      "metadata": {
        "id": "YYEjK2P9VL3V"
      },
      "source": [
        "#### **Observations and Insights: **\n",
        "\n",
        "- Lots of missing values mainly for New_price and Price (which is what we're traying to predict)."
      ]
    },
    {
      "cell_type": "markdown",
      "metadata": {
        "id": "advlMcdfVL3V"
      },
      "source": [
        "We can observe that `S.No.` has no null values. Also the number of unique values are equal to the number of observations. So, `S.No.` looks like an index for the data entry and such a column would not be useful in providing any predictive power for our analysis. Hence it can be dropped."
      ]
    },
    {
      "cell_type": "code",
      "execution_count": null,
      "metadata": {
        "id": "7iOwET4BtOSk"
      },
      "outputs": [],
      "source": [
        "# Remove S.No. column from data. Hint: Use inplace = True\n",
        "data.drop('S.No.',inplace = True,axis=1)"
      ]
    },
    {
      "cell_type": "markdown",
      "metadata": {
        "id": "crnR9cphIrct"
      },
      "source": [
        "## **Exploratory Data Analysis**"
      ]
    },
    {
      "cell_type": "markdown",
      "metadata": {
        "id": "foDG3YDDtOSm"
      },
      "source": [
        "### **Let us now explore the summary statistics of numerical variables**"
      ]
    },
    {
      "cell_type": "code",
      "execution_count": null,
      "metadata": {
        "id": "gRtUSqXptOSm",
        "scrolled": true,
        "colab": {
          "base_uri": "https://localhost:8080/",
          "height": 300
        },
        "outputId": "0611d778-e963-484a-9d52-00047eebbb0e"
      },
      "outputs": [
        {
          "output_type": "execute_result",
          "data": {
            "text/plain": [
              "                    count          mean           std      min        25%  \\\n",
              "Year               7253.0   2013.365366      3.254421  1996.00   2011.000   \n",
              "Kilometers_Driven  7253.0  58699.063146  84427.720583   171.00  34000.000   \n",
              "Mileage            7251.0     18.141580      4.562197     0.00     15.170   \n",
              "Engine             7207.0   1616.573470    595.285137    72.00   1198.000   \n",
              "Power              7078.0    112.765214     53.493553    34.20     75.000   \n",
              "Seats              7200.0      5.280417      0.809277     2.00      5.000   \n",
              "New_price          1006.0     22.779692     27.759344     3.91      7.885   \n",
              "Price              6019.0      9.479468     11.187917     0.44      3.500   \n",
              "\n",
              "                        50%         75%         max  \n",
              "Year                2014.00   2016.0000     2019.00  \n",
              "Kilometers_Driven  53416.00  73000.0000  6500000.00  \n",
              "Mileage               18.16     21.1000       33.54  \n",
              "Engine              1493.00   1968.0000     5998.00  \n",
              "Power                 94.00    138.1000      616.00  \n",
              "Seats                  5.00      5.0000       10.00  \n",
              "New_price             11.57     26.0425      375.00  \n",
              "Price                  5.64      9.9500      160.00  "
            ],
            "text/html": [
              "\n",
              "  <div id=\"df-603f5929-aed0-41c3-b507-1876c1139870\">\n",
              "    <div class=\"colab-df-container\">\n",
              "      <div>\n",
              "<style scoped>\n",
              "    .dataframe tbody tr th:only-of-type {\n",
              "        vertical-align: middle;\n",
              "    }\n",
              "\n",
              "    .dataframe tbody tr th {\n",
              "        vertical-align: top;\n",
              "    }\n",
              "\n",
              "    .dataframe thead th {\n",
              "        text-align: right;\n",
              "    }\n",
              "</style>\n",
              "<table border=\"1\" class=\"dataframe\">\n",
              "  <thead>\n",
              "    <tr style=\"text-align: right;\">\n",
              "      <th></th>\n",
              "      <th>count</th>\n",
              "      <th>mean</th>\n",
              "      <th>std</th>\n",
              "      <th>min</th>\n",
              "      <th>25%</th>\n",
              "      <th>50%</th>\n",
              "      <th>75%</th>\n",
              "      <th>max</th>\n",
              "    </tr>\n",
              "  </thead>\n",
              "  <tbody>\n",
              "    <tr>\n",
              "      <th>Year</th>\n",
              "      <td>7253.0</td>\n",
              "      <td>2013.365366</td>\n",
              "      <td>3.254421</td>\n",
              "      <td>1996.00</td>\n",
              "      <td>2011.000</td>\n",
              "      <td>2014.00</td>\n",
              "      <td>2016.0000</td>\n",
              "      <td>2019.00</td>\n",
              "    </tr>\n",
              "    <tr>\n",
              "      <th>Kilometers_Driven</th>\n",
              "      <td>7253.0</td>\n",
              "      <td>58699.063146</td>\n",
              "      <td>84427.720583</td>\n",
              "      <td>171.00</td>\n",
              "      <td>34000.000</td>\n",
              "      <td>53416.00</td>\n",
              "      <td>73000.0000</td>\n",
              "      <td>6500000.00</td>\n",
              "    </tr>\n",
              "    <tr>\n",
              "      <th>Mileage</th>\n",
              "      <td>7251.0</td>\n",
              "      <td>18.141580</td>\n",
              "      <td>4.562197</td>\n",
              "      <td>0.00</td>\n",
              "      <td>15.170</td>\n",
              "      <td>18.16</td>\n",
              "      <td>21.1000</td>\n",
              "      <td>33.54</td>\n",
              "    </tr>\n",
              "    <tr>\n",
              "      <th>Engine</th>\n",
              "      <td>7207.0</td>\n",
              "      <td>1616.573470</td>\n",
              "      <td>595.285137</td>\n",
              "      <td>72.00</td>\n",
              "      <td>1198.000</td>\n",
              "      <td>1493.00</td>\n",
              "      <td>1968.0000</td>\n",
              "      <td>5998.00</td>\n",
              "    </tr>\n",
              "    <tr>\n",
              "      <th>Power</th>\n",
              "      <td>7078.0</td>\n",
              "      <td>112.765214</td>\n",
              "      <td>53.493553</td>\n",
              "      <td>34.20</td>\n",
              "      <td>75.000</td>\n",
              "      <td>94.00</td>\n",
              "      <td>138.1000</td>\n",
              "      <td>616.00</td>\n",
              "    </tr>\n",
              "    <tr>\n",
              "      <th>Seats</th>\n",
              "      <td>7200.0</td>\n",
              "      <td>5.280417</td>\n",
              "      <td>0.809277</td>\n",
              "      <td>2.00</td>\n",
              "      <td>5.000</td>\n",
              "      <td>5.00</td>\n",
              "      <td>5.0000</td>\n",
              "      <td>10.00</td>\n",
              "    </tr>\n",
              "    <tr>\n",
              "      <th>New_price</th>\n",
              "      <td>1006.0</td>\n",
              "      <td>22.779692</td>\n",
              "      <td>27.759344</td>\n",
              "      <td>3.91</td>\n",
              "      <td>7.885</td>\n",
              "      <td>11.57</td>\n",
              "      <td>26.0425</td>\n",
              "      <td>375.00</td>\n",
              "    </tr>\n",
              "    <tr>\n",
              "      <th>Price</th>\n",
              "      <td>6019.0</td>\n",
              "      <td>9.479468</td>\n",
              "      <td>11.187917</td>\n",
              "      <td>0.44</td>\n",
              "      <td>3.500</td>\n",
              "      <td>5.64</td>\n",
              "      <td>9.9500</td>\n",
              "      <td>160.00</td>\n",
              "    </tr>\n",
              "  </tbody>\n",
              "</table>\n",
              "</div>\n",
              "      <button class=\"colab-df-convert\" onclick=\"convertToInteractive('df-603f5929-aed0-41c3-b507-1876c1139870')\"\n",
              "              title=\"Convert this dataframe to an interactive table.\"\n",
              "              style=\"display:none;\">\n",
              "        \n",
              "  <svg xmlns=\"http://www.w3.org/2000/svg\" height=\"24px\"viewBox=\"0 0 24 24\"\n",
              "       width=\"24px\">\n",
              "    <path d=\"M0 0h24v24H0V0z\" fill=\"none\"/>\n",
              "    <path d=\"M18.56 5.44l.94 2.06.94-2.06 2.06-.94-2.06-.94-.94-2.06-.94 2.06-2.06.94zm-11 1L8.5 8.5l.94-2.06 2.06-.94-2.06-.94L8.5 2.5l-.94 2.06-2.06.94zm10 10l.94 2.06.94-2.06 2.06-.94-2.06-.94-.94-2.06-.94 2.06-2.06.94z\"/><path d=\"M17.41 7.96l-1.37-1.37c-.4-.4-.92-.59-1.43-.59-.52 0-1.04.2-1.43.59L10.3 9.45l-7.72 7.72c-.78.78-.78 2.05 0 2.83L4 21.41c.39.39.9.59 1.41.59.51 0 1.02-.2 1.41-.59l7.78-7.78 2.81-2.81c.8-.78.8-2.07 0-2.86zM5.41 20L4 18.59l7.72-7.72 1.47 1.35L5.41 20z\"/>\n",
              "  </svg>\n",
              "      </button>\n",
              "      \n",
              "  <style>\n",
              "    .colab-df-container {\n",
              "      display:flex;\n",
              "      flex-wrap:wrap;\n",
              "      gap: 12px;\n",
              "    }\n",
              "\n",
              "    .colab-df-convert {\n",
              "      background-color: #E8F0FE;\n",
              "      border: none;\n",
              "      border-radius: 50%;\n",
              "      cursor: pointer;\n",
              "      display: none;\n",
              "      fill: #1967D2;\n",
              "      height: 32px;\n",
              "      padding: 0 0 0 0;\n",
              "      width: 32px;\n",
              "    }\n",
              "\n",
              "    .colab-df-convert:hover {\n",
              "      background-color: #E2EBFA;\n",
              "      box-shadow: 0px 1px 2px rgba(60, 64, 67, 0.3), 0px 1px 3px 1px rgba(60, 64, 67, 0.15);\n",
              "      fill: #174EA6;\n",
              "    }\n",
              "\n",
              "    [theme=dark] .colab-df-convert {\n",
              "      background-color: #3B4455;\n",
              "      fill: #D2E3FC;\n",
              "    }\n",
              "\n",
              "    [theme=dark] .colab-df-convert:hover {\n",
              "      background-color: #434B5C;\n",
              "      box-shadow: 0px 1px 3px 1px rgba(0, 0, 0, 0.15);\n",
              "      filter: drop-shadow(0px 1px 2px rgba(0, 0, 0, 0.3));\n",
              "      fill: #FFFFFF;\n",
              "    }\n",
              "  </style>\n",
              "\n",
              "      <script>\n",
              "        const buttonEl =\n",
              "          document.querySelector('#df-603f5929-aed0-41c3-b507-1876c1139870 button.colab-df-convert');\n",
              "        buttonEl.style.display =\n",
              "          google.colab.kernel.accessAllowed ? 'block' : 'none';\n",
              "\n",
              "        async function convertToInteractive(key) {\n",
              "          const element = document.querySelector('#df-603f5929-aed0-41c3-b507-1876c1139870');\n",
              "          const dataTable =\n",
              "            await google.colab.kernel.invokeFunction('convertToInteractive',\n",
              "                                                     [key], {});\n",
              "          if (!dataTable) return;\n",
              "\n",
              "          const docLinkHtml = 'Like what you see? Visit the ' +\n",
              "            '<a target=\"_blank\" href=https://colab.research.google.com/notebooks/data_table.ipynb>data table notebook</a>'\n",
              "            + ' to learn more about interactive tables.';\n",
              "          element.innerHTML = '';\n",
              "          dataTable['output_type'] = 'display_data';\n",
              "          await google.colab.output.renderOutput(dataTable, element);\n",
              "          const docLink = document.createElement('div');\n",
              "          docLink.innerHTML = docLinkHtml;\n",
              "          element.appendChild(docLink);\n",
              "        }\n",
              "      </script>\n",
              "    </div>\n",
              "  </div>\n",
              "  "
            ]
          },
          "metadata": {},
          "execution_count": 9
        }
      ],
      "source": [
        "# Explore basic summary statistics of numeric variables. Hint: Use describe() method.\n",
        "data.describe().T"
      ]
    },
    {
      "cell_type": "markdown",
      "metadata": {
        "id": "L_1gUwvctOSm"
      },
      "source": [
        "#### **Observations and Insights: **\n",
        "\n",
        "- Car year ranges from 1996 to 2019.\n",
        "- Km driven ranges from 171 to 6.5M (this doesn't seem right).\n",
        "- Mileage ranges from 0 (it doesn't seem right) to 33.54.\n",
        "- Power ranges from ~34.2 to 616.\n",
        "- Seats ranges from 2 to 10.\n",
        "- Prince ranges from 0.44 to 160 (in INR 100,000)."
      ]
    },
    {
      "cell_type": "markdown",
      "metadata": {
        "id": "FE62g5aoVL3W"
      },
      "source": [
        "### **Let us also explore the summary statistics of all categorical variables and the number of unique observations in each category**"
      ]
    },
    {
      "cell_type": "code",
      "execution_count": null,
      "metadata": {
        "id": "SKOwkEHItOSm",
        "colab": {
          "base_uri": "https://localhost:8080/",
          "height": 206
        },
        "outputId": "0b9c7730-15c4-4ef7-a1c6-d42caccf9db1"
      },
      "outputs": [
        {
          "output_type": "execute_result",
          "data": {
            "text/plain": [
              "             count unique                     top  freq\n",
              "Name          7253   2041  Mahindra XUV500 W8 2WD    55\n",
              "Location      7253     11                  Mumbai   949\n",
              "Fuel_Type     7253      5                  Diesel  3852\n",
              "Transmission  7253      2                  Manual  5204\n",
              "Owner_Type    7253      4                   First  5952"
            ],
            "text/html": [
              "\n",
              "  <div id=\"df-427f2f81-b483-4e08-92ee-efc3c9000133\">\n",
              "    <div class=\"colab-df-container\">\n",
              "      <div>\n",
              "<style scoped>\n",
              "    .dataframe tbody tr th:only-of-type {\n",
              "        vertical-align: middle;\n",
              "    }\n",
              "\n",
              "    .dataframe tbody tr th {\n",
              "        vertical-align: top;\n",
              "    }\n",
              "\n",
              "    .dataframe thead th {\n",
              "        text-align: right;\n",
              "    }\n",
              "</style>\n",
              "<table border=\"1\" class=\"dataframe\">\n",
              "  <thead>\n",
              "    <tr style=\"text-align: right;\">\n",
              "      <th></th>\n",
              "      <th>count</th>\n",
              "      <th>unique</th>\n",
              "      <th>top</th>\n",
              "      <th>freq</th>\n",
              "    </tr>\n",
              "  </thead>\n",
              "  <tbody>\n",
              "    <tr>\n",
              "      <th>Name</th>\n",
              "      <td>7253</td>\n",
              "      <td>2041</td>\n",
              "      <td>Mahindra XUV500 W8 2WD</td>\n",
              "      <td>55</td>\n",
              "    </tr>\n",
              "    <tr>\n",
              "      <th>Location</th>\n",
              "      <td>7253</td>\n",
              "      <td>11</td>\n",
              "      <td>Mumbai</td>\n",
              "      <td>949</td>\n",
              "    </tr>\n",
              "    <tr>\n",
              "      <th>Fuel_Type</th>\n",
              "      <td>7253</td>\n",
              "      <td>5</td>\n",
              "      <td>Diesel</td>\n",
              "      <td>3852</td>\n",
              "    </tr>\n",
              "    <tr>\n",
              "      <th>Transmission</th>\n",
              "      <td>7253</td>\n",
              "      <td>2</td>\n",
              "      <td>Manual</td>\n",
              "      <td>5204</td>\n",
              "    </tr>\n",
              "    <tr>\n",
              "      <th>Owner_Type</th>\n",
              "      <td>7253</td>\n",
              "      <td>4</td>\n",
              "      <td>First</td>\n",
              "      <td>5952</td>\n",
              "    </tr>\n",
              "  </tbody>\n",
              "</table>\n",
              "</div>\n",
              "      <button class=\"colab-df-convert\" onclick=\"convertToInteractive('df-427f2f81-b483-4e08-92ee-efc3c9000133')\"\n",
              "              title=\"Convert this dataframe to an interactive table.\"\n",
              "              style=\"display:none;\">\n",
              "        \n",
              "  <svg xmlns=\"http://www.w3.org/2000/svg\" height=\"24px\"viewBox=\"0 0 24 24\"\n",
              "       width=\"24px\">\n",
              "    <path d=\"M0 0h24v24H0V0z\" fill=\"none\"/>\n",
              "    <path d=\"M18.56 5.44l.94 2.06.94-2.06 2.06-.94-2.06-.94-.94-2.06-.94 2.06-2.06.94zm-11 1L8.5 8.5l.94-2.06 2.06-.94-2.06-.94L8.5 2.5l-.94 2.06-2.06.94zm10 10l.94 2.06.94-2.06 2.06-.94-2.06-.94-.94-2.06-.94 2.06-2.06.94z\"/><path d=\"M17.41 7.96l-1.37-1.37c-.4-.4-.92-.59-1.43-.59-.52 0-1.04.2-1.43.59L10.3 9.45l-7.72 7.72c-.78.78-.78 2.05 0 2.83L4 21.41c.39.39.9.59 1.41.59.51 0 1.02-.2 1.41-.59l7.78-7.78 2.81-2.81c.8-.78.8-2.07 0-2.86zM5.41 20L4 18.59l7.72-7.72 1.47 1.35L5.41 20z\"/>\n",
              "  </svg>\n",
              "      </button>\n",
              "      \n",
              "  <style>\n",
              "    .colab-df-container {\n",
              "      display:flex;\n",
              "      flex-wrap:wrap;\n",
              "      gap: 12px;\n",
              "    }\n",
              "\n",
              "    .colab-df-convert {\n",
              "      background-color: #E8F0FE;\n",
              "      border: none;\n",
              "      border-radius: 50%;\n",
              "      cursor: pointer;\n",
              "      display: none;\n",
              "      fill: #1967D2;\n",
              "      height: 32px;\n",
              "      padding: 0 0 0 0;\n",
              "      width: 32px;\n",
              "    }\n",
              "\n",
              "    .colab-df-convert:hover {\n",
              "      background-color: #E2EBFA;\n",
              "      box-shadow: 0px 1px 2px rgba(60, 64, 67, 0.3), 0px 1px 3px 1px rgba(60, 64, 67, 0.15);\n",
              "      fill: #174EA6;\n",
              "    }\n",
              "\n",
              "    [theme=dark] .colab-df-convert {\n",
              "      background-color: #3B4455;\n",
              "      fill: #D2E3FC;\n",
              "    }\n",
              "\n",
              "    [theme=dark] .colab-df-convert:hover {\n",
              "      background-color: #434B5C;\n",
              "      box-shadow: 0px 1px 3px 1px rgba(0, 0, 0, 0.15);\n",
              "      filter: drop-shadow(0px 1px 2px rgba(0, 0, 0, 0.3));\n",
              "      fill: #FFFFFF;\n",
              "    }\n",
              "  </style>\n",
              "\n",
              "      <script>\n",
              "        const buttonEl =\n",
              "          document.querySelector('#df-427f2f81-b483-4e08-92ee-efc3c9000133 button.colab-df-convert');\n",
              "        buttonEl.style.display =\n",
              "          google.colab.kernel.accessAllowed ? 'block' : 'none';\n",
              "\n",
              "        async function convertToInteractive(key) {\n",
              "          const element = document.querySelector('#df-427f2f81-b483-4e08-92ee-efc3c9000133');\n",
              "          const dataTable =\n",
              "            await google.colab.kernel.invokeFunction('convertToInteractive',\n",
              "                                                     [key], {});\n",
              "          if (!dataTable) return;\n",
              "\n",
              "          const docLinkHtml = 'Like what you see? Visit the ' +\n",
              "            '<a target=\"_blank\" href=https://colab.research.google.com/notebooks/data_table.ipynb>data table notebook</a>'\n",
              "            + ' to learn more about interactive tables.';\n",
              "          element.innerHTML = '';\n",
              "          dataTable['output_type'] = 'display_data';\n",
              "          await google.colab.output.renderOutput(dataTable, element);\n",
              "          const docLink = document.createElement('div');\n",
              "          docLink.innerHTML = docLinkHtml;\n",
              "          element.appendChild(docLink);\n",
              "        }\n",
              "      </script>\n",
              "    </div>\n",
              "  </div>\n",
              "  "
            ]
          },
          "metadata": {},
          "execution_count": 10
        }
      ],
      "source": [
        "# Explore basic summary statistics of categorical variables. Hint: Use the argument include=['object'] \n",
        "data.describe(include=['object']).T"
      ]
    },
    {
      "cell_type": "markdown",
      "metadata": {
        "id": "EaSIWEHUtOSn"
      },
      "source": [
        "**Number of unique observations in each category**"
      ]
    },
    {
      "cell_type": "code",
      "execution_count": null,
      "metadata": {
        "id": "IKOWSKhqVL3X",
        "scrolled": true,
        "colab": {
          "base_uri": "https://localhost:8080/"
        },
        "outputId": "a8f5aa3e-9276-4316-93c5-4e81d1ac5c2b"
      },
      "outputs": [
        {
          "output_type": "stream",
          "name": "stdout",
          "text": [
            "For column: Name\n",
            "Mahindra XUV500 W8 2WD                  55\n",
            "Maruti Swift VDI                        49\n",
            "Maruti Swift Dzire VDI                  42\n",
            "Honda City 1.5 S MT                     39\n",
            "Maruti Swift VDI BSIV                   37\n",
            "                                        ..\n",
            "Chevrolet Beat LT Option                 1\n",
            "Skoda Rapid 1.6 MPI AT Elegance Plus     1\n",
            "Ford EcoSport 1.5 TDCi Ambiente          1\n",
            "Hyundai i10 Magna 1.1 iTech SE           1\n",
            "Hyundai Elite i20 Magna Plus             1\n",
            "Name: Name, Length: 2041, dtype: int64\n",
            "--------------------------------------------------\n",
            "For column: Location\n",
            "Mumbai        949\n",
            "Hyderabad     876\n",
            "Coimbatore    772\n",
            "Kochi         772\n",
            "Pune          765\n",
            "Delhi         660\n",
            "Kolkata       654\n",
            "Chennai       591\n",
            "Jaipur        499\n",
            "Bangalore     440\n",
            "Ahmedabad     275\n",
            "Name: Location, dtype: int64\n",
            "--------------------------------------------------\n",
            "For column: Fuel_Type\n",
            "Diesel      3852\n",
            "Petrol      3325\n",
            "CNG           62\n",
            "LPG           12\n",
            "Electric       2\n",
            "Name: Fuel_Type, dtype: int64\n",
            "--------------------------------------------------\n",
            "For column: Transmission\n",
            "Manual       5204\n",
            "Automatic    2049\n",
            "Name: Transmission, dtype: int64\n",
            "--------------------------------------------------\n",
            "For column: Owner_Type\n",
            "First             5952\n",
            "Second            1152\n",
            "Third              137\n",
            "Fourth & Above      12\n",
            "Name: Owner_Type, dtype: int64\n",
            "--------------------------------------------------\n"
          ]
        }
      ],
      "source": [
        "cat_cols=data.select_dtypes(include=['object']).columns\n",
        "\n",
        "for column in cat_cols:\n",
        "    print(\"For column:\",column)\n",
        "    print(data[column].value_counts())\n",
        "    print('-'*50)"
      ]
    },
    {
      "cell_type": "markdown",
      "metadata": {
        "id": "K8ck0A1ltOSn"
      },
      "source": [
        "#### **Observations and Insights: **\n",
        "\n",
        "- There's no missing values for categorical variables.\n",
        "- Observations look neat for categories."
      ]
    },
    {
      "cell_type": "markdown",
      "metadata": {
        "id": "E1XK56IlVL3X"
      },
      "source": [
        "**Think About It**: \n",
        "\n",
        "- We could observe from summary statistics that kilometers_driven has extreme values. Can we look at the manufactured year for cars with extreme values for kilometers_driven? \n",
        "- Also, we could observe the feature mileage has values zero. Can the mileage of a car be zero?"
      ]
    },
    {
      "cell_type": "markdown",
      "metadata": {
        "id": "xT4ddKw_VL3X"
      },
      "source": [
        "**Let's explore the two points mentioned above**"
      ]
    },
    {
      "cell_type": "markdown",
      "metadata": {
        "id": "V5IwjyYstOSn"
      },
      "source": [
        "**Check Kilometers_Driven extreme values**"
      ]
    },
    {
      "cell_type": "code",
      "execution_count": null,
      "metadata": {
        "id": "HqsfH-VFtOSo",
        "scrolled": true,
        "colab": {
          "base_uri": "https://localhost:8080/",
          "height": 363
        },
        "outputId": "8dc37242-527c-4bd6-9b09-2e3c56c1f4ce"
      },
      "outputs": [
        {
          "output_type": "execute_result",
          "data": {
            "text/plain": [
              "                                                 Name   Location  Year  \\\n",
              "2328                        BMW X5 xDrive 30d M Sport    Chennai  2017   \n",
              "340            Skoda Octavia Ambition Plus 2.0 TDI AT    Kolkata  2013   \n",
              "1860                 Volkswagen Vento Diesel Highline    Chennai  2013   \n",
              "358                             Hyundai i10 Magna 1.2    Chennai  2009   \n",
              "2823  Volkswagen Jetta 2013-2015 2.0L TDI Highline AT    Chennai  2015   \n",
              "3092                             Honda City i VTEC SV    Kolkata  2015   \n",
              "4491                   Hyundai i20 Magna Optional 1.2  Bangalore  2013   \n",
              "6921                      Maruti Swift Dzire Tour LDI     Jaipur  2012   \n",
              "3649                                   Tata Indigo LS     Jaipur  2008   \n",
              "1528      Toyota Innova 2.5 G (Diesel) 8 Seater BS IV  Hyderabad  2005   \n",
              "\n",
              "      Kilometers_Driven Fuel_Type Transmission Owner_Type  Mileage  Engine  \\\n",
              "2328            6500000    Diesel    Automatic      First    15.97  2993.0   \n",
              "340              775000    Diesel    Automatic      First    19.30  1968.0   \n",
              "1860             720000    Diesel       Manual      First    20.54  1598.0   \n",
              "358              620000    Petrol       Manual      First    20.36  1197.0   \n",
              "2823             480000    Diesel    Automatic      First    16.96  1968.0   \n",
              "3092             480000    Petrol       Manual      First    17.40  1497.0   \n",
              "4491             445000    Petrol       Manual      First    18.50  1197.0   \n",
              "6921             350000    Diesel       Manual      First    23.40  1248.0   \n",
              "3649             300000    Diesel       Manual      First    17.00  1405.0   \n",
              "1528             299322    Diesel       Manual      First    12.80  2494.0   \n",
              "\n",
              "       Power  Seats  New_price  Price  \n",
              "2328  258.00    5.0        NaN  65.00  \n",
              "340   141.00    5.0        NaN   7.50  \n",
              "1860  103.60    5.0        NaN   5.90  \n",
              "358    78.90    5.0        NaN   2.70  \n",
              "2823  138.03    5.0        NaN  13.00  \n",
              "3092  117.30    5.0        NaN   5.00  \n",
              "4491   82.90    5.0        NaN   4.45  \n",
              "6921   74.00    5.0        NaN    NaN  \n",
              "3649   70.00    5.0        NaN   1.00  \n",
              "1528  102.00    8.0        NaN   4.00  "
            ],
            "text/html": [
              "\n",
              "  <div id=\"df-9a99df01-1e34-4923-973f-94571695edc4\">\n",
              "    <div class=\"colab-df-container\">\n",
              "      <div>\n",
              "<style scoped>\n",
              "    .dataframe tbody tr th:only-of-type {\n",
              "        vertical-align: middle;\n",
              "    }\n",
              "\n",
              "    .dataframe tbody tr th {\n",
              "        vertical-align: top;\n",
              "    }\n",
              "\n",
              "    .dataframe thead th {\n",
              "        text-align: right;\n",
              "    }\n",
              "</style>\n",
              "<table border=\"1\" class=\"dataframe\">\n",
              "  <thead>\n",
              "    <tr style=\"text-align: right;\">\n",
              "      <th></th>\n",
              "      <th>Name</th>\n",
              "      <th>Location</th>\n",
              "      <th>Year</th>\n",
              "      <th>Kilometers_Driven</th>\n",
              "      <th>Fuel_Type</th>\n",
              "      <th>Transmission</th>\n",
              "      <th>Owner_Type</th>\n",
              "      <th>Mileage</th>\n",
              "      <th>Engine</th>\n",
              "      <th>Power</th>\n",
              "      <th>Seats</th>\n",
              "      <th>New_price</th>\n",
              "      <th>Price</th>\n",
              "    </tr>\n",
              "  </thead>\n",
              "  <tbody>\n",
              "    <tr>\n",
              "      <th>2328</th>\n",
              "      <td>BMW X5 xDrive 30d M Sport</td>\n",
              "      <td>Chennai</td>\n",
              "      <td>2017</td>\n",
              "      <td>6500000</td>\n",
              "      <td>Diesel</td>\n",
              "      <td>Automatic</td>\n",
              "      <td>First</td>\n",
              "      <td>15.97</td>\n",
              "      <td>2993.0</td>\n",
              "      <td>258.00</td>\n",
              "      <td>5.0</td>\n",
              "      <td>NaN</td>\n",
              "      <td>65.00</td>\n",
              "    </tr>\n",
              "    <tr>\n",
              "      <th>340</th>\n",
              "      <td>Skoda Octavia Ambition Plus 2.0 TDI AT</td>\n",
              "      <td>Kolkata</td>\n",
              "      <td>2013</td>\n",
              "      <td>775000</td>\n",
              "      <td>Diesel</td>\n",
              "      <td>Automatic</td>\n",
              "      <td>First</td>\n",
              "      <td>19.30</td>\n",
              "      <td>1968.0</td>\n",
              "      <td>141.00</td>\n",
              "      <td>5.0</td>\n",
              "      <td>NaN</td>\n",
              "      <td>7.50</td>\n",
              "    </tr>\n",
              "    <tr>\n",
              "      <th>1860</th>\n",
              "      <td>Volkswagen Vento Diesel Highline</td>\n",
              "      <td>Chennai</td>\n",
              "      <td>2013</td>\n",
              "      <td>720000</td>\n",
              "      <td>Diesel</td>\n",
              "      <td>Manual</td>\n",
              "      <td>First</td>\n",
              "      <td>20.54</td>\n",
              "      <td>1598.0</td>\n",
              "      <td>103.60</td>\n",
              "      <td>5.0</td>\n",
              "      <td>NaN</td>\n",
              "      <td>5.90</td>\n",
              "    </tr>\n",
              "    <tr>\n",
              "      <th>358</th>\n",
              "      <td>Hyundai i10 Magna 1.2</td>\n",
              "      <td>Chennai</td>\n",
              "      <td>2009</td>\n",
              "      <td>620000</td>\n",
              "      <td>Petrol</td>\n",
              "      <td>Manual</td>\n",
              "      <td>First</td>\n",
              "      <td>20.36</td>\n",
              "      <td>1197.0</td>\n",
              "      <td>78.90</td>\n",
              "      <td>5.0</td>\n",
              "      <td>NaN</td>\n",
              "      <td>2.70</td>\n",
              "    </tr>\n",
              "    <tr>\n",
              "      <th>2823</th>\n",
              "      <td>Volkswagen Jetta 2013-2015 2.0L TDI Highline AT</td>\n",
              "      <td>Chennai</td>\n",
              "      <td>2015</td>\n",
              "      <td>480000</td>\n",
              "      <td>Diesel</td>\n",
              "      <td>Automatic</td>\n",
              "      <td>First</td>\n",
              "      <td>16.96</td>\n",
              "      <td>1968.0</td>\n",
              "      <td>138.03</td>\n",
              "      <td>5.0</td>\n",
              "      <td>NaN</td>\n",
              "      <td>13.00</td>\n",
              "    </tr>\n",
              "    <tr>\n",
              "      <th>3092</th>\n",
              "      <td>Honda City i VTEC SV</td>\n",
              "      <td>Kolkata</td>\n",
              "      <td>2015</td>\n",
              "      <td>480000</td>\n",
              "      <td>Petrol</td>\n",
              "      <td>Manual</td>\n",
              "      <td>First</td>\n",
              "      <td>17.40</td>\n",
              "      <td>1497.0</td>\n",
              "      <td>117.30</td>\n",
              "      <td>5.0</td>\n",
              "      <td>NaN</td>\n",
              "      <td>5.00</td>\n",
              "    </tr>\n",
              "    <tr>\n",
              "      <th>4491</th>\n",
              "      <td>Hyundai i20 Magna Optional 1.2</td>\n",
              "      <td>Bangalore</td>\n",
              "      <td>2013</td>\n",
              "      <td>445000</td>\n",
              "      <td>Petrol</td>\n",
              "      <td>Manual</td>\n",
              "      <td>First</td>\n",
              "      <td>18.50</td>\n",
              "      <td>1197.0</td>\n",
              "      <td>82.90</td>\n",
              "      <td>5.0</td>\n",
              "      <td>NaN</td>\n",
              "      <td>4.45</td>\n",
              "    </tr>\n",
              "    <tr>\n",
              "      <th>6921</th>\n",
              "      <td>Maruti Swift Dzire Tour LDI</td>\n",
              "      <td>Jaipur</td>\n",
              "      <td>2012</td>\n",
              "      <td>350000</td>\n",
              "      <td>Diesel</td>\n",
              "      <td>Manual</td>\n",
              "      <td>First</td>\n",
              "      <td>23.40</td>\n",
              "      <td>1248.0</td>\n",
              "      <td>74.00</td>\n",
              "      <td>5.0</td>\n",
              "      <td>NaN</td>\n",
              "      <td>NaN</td>\n",
              "    </tr>\n",
              "    <tr>\n",
              "      <th>3649</th>\n",
              "      <td>Tata Indigo LS</td>\n",
              "      <td>Jaipur</td>\n",
              "      <td>2008</td>\n",
              "      <td>300000</td>\n",
              "      <td>Diesel</td>\n",
              "      <td>Manual</td>\n",
              "      <td>First</td>\n",
              "      <td>17.00</td>\n",
              "      <td>1405.0</td>\n",
              "      <td>70.00</td>\n",
              "      <td>5.0</td>\n",
              "      <td>NaN</td>\n",
              "      <td>1.00</td>\n",
              "    </tr>\n",
              "    <tr>\n",
              "      <th>1528</th>\n",
              "      <td>Toyota Innova 2.5 G (Diesel) 8 Seater BS IV</td>\n",
              "      <td>Hyderabad</td>\n",
              "      <td>2005</td>\n",
              "      <td>299322</td>\n",
              "      <td>Diesel</td>\n",
              "      <td>Manual</td>\n",
              "      <td>First</td>\n",
              "      <td>12.80</td>\n",
              "      <td>2494.0</td>\n",
              "      <td>102.00</td>\n",
              "      <td>8.0</td>\n",
              "      <td>NaN</td>\n",
              "      <td>4.00</td>\n",
              "    </tr>\n",
              "  </tbody>\n",
              "</table>\n",
              "</div>\n",
              "      <button class=\"colab-df-convert\" onclick=\"convertToInteractive('df-9a99df01-1e34-4923-973f-94571695edc4')\"\n",
              "              title=\"Convert this dataframe to an interactive table.\"\n",
              "              style=\"display:none;\">\n",
              "        \n",
              "  <svg xmlns=\"http://www.w3.org/2000/svg\" height=\"24px\"viewBox=\"0 0 24 24\"\n",
              "       width=\"24px\">\n",
              "    <path d=\"M0 0h24v24H0V0z\" fill=\"none\"/>\n",
              "    <path d=\"M18.56 5.44l.94 2.06.94-2.06 2.06-.94-2.06-.94-.94-2.06-.94 2.06-2.06.94zm-11 1L8.5 8.5l.94-2.06 2.06-.94-2.06-.94L8.5 2.5l-.94 2.06-2.06.94zm10 10l.94 2.06.94-2.06 2.06-.94-2.06-.94-.94-2.06-.94 2.06-2.06.94z\"/><path d=\"M17.41 7.96l-1.37-1.37c-.4-.4-.92-.59-1.43-.59-.52 0-1.04.2-1.43.59L10.3 9.45l-7.72 7.72c-.78.78-.78 2.05 0 2.83L4 21.41c.39.39.9.59 1.41.59.51 0 1.02-.2 1.41-.59l7.78-7.78 2.81-2.81c.8-.78.8-2.07 0-2.86zM5.41 20L4 18.59l7.72-7.72 1.47 1.35L5.41 20z\"/>\n",
              "  </svg>\n",
              "      </button>\n",
              "      \n",
              "  <style>\n",
              "    .colab-df-container {\n",
              "      display:flex;\n",
              "      flex-wrap:wrap;\n",
              "      gap: 12px;\n",
              "    }\n",
              "\n",
              "    .colab-df-convert {\n",
              "      background-color: #E8F0FE;\n",
              "      border: none;\n",
              "      border-radius: 50%;\n",
              "      cursor: pointer;\n",
              "      display: none;\n",
              "      fill: #1967D2;\n",
              "      height: 32px;\n",
              "      padding: 0 0 0 0;\n",
              "      width: 32px;\n",
              "    }\n",
              "\n",
              "    .colab-df-convert:hover {\n",
              "      background-color: #E2EBFA;\n",
              "      box-shadow: 0px 1px 2px rgba(60, 64, 67, 0.3), 0px 1px 3px 1px rgba(60, 64, 67, 0.15);\n",
              "      fill: #174EA6;\n",
              "    }\n",
              "\n",
              "    [theme=dark] .colab-df-convert {\n",
              "      background-color: #3B4455;\n",
              "      fill: #D2E3FC;\n",
              "    }\n",
              "\n",
              "    [theme=dark] .colab-df-convert:hover {\n",
              "      background-color: #434B5C;\n",
              "      box-shadow: 0px 1px 3px 1px rgba(0, 0, 0, 0.15);\n",
              "      filter: drop-shadow(0px 1px 2px rgba(0, 0, 0, 0.3));\n",
              "      fill: #FFFFFF;\n",
              "    }\n",
              "  </style>\n",
              "\n",
              "      <script>\n",
              "        const buttonEl =\n",
              "          document.querySelector('#df-9a99df01-1e34-4923-973f-94571695edc4 button.colab-df-convert');\n",
              "        buttonEl.style.display =\n",
              "          google.colab.kernel.accessAllowed ? 'block' : 'none';\n",
              "\n",
              "        async function convertToInteractive(key) {\n",
              "          const element = document.querySelector('#df-9a99df01-1e34-4923-973f-94571695edc4');\n",
              "          const dataTable =\n",
              "            await google.colab.kernel.invokeFunction('convertToInteractive',\n",
              "                                                     [key], {});\n",
              "          if (!dataTable) return;\n",
              "\n",
              "          const docLinkHtml = 'Like what you see? Visit the ' +\n",
              "            '<a target=\"_blank\" href=https://colab.research.google.com/notebooks/data_table.ipynb>data table notebook</a>'\n",
              "            + ' to learn more about interactive tables.';\n",
              "          element.innerHTML = '';\n",
              "          dataTable['output_type'] = 'display_data';\n",
              "          await google.colab.output.renderOutput(dataTable, element);\n",
              "          const docLink = document.createElement('div');\n",
              "          docLink.innerHTML = docLinkHtml;\n",
              "          element.appendChild(docLink);\n",
              "        }\n",
              "      </script>\n",
              "    </div>\n",
              "  </div>\n",
              "  "
            ]
          },
          "metadata": {},
          "execution_count": 12
        }
      ],
      "source": [
        "#Sort the dataset in 'descending' order using the feature 'Kilometers_Driven'\n",
        "data.sort_values('Kilometers_Driven',ascending=False).head(10)"
      ]
    },
    {
      "cell_type": "markdown",
      "metadata": {
        "id": "HxhehTWQtOSo"
      },
      "source": [
        "#### **Observations and Insights: **\n",
        "\n",
        "- 6.5M km for a 2017 doesn't seem right.\n",
        "- Other rows seem right."
      ]
    },
    {
      "cell_type": "markdown",
      "metadata": {
        "id": "rLtq9uqgVL3X"
      },
      "source": [
        "In the first row, a car manufactured as recently as 2017 having been driven 6500000 km is almost impossible. It can be considered as data entry error and so we can remove this value/entry from data."
      ]
    },
    {
      "cell_type": "code",
      "execution_count": null,
      "metadata": {
        "id": "gA65oQhoIrcx"
      },
      "outputs": [],
      "source": [
        "# Removing the 'row' at index 2328 from the data. Hint: use the argument inplace=True\n",
        "data.drop(2328, axis=0, inplace=True)"
      ]
    },
    {
      "cell_type": "markdown",
      "metadata": {
        "id": "fDIBa5OFtOSo"
      },
      "source": [
        "**Check Mileage extreme values**"
      ]
    },
    {
      "cell_type": "code",
      "execution_count": null,
      "metadata": {
        "id": "0zdqBCD-tOSp",
        "scrolled": true,
        "colab": {
          "base_uri": "https://localhost:8080/",
          "height": 363
        },
        "outputId": "cb8c297b-a483-4a23-d45f-b401ca6a0d74"
      },
      "outputs": [
        {
          "output_type": "execute_result",
          "data": {
            "text/plain": [
              "                                      Name    Location  Year  \\\n",
              "2597                Hyundai Santro Xing XP        Pune  2007   \n",
              "2343                     Hyundai Santro AT   Hyderabad  2006   \n",
              "5270                    Honda City 1.5 GXI   Bangalore  2002   \n",
              "424   Volkswagen Jetta 2007-2011 1.9 L TDI   Hyderabad  2010   \n",
              "6857        Land Rover Freelander 2 TD4 SE      Mumbai  2011   \n",
              "443          Hyundai Santro GLS I - Euro I  Coimbatore  2012   \n",
              "5119                Hyundai Santro Xing XP     Kolkata  2008   \n",
              "5022        Land Rover Freelander 2 TD4 SE   Hyderabad  2013   \n",
              "5016       Land Rover Freelander 2 TD4 HSE       Delhi  2013   \n",
              "2542       Hyundai Santro GLS II - Euro II   Bangalore  2011   \n",
              "\n",
              "      Kilometers_Driven Fuel_Type Transmission Owner_Type  Mileage  Engine  \\\n",
              "2597              70000    Petrol       Manual      First      0.0  1086.0   \n",
              "2343              74483    Petrol    Automatic      First      0.0   999.0   \n",
              "5270              53000    Petrol       Manual     Second      0.0     NaN   \n",
              "424               42021    Diesel       Manual      First      0.0  1968.0   \n",
              "6857              87000    Diesel    Automatic      First      0.0  2179.0   \n",
              "443               50243    Petrol       Manual      First      0.0  1086.0   \n",
              "5119              45500    Petrol       Manual     Second      0.0  1086.0   \n",
              "5022              46000    Diesel    Automatic     Second      0.0  2179.0   \n",
              "5016              72000    Diesel    Automatic      First      0.0  2179.0   \n",
              "2542              65000    Petrol       Manual     Second      0.0     NaN   \n",
              "\n",
              "      Power  Seats  New_price  Price  \n",
              "2597    NaN    5.0        NaN   1.12  \n",
              "2343    NaN    5.0        NaN   2.30  \n",
              "5270    NaN    NaN        NaN   1.85  \n",
              "424     NaN    5.0        NaN   5.45  \n",
              "6857  115.0    5.0        NaN    NaN  \n",
              "443     NaN    5.0        NaN   3.35  \n",
              "5119    NaN    5.0        NaN   1.17  \n",
              "5022  115.0    5.0        NaN  26.00  \n",
              "5016  115.0    5.0        NaN  15.50  \n",
              "2542    NaN    NaN        NaN   3.15  "
            ],
            "text/html": [
              "\n",
              "  <div id=\"df-8dfeef14-aaac-4bce-b597-3852851c17cf\">\n",
              "    <div class=\"colab-df-container\">\n",
              "      <div>\n",
              "<style scoped>\n",
              "    .dataframe tbody tr th:only-of-type {\n",
              "        vertical-align: middle;\n",
              "    }\n",
              "\n",
              "    .dataframe tbody tr th {\n",
              "        vertical-align: top;\n",
              "    }\n",
              "\n",
              "    .dataframe thead th {\n",
              "        text-align: right;\n",
              "    }\n",
              "</style>\n",
              "<table border=\"1\" class=\"dataframe\">\n",
              "  <thead>\n",
              "    <tr style=\"text-align: right;\">\n",
              "      <th></th>\n",
              "      <th>Name</th>\n",
              "      <th>Location</th>\n",
              "      <th>Year</th>\n",
              "      <th>Kilometers_Driven</th>\n",
              "      <th>Fuel_Type</th>\n",
              "      <th>Transmission</th>\n",
              "      <th>Owner_Type</th>\n",
              "      <th>Mileage</th>\n",
              "      <th>Engine</th>\n",
              "      <th>Power</th>\n",
              "      <th>Seats</th>\n",
              "      <th>New_price</th>\n",
              "      <th>Price</th>\n",
              "    </tr>\n",
              "  </thead>\n",
              "  <tbody>\n",
              "    <tr>\n",
              "      <th>2597</th>\n",
              "      <td>Hyundai Santro Xing XP</td>\n",
              "      <td>Pune</td>\n",
              "      <td>2007</td>\n",
              "      <td>70000</td>\n",
              "      <td>Petrol</td>\n",
              "      <td>Manual</td>\n",
              "      <td>First</td>\n",
              "      <td>0.0</td>\n",
              "      <td>1086.0</td>\n",
              "      <td>NaN</td>\n",
              "      <td>5.0</td>\n",
              "      <td>NaN</td>\n",
              "      <td>1.12</td>\n",
              "    </tr>\n",
              "    <tr>\n",
              "      <th>2343</th>\n",
              "      <td>Hyundai Santro AT</td>\n",
              "      <td>Hyderabad</td>\n",
              "      <td>2006</td>\n",
              "      <td>74483</td>\n",
              "      <td>Petrol</td>\n",
              "      <td>Automatic</td>\n",
              "      <td>First</td>\n",
              "      <td>0.0</td>\n",
              "      <td>999.0</td>\n",
              "      <td>NaN</td>\n",
              "      <td>5.0</td>\n",
              "      <td>NaN</td>\n",
              "      <td>2.30</td>\n",
              "    </tr>\n",
              "    <tr>\n",
              "      <th>5270</th>\n",
              "      <td>Honda City 1.5 GXI</td>\n",
              "      <td>Bangalore</td>\n",
              "      <td>2002</td>\n",
              "      <td>53000</td>\n",
              "      <td>Petrol</td>\n",
              "      <td>Manual</td>\n",
              "      <td>Second</td>\n",
              "      <td>0.0</td>\n",
              "      <td>NaN</td>\n",
              "      <td>NaN</td>\n",
              "      <td>NaN</td>\n",
              "      <td>NaN</td>\n",
              "      <td>1.85</td>\n",
              "    </tr>\n",
              "    <tr>\n",
              "      <th>424</th>\n",
              "      <td>Volkswagen Jetta 2007-2011 1.9 L TDI</td>\n",
              "      <td>Hyderabad</td>\n",
              "      <td>2010</td>\n",
              "      <td>42021</td>\n",
              "      <td>Diesel</td>\n",
              "      <td>Manual</td>\n",
              "      <td>First</td>\n",
              "      <td>0.0</td>\n",
              "      <td>1968.0</td>\n",
              "      <td>NaN</td>\n",
              "      <td>5.0</td>\n",
              "      <td>NaN</td>\n",
              "      <td>5.45</td>\n",
              "    </tr>\n",
              "    <tr>\n",
              "      <th>6857</th>\n",
              "      <td>Land Rover Freelander 2 TD4 SE</td>\n",
              "      <td>Mumbai</td>\n",
              "      <td>2011</td>\n",
              "      <td>87000</td>\n",
              "      <td>Diesel</td>\n",
              "      <td>Automatic</td>\n",
              "      <td>First</td>\n",
              "      <td>0.0</td>\n",
              "      <td>2179.0</td>\n",
              "      <td>115.0</td>\n",
              "      <td>5.0</td>\n",
              "      <td>NaN</td>\n",
              "      <td>NaN</td>\n",
              "    </tr>\n",
              "    <tr>\n",
              "      <th>443</th>\n",
              "      <td>Hyundai Santro GLS I - Euro I</td>\n",
              "      <td>Coimbatore</td>\n",
              "      <td>2012</td>\n",
              "      <td>50243</td>\n",
              "      <td>Petrol</td>\n",
              "      <td>Manual</td>\n",
              "      <td>First</td>\n",
              "      <td>0.0</td>\n",
              "      <td>1086.0</td>\n",
              "      <td>NaN</td>\n",
              "      <td>5.0</td>\n",
              "      <td>NaN</td>\n",
              "      <td>3.35</td>\n",
              "    </tr>\n",
              "    <tr>\n",
              "      <th>5119</th>\n",
              "      <td>Hyundai Santro Xing XP</td>\n",
              "      <td>Kolkata</td>\n",
              "      <td>2008</td>\n",
              "      <td>45500</td>\n",
              "      <td>Petrol</td>\n",
              "      <td>Manual</td>\n",
              "      <td>Second</td>\n",
              "      <td>0.0</td>\n",
              "      <td>1086.0</td>\n",
              "      <td>NaN</td>\n",
              "      <td>5.0</td>\n",
              "      <td>NaN</td>\n",
              "      <td>1.17</td>\n",
              "    </tr>\n",
              "    <tr>\n",
              "      <th>5022</th>\n",
              "      <td>Land Rover Freelander 2 TD4 SE</td>\n",
              "      <td>Hyderabad</td>\n",
              "      <td>2013</td>\n",
              "      <td>46000</td>\n",
              "      <td>Diesel</td>\n",
              "      <td>Automatic</td>\n",
              "      <td>Second</td>\n",
              "      <td>0.0</td>\n",
              "      <td>2179.0</td>\n",
              "      <td>115.0</td>\n",
              "      <td>5.0</td>\n",
              "      <td>NaN</td>\n",
              "      <td>26.00</td>\n",
              "    </tr>\n",
              "    <tr>\n",
              "      <th>5016</th>\n",
              "      <td>Land Rover Freelander 2 TD4 HSE</td>\n",
              "      <td>Delhi</td>\n",
              "      <td>2013</td>\n",
              "      <td>72000</td>\n",
              "      <td>Diesel</td>\n",
              "      <td>Automatic</td>\n",
              "      <td>First</td>\n",
              "      <td>0.0</td>\n",
              "      <td>2179.0</td>\n",
              "      <td>115.0</td>\n",
              "      <td>5.0</td>\n",
              "      <td>NaN</td>\n",
              "      <td>15.50</td>\n",
              "    </tr>\n",
              "    <tr>\n",
              "      <th>2542</th>\n",
              "      <td>Hyundai Santro GLS II - Euro II</td>\n",
              "      <td>Bangalore</td>\n",
              "      <td>2011</td>\n",
              "      <td>65000</td>\n",
              "      <td>Petrol</td>\n",
              "      <td>Manual</td>\n",
              "      <td>Second</td>\n",
              "      <td>0.0</td>\n",
              "      <td>NaN</td>\n",
              "      <td>NaN</td>\n",
              "      <td>NaN</td>\n",
              "      <td>NaN</td>\n",
              "      <td>3.15</td>\n",
              "    </tr>\n",
              "  </tbody>\n",
              "</table>\n",
              "</div>\n",
              "      <button class=\"colab-df-convert\" onclick=\"convertToInteractive('df-8dfeef14-aaac-4bce-b597-3852851c17cf')\"\n",
              "              title=\"Convert this dataframe to an interactive table.\"\n",
              "              style=\"display:none;\">\n",
              "        \n",
              "  <svg xmlns=\"http://www.w3.org/2000/svg\" height=\"24px\"viewBox=\"0 0 24 24\"\n",
              "       width=\"24px\">\n",
              "    <path d=\"M0 0h24v24H0V0z\" fill=\"none\"/>\n",
              "    <path d=\"M18.56 5.44l.94 2.06.94-2.06 2.06-.94-2.06-.94-.94-2.06-.94 2.06-2.06.94zm-11 1L8.5 8.5l.94-2.06 2.06-.94-2.06-.94L8.5 2.5l-.94 2.06-2.06.94zm10 10l.94 2.06.94-2.06 2.06-.94-2.06-.94-.94-2.06-.94 2.06-2.06.94z\"/><path d=\"M17.41 7.96l-1.37-1.37c-.4-.4-.92-.59-1.43-.59-.52 0-1.04.2-1.43.59L10.3 9.45l-7.72 7.72c-.78.78-.78 2.05 0 2.83L4 21.41c.39.39.9.59 1.41.59.51 0 1.02-.2 1.41-.59l7.78-7.78 2.81-2.81c.8-.78.8-2.07 0-2.86zM5.41 20L4 18.59l7.72-7.72 1.47 1.35L5.41 20z\"/>\n",
              "  </svg>\n",
              "      </button>\n",
              "      \n",
              "  <style>\n",
              "    .colab-df-container {\n",
              "      display:flex;\n",
              "      flex-wrap:wrap;\n",
              "      gap: 12px;\n",
              "    }\n",
              "\n",
              "    .colab-df-convert {\n",
              "      background-color: #E8F0FE;\n",
              "      border: none;\n",
              "      border-radius: 50%;\n",
              "      cursor: pointer;\n",
              "      display: none;\n",
              "      fill: #1967D2;\n",
              "      height: 32px;\n",
              "      padding: 0 0 0 0;\n",
              "      width: 32px;\n",
              "    }\n",
              "\n",
              "    .colab-df-convert:hover {\n",
              "      background-color: #E2EBFA;\n",
              "      box-shadow: 0px 1px 2px rgba(60, 64, 67, 0.3), 0px 1px 3px 1px rgba(60, 64, 67, 0.15);\n",
              "      fill: #174EA6;\n",
              "    }\n",
              "\n",
              "    [theme=dark] .colab-df-convert {\n",
              "      background-color: #3B4455;\n",
              "      fill: #D2E3FC;\n",
              "    }\n",
              "\n",
              "    [theme=dark] .colab-df-convert:hover {\n",
              "      background-color: #434B5C;\n",
              "      box-shadow: 0px 1px 3px 1px rgba(0, 0, 0, 0.15);\n",
              "      filter: drop-shadow(0px 1px 2px rgba(0, 0, 0, 0.3));\n",
              "      fill: #FFFFFF;\n",
              "    }\n",
              "  </style>\n",
              "\n",
              "      <script>\n",
              "        const buttonEl =\n",
              "          document.querySelector('#df-8dfeef14-aaac-4bce-b597-3852851c17cf button.colab-df-convert');\n",
              "        buttonEl.style.display =\n",
              "          google.colab.kernel.accessAllowed ? 'block' : 'none';\n",
              "\n",
              "        async function convertToInteractive(key) {\n",
              "          const element = document.querySelector('#df-8dfeef14-aaac-4bce-b597-3852851c17cf');\n",
              "          const dataTable =\n",
              "            await google.colab.kernel.invokeFunction('convertToInteractive',\n",
              "                                                     [key], {});\n",
              "          if (!dataTable) return;\n",
              "\n",
              "          const docLinkHtml = 'Like what you see? Visit the ' +\n",
              "            '<a target=\"_blank\" href=https://colab.research.google.com/notebooks/data_table.ipynb>data table notebook</a>'\n",
              "            + ' to learn more about interactive tables.';\n",
              "          element.innerHTML = '';\n",
              "          dataTable['output_type'] = 'display_data';\n",
              "          await google.colab.output.renderOutput(dataTable, element);\n",
              "          const docLink = document.createElement('div');\n",
              "          docLink.innerHTML = docLinkHtml;\n",
              "          element.appendChild(docLink);\n",
              "        }\n",
              "      </script>\n",
              "    </div>\n",
              "  </div>\n",
              "  "
            ]
          },
          "metadata": {},
          "execution_count": 14
        }
      ],
      "source": [
        "#Sort the dataset in 'ascending' order using the feature 'Mileage'\n",
        "data.sort_values('Mileage',ascending=True).head(10)"
      ]
    },
    {
      "cell_type": "markdown",
      "metadata": {
        "id": "FcQR7NMgtOSp"
      },
      "source": [
        "#### **Observations**\n",
        "* Mileage of cars can not be 0, so we should treat 0's as missing values. We will do it in the Feature Engineering part"
      ]
    },
    {
      "cell_type": "markdown",
      "metadata": {
        "id": "7Rwx-1ZuhU3D"
      },
      "source": [
        "## **Univariate Analysis**\n",
        "Univariate analysis is used to explore each variable in a data set, separately. It looks at the range of values, as well as the central tendency of the values. It can be done for both numerical and categorical variables."
      ]
    },
    {
      "cell_type": "markdown",
      "metadata": {
        "id": "XYmSIliuIrcy"
      },
      "source": [
        "## **1. Univariate Analysis - Numerical Data**\n",
        "Histograms and box plots help to visualize and describe numerical data. We use box plot and histogram to analyse the numerical columns."
      ]
    },
    {
      "cell_type": "code",
      "execution_count": null,
      "metadata": {
        "id": "4IvqyxldtOSp"
      },
      "outputs": [],
      "source": [
        "# Let us write a function that will help us create a boxplot and histogram for any input numerical variable.\n",
        "# This function takes the numerical column as the input and returns the boxplots and histograms for the variable.\n",
        "\n",
        "def histogram_boxplot(feature, figsize=(15,10), bins = None):\n",
        "    \"\"\" Boxplot and histogram combined\n",
        "    feature: 1-d feature array\n",
        "    figsize: size of fig (default (9,8))\n",
        "    bins: number of bins (default None / auto)\n",
        "    \"\"\"\n",
        "    f2, (ax_box2, ax_hist2) = plt.subplots(nrows = 2, # Number of rows of the subplot grid= 2\n",
        "                                           sharex = True, # x-axis will be shared among all subplots\n",
        "                                           gridspec_kw = {\"height_ratios\": (.25, .75)}, \n",
        "                                           figsize = figsize \n",
        "                                           ) # creating the 2 subplots\n",
        "    sns.boxplot(feature, ax=ax_box2, showmeans=True, color='violet') # boxplot will be created and a star will indicate the mean value of the column\n",
        "    sns.distplot(feature, kde=F, ax=ax_hist2, bins=bins,palette=\"winter\") if bins else sns.distplot(feature, kde=False, ax=ax_hist2) # For histogram\n",
        "    ax_hist2.axvline(np.mean(feature), color='green', linestyle='--') # Add mean to the histogram\n",
        "    ax_hist2.axvline(np.median(feature), color='black', linestyle='-') # Add median to the histogram"
      ]
    },
    {
      "cell_type": "markdown",
      "metadata": {
        "id": "63SJOZqbtOSp"
      },
      "source": [
        "#### Let us plot histogram and box-plot for the feature 'Kilometers_Driven' to understand the distribution and outliers, if any."
      ]
    },
    {
      "cell_type": "code",
      "execution_count": null,
      "metadata": {
        "id": "h3oGmDAktOSq",
        "colab": {
          "base_uri": "https://localhost:8080/"
        },
        "outputId": "dccad678-84db-40cb-d57e-eb5207fb1897"
      },
      "outputs": [
        {
          "output_type": "display_data",
          "data": {
            "text/plain": [
              "<Figure size 1080x720 with 2 Axes>"
            ],
            "image/png": "[encoded data removed]"
          },
          "metadata": {
            "needs_background": "light"
          }
        }
      ],
      "source": [
        "#Plot histogram and box-plot for 'Kilometers_Driven'\n",
        "histogram_boxplot(data['Kilometers_Driven'])"
      ]
    },
    {
      "cell_type": "markdown",
      "metadata": {
        "id": "J7VeOWAftOSq"
      },
      "source": [
        "**Think About It**: Kilometers_Driven is highly right-skewed. Can we use Log transformation of the feature to reduce/remove the skewness? Why can't we keep skewed data?"
      ]
    },
    {
      "cell_type": "code",
      "execution_count": null,
      "metadata": {
        "id": "xvUxKBPetOSq",
        "colab": {
          "base_uri": "https://localhost:8080/"
        },
        "outputId": "1de46acb-e9aa-4abe-b5af-a77520026b85"
      },
      "outputs": [
        {
          "output_type": "display_data",
          "data": {
            "text/plain": [
              "<Figure size 432x288 with 1 Axes>"
            ],
            "image/png": "[encoded data removed]"
          },
          "metadata": {
            "needs_background": "light"
          }
        }
      ],
      "source": [
        "#Log transformation of the feature 'Kilometers_Driven'\n",
        "sns.distplot(np.log(data[\"Kilometers_Driven\"]), axlabel=\"Log(Kilometers_Driven)\");"
      ]
    },
    {
      "cell_type": "markdown",
      "metadata": {
        "id": "RhVfiCG6tOSq"
      },
      "source": [
        "#### **Observations and Insights: **\n",
        "\n",
        "- There's a lot of outliers in the right side of the mean for this variable, which is expected."
      ]
    },
    {
      "cell_type": "code",
      "execution_count": null,
      "metadata": {
        "id": "MSobKz9jtOSr"
      },
      "outputs": [],
      "source": [
        "### We can add a transformed kilometers_driven feature in data\n",
        "data[\"kilometers_driven_log\"] = np.log(data[\"Kilometers_Driven\"])"
      ]
    },
    {
      "cell_type": "markdown",
      "metadata": {
        "id": "5IZEyt7NVL3Z"
      },
      "source": [
        "**Note:** Like Kilometers_Driven, the distribution of Price is also highly skewed, we can use log transformation on this column to see if that helps normalize the distribution. And add the transformed variable into the dataset. You can name the variable as **'price_log'**"
      ]
    },
    {
      "cell_type": "code",
      "execution_count": null,
      "metadata": {
        "id": "bU82nipkVL3Z",
        "colab": {
          "base_uri": "https://localhost:8080/"
        },
        "outputId": "201aacec-cfe0-42b8-c3e0-669bbb9b0b10"
      },
      "outputs": [
        {
          "output_type": "display_data",
          "data": {
            "text/plain": [
              "<Figure size 1080x720 with 2 Axes>"
            ],
            "image/png": "[encoded data removed]"
          },
          "metadata": {
            "needs_background": "light"
          }
        }
      ],
      "source": [
        "# Plot histogram and box-plot for 'Price'\n",
        "\n",
        "histogram_boxplot(data['Price'])"
      ]
    },
    {
      "cell_type": "code",
      "execution_count": null,
      "metadata": {
        "id": "s16uiRXFVL3Z",
        "scrolled": true,
        "colab": {
          "base_uri": "https://localhost:8080/"
        },
        "outputId": "a3efcf3c-9c03-4acc-f30d-8852acc9062c"
      },
      "outputs": [
        {
          "output_type": "display_data",
          "data": {
            "text/plain": [
              "<Figure size 432x288 with 1 Axes>"
            ],
            "image/png": "[encoded data removed]"
          },
          "metadata": {
            "needs_background": "light"
          }
        }
      ],
      "source": [
        "# Log transformation of the feature 'Price'\n",
        "\n",
        "sns.distplot(np.log(data[\"Price\"]), axlabel=\"Log(Price)\");"
      ]
    },
    {
      "cell_type": "code",
      "execution_count": null,
      "metadata": {
        "id": "X_8uUAcEVL3Z"
      },
      "outputs": [],
      "source": [
        "# We can Add a transformed Price feature in data\n",
        "data[\"price_log\"] = np.log(data[\"Price\"])"
      ]
    },
    {
      "cell_type": "code",
      "execution_count": null,
      "metadata": {
        "scrolled": false,
        "colab": {
          "base_uri": "https://localhost:8080/"
        },
        "id": "lP4ODBk5Ha1c",
        "outputId": "459fe0e8-d895-479f-840a-fac953e139f3"
      },
      "outputs": [
        {
          "output_type": "display_data",
          "data": {
            "text/plain": [
              "<Figure size 1080x720 with 2 Axes>"
            ],
            "image/png": "[encoded data removed]"
          },
          "metadata": {
            "needs_background": "light"
          }
        }
      ],
      "source": [
        "histogram_boxplot(data['Year'])"
      ]
    },
    {
      "cell_type": "code",
      "execution_count": null,
      "metadata": {
        "scrolled": false,
        "colab": {
          "base_uri": "https://localhost:8080/"
        },
        "id": "-j8Eg6JnHa1d",
        "outputId": "66ae6f7d-88b7-4027-c80f-55239172c711"
      },
      "outputs": [
        {
          "output_type": "display_data",
          "data": {
            "text/plain": [
              "<Figure size 1080x720 with 2 Axes>"
            ],
            "image/png": "[encoded data removed]"
          },
          "metadata": {
            "needs_background": "light"
          }
        }
      ],
      "source": [
        "histogram_boxplot(data['Mileage'])"
      ]
    },
    {
      "cell_type": "code",
      "execution_count": null,
      "metadata": {
        "colab": {
          "base_uri": "https://localhost:8080/"
        },
        "id": "WNqa8LvnHa1d",
        "outputId": "e5535367-96b7-4d34-935e-0c657fa25aee"
      },
      "outputs": [
        {
          "output_type": "display_data",
          "data": {
            "text/plain": [
              "<Figure size 1080x720 with 2 Axes>"
            ],
            "image/png": "[encoded data removed]"
          },
          "metadata": {
            "needs_background": "light"
          }
        }
      ],
      "source": [
        "histogram_boxplot(data['New_price'])"
      ]
    },
    {
      "cell_type": "markdown",
      "metadata": {
        "id": "LaPbA-1ltOSr"
      },
      "source": [
        "#### **Note:** Try plotting histogram and box-plot for different numerical features and understand how the data looks like."
      ]
    },
    {
      "cell_type": "markdown",
      "metadata": {
        "id": "HwE0djBTtOSr"
      },
      "source": [
        "#### **Observations and Insights for all the plots: **\n",
        "\n",
        "- Year is left skewed with a few outliers, which is normal.\n",
        "- Mileage looks normally distributed.\n",
        "- New_price is also heavly right skewed."
      ]
    },
    {
      "cell_type": "markdown",
      "metadata": {
        "id": "vjT3FFoDIrc3"
      },
      "source": [
        "## **2. Univariate analysis - Categorical Data**"
      ]
    },
    {
      "cell_type": "code",
      "execution_count": null,
      "metadata": {
        "id": "MZZW1y_ctOSt"
      },
      "outputs": [],
      "source": [
        "# Let us write a function that will help us create barplots that indicate the percentage for each category.\n",
        "# This function takes the categorical column as the input and returns the barplots for the variable.\n",
        "\n",
        "def perc_on_bar(z):\n",
        "    '''\n",
        "    plot\n",
        "    feature: categorical feature\n",
        "    the function won't work if a column is passed in hue parameter\n",
        "    '''\n",
        "\n",
        "    total = len(data[z]) # length of the column\n",
        "    plt.figure(figsize=(15,5))\n",
        "    ax = sns.countplot(data[z],palette='Paired',order = data[z].value_counts().index)\n",
        "    for p in ax.patches:\n",
        "        percentage = '{:.1f}%'.format(100 * p.get_height()/total) # percentage of each class of the category\n",
        "        x = p.get_x() + p.get_width() / 2 - 0.05 # width of the plot\n",
        "        y = p.get_y() + p.get_height()           # hieght of the plot\n",
        "        \n",
        "        ax.annotate(percentage, (x, y), size = 12) # annotate the percantage \n",
        "    \n",
        "    plt.show() # show the plot"
      ]
    },
    {
      "cell_type": "markdown",
      "metadata": {
        "id": "lY4PNN04tOSt"
      },
      "source": [
        "#### Let us plot barplot for the variable location. It will be helpful to know the number of percentage of cars from each city."
      ]
    },
    {
      "cell_type": "code",
      "execution_count": null,
      "metadata": {
        "id": "OOLcER6KtOSu",
        "scrolled": true,
        "colab": {
          "base_uri": "https://localhost:8080/"
        },
        "outputId": "cfe0643f-f646-4efb-9172-92ea06439f82"
      },
      "outputs": [
        {
          "output_type": "display_data",
          "data": {
            "text/plain": [
              "<Figure size 1080x360 with 1 Axes>"
            ],
            "image/png": "[encoded data removed]"
          },
          "metadata": {
            "needs_background": "light"
          }
        }
      ],
      "source": [
        "#Bar Plot for 'Location'\n",
        "perc_on_bar('Location')"
      ]
    },
    {
      "cell_type": "code",
      "execution_count": null,
      "metadata": {
        "colab": {
          "base_uri": "https://localhost:8080/"
        },
        "id": "dZWPt_-yHa1e",
        "outputId": "8b37adc7-1032-49c3-86eb-03cad031e514"
      },
      "outputs": [
        {
          "output_type": "display_data",
          "data": {
            "text/plain": [
              "<Figure size 1080x360 with 1 Axes>"
            ],
            "image/png": "[encoded data removed]"
          },
          "metadata": {
            "needs_background": "light"
          }
        }
      ],
      "source": [
        "perc_on_bar('Year')"
      ]
    },
    {
      "cell_type": "code",
      "execution_count": null,
      "metadata": {
        "colab": {
          "base_uri": "https://localhost:8080/"
        },
        "id": "oSb_8qjeHa1e",
        "outputId": "1213ae5c-254b-4d9e-9ec8-b53568ee7d80"
      },
      "outputs": [
        {
          "output_type": "display_data",
          "data": {
            "text/plain": [
              "<Figure size 1080x360 with 1 Axes>"
            ],
            "image/png": "[encoded data removed]"
          },
          "metadata": {
            "needs_background": "light"
          }
        }
      ],
      "source": [
        "perc_on_bar('Fuel_Type')"
      ]
    },
    {
      "cell_type": "code",
      "execution_count": null,
      "metadata": {
        "colab": {
          "base_uri": "https://localhost:8080/"
        },
        "id": "jyoWgIQoHa1e",
        "outputId": "9f338905-564e-4725-d11c-5adf8e4f7a08"
      },
      "outputs": [
        {
          "output_type": "display_data",
          "data": {
            "text/plain": [
              "<Figure size 1080x360 with 1 Axes>"
            ],
            "image/png": "[encoded data removed]"
          },
          "metadata": {
            "needs_background": "light"
          }
        }
      ],
      "source": [
        "perc_on_bar('Transmission')"
      ]
    },
    {
      "cell_type": "code",
      "execution_count": null,
      "metadata": {
        "colab": {
          "base_uri": "https://localhost:8080/"
        },
        "id": "XDvgcA7wHa1e",
        "outputId": "3b212b70-cef6-4e81-91b9-38f3463356dc"
      },
      "outputs": [
        {
          "output_type": "display_data",
          "data": {
            "text/plain": [
              "<Figure size 1080x360 with 1 Axes>"
            ],
            "image/png": "[encoded data removed]"
          },
          "metadata": {
            "needs_background": "light"
          }
        }
      ],
      "source": [
        "perc_on_bar('Owner_Type')"
      ]
    },
    {
      "cell_type": "code",
      "execution_count": null,
      "metadata": {
        "scrolled": true,
        "colab": {
          "base_uri": "https://localhost:8080/"
        },
        "id": "MtniUqpHHa1f",
        "outputId": "b4185ec9-6c8a-4327-efa0-f27f95eac899"
      },
      "outputs": [
        {
          "output_type": "display_data",
          "data": {
            "text/plain": [
              "<Figure size 1080x360 with 1 Axes>"
            ],
            "image/png": "[encoded data removed]"
          },
          "metadata": {
            "needs_background": "light"
          }
        }
      ],
      "source": [
        "perc_on_bar('Seats')"
      ]
    },
    {
      "cell_type": "markdown",
      "metadata": {
        "id": "ggQtrIJmVL3a"
      },
      "source": [
        "#### **Note:** Explore for other variables like Year, Fuel_Type, Transmission, Owner_Type`"
      ]
    },
    {
      "cell_type": "markdown",
      "metadata": {
        "id": "GmPUFwWQtOSu"
      },
      "source": [
        "#### **Observations and Insights from all plots: **\n",
        "\n",
        "- Most cars are located in Mumbai.\n",
        "- The majority of cars where made after 2010.\n",
        "- Most cars fuel type is diesel followed closely by petrol.\n",
        "- Most cars have manual transmission.\n",
        "- Majority of cars were only owned by one person.\n",
        "- The majority of the cars have 5 seats."
      ]
    },
    {
      "cell_type": "markdown",
      "metadata": {
        "id": "beo_tDmVhU3-"
      },
      "source": [
        "## **Bivariate Analysis**"
      ]
    },
    {
      "cell_type": "markdown",
      "metadata": {
        "id": "8xmd6go2Irc5"
      },
      "source": [
        "### **1. Scatter plot**\n",
        "A scatter plot allows us to see relationships between two variables. \n",
        "\n",
        "**Note: Use log transformed values 'kilometers_driven_log' and 'price_log'**"
      ]
    },
    {
      "cell_type": "code",
      "execution_count": null,
      "metadata": {
        "id": "aB4nfBtqVL3b",
        "scrolled": true,
        "colab": {
          "base_uri": "https://localhost:8080/",
          "height": 301
        },
        "outputId": "626b3874-148d-4062-f98d-b94ed2e60159"
      },
      "outputs": [
        {
          "output_type": "execute_result",
          "data": {
            "text/plain": [
              "<matplotlib.axes._subplots.AxesSubplot at 0x7fd1ff13d190>"
            ]
          },
          "metadata": {},
          "execution_count": 32
        },
        {
          "output_type": "display_data",
          "data": {
            "text/plain": [
              "<Figure size 432x288 with 1 Axes>"
            ],
            "image/png": "[encoded data removed]"
          },
          "metadata": {
            "needs_background": "light"
          }
        }
      ],
      "source": [
        "#Let us plot pair plot for the variables 'year' and 'price_log'\n",
        "data.plot(x='price_log', y='Year', style='o')"
      ]
    },
    {
      "cell_type": "code",
      "execution_count": null,
      "metadata": {
        "colab": {
          "base_uri": "https://localhost:8080/",
          "height": 300
        },
        "id": "2k5lLFCNHa1g",
        "outputId": "28353e09-a9e3-4f0c-fa37-9801ff83f1ba"
      },
      "outputs": [
        {
          "output_type": "execute_result",
          "data": {
            "text/plain": [
              "<matplotlib.axes._subplots.AxesSubplot at 0x7fd1f9dd0950>"
            ]
          },
          "metadata": {},
          "execution_count": 33
        },
        {
          "output_type": "display_data",
          "data": {
            "text/plain": [
              "<Figure size 432x288 with 1 Axes>"
            ],
            "image/png": "[encoded data removed]"
          },
          "metadata": {
            "needs_background": "light"
          }
        }
      ],
      "source": [
        "data.plot(x='kilometers_driven_log', y='Year', style='o')"
      ]
    },
    {
      "cell_type": "code",
      "execution_count": null,
      "metadata": {
        "colab": {
          "base_uri": "https://localhost:8080/",
          "height": 297
        },
        "id": "6ZNFOECHHa1g",
        "outputId": "392c09b6-dce6-4993-e7a2-7fef5d734e01"
      },
      "outputs": [
        {
          "output_type": "execute_result",
          "data": {
            "text/plain": [
              "<matplotlib.axes._subplots.AxesSubplot at 0x7fd1f9d08e10>"
            ]
          },
          "metadata": {},
          "execution_count": 34
        },
        {
          "output_type": "display_data",
          "data": {
            "text/plain": [
              "<Figure size 432x288 with 1 Axes>"
            ],
            "image/png": "[encoded data removed]"
          },
          "metadata": {
            "needs_background": "light"
          }
        }
      ],
      "source": [
        "data.plot(x='price_log', y='kilometers_driven_log', style='o')"
      ]
    },
    {
      "cell_type": "code",
      "execution_count": null,
      "metadata": {
        "colab": {
          "base_uri": "https://localhost:8080/",
          "height": 299
        },
        "id": "WNxAQhG5Ha1g",
        "outputId": "24f24b66-f82c-44ef-a9c3-6314a2918fdc"
      },
      "outputs": [
        {
          "output_type": "execute_result",
          "data": {
            "text/plain": [
              "<matplotlib.axes._subplots.AxesSubplot at 0x7fd1fa309290>"
            ]
          },
          "metadata": {},
          "execution_count": 35
        },
        {
          "output_type": "display_data",
          "data": {
            "text/plain": [
              "<Figure size 432x288 with 1 Axes>"
            ],
            "image/png": "[encoded data removed]"
          },
          "metadata": {
            "needs_background": "light"
          }
        }
      ],
      "source": [
        "data.plot(x='Mileage', y='Year', style='o')"
      ]
    },
    {
      "cell_type": "code",
      "execution_count": null,
      "metadata": {
        "scrolled": true,
        "colab": {
          "base_uri": "https://localhost:8080/",
          "height": 300
        },
        "id": "gOzL-6MWHa1g",
        "outputId": "432d8fd3-140a-4850-dea3-c747f110cb3a"
      },
      "outputs": [
        {
          "output_type": "execute_result",
          "data": {
            "text/plain": [
              "<matplotlib.axes._subplots.AxesSubplot at 0x7fd1f9f0d6d0>"
            ]
          },
          "metadata": {},
          "execution_count": 36
        },
        {
          "output_type": "display_data",
          "data": {
            "text/plain": [
              "<Figure size 432x288 with 1 Axes>"
            ],
            "image/png": "[encoded data removed]"
          },
          "metadata": {
            "needs_background": "light"
          }
        }
      ],
      "source": [
        "data.plot(x='Power', y='Year', style='o')"
      ]
    },
    {
      "cell_type": "code",
      "execution_count": null,
      "metadata": {
        "scrolled": true,
        "colab": {
          "base_uri": "https://localhost:8080/",
          "height": 299
        },
        "id": "BGv7e26iHa1g",
        "outputId": "bcfaf24b-abcd-49bf-9505-5db44ad80023"
      },
      "outputs": [
        {
          "output_type": "execute_result",
          "data": {
            "text/plain": [
              "<matplotlib.axes._subplots.AxesSubplot at 0x7fd1f9c9e090>"
            ]
          },
          "metadata": {},
          "execution_count": 37
        },
        {
          "output_type": "display_data",
          "data": {
            "text/plain": [
              "<Figure size 432x288 with 1 Axes>"
            ],
            "image/png": "[encoded data removed]"
          },
          "metadata": {
            "needs_background": "light"
          }
        }
      ],
      "source": [
        "data.plot(x='Engine', y='Year', style='o')"
      ]
    },
    {
      "cell_type": "code",
      "execution_count": null,
      "metadata": {
        "scrolled": true,
        "colab": {
          "base_uri": "https://localhost:8080/",
          "height": 297
        },
        "id": "wQFQ2VNmHa1g",
        "outputId": "e4ad7a09-abcb-4591-f63a-795900e96865"
      },
      "outputs": [
        {
          "output_type": "execute_result",
          "data": {
            "text/plain": [
              "<matplotlib.axes._subplots.AxesSubplot at 0x7fd1f9f3a250>"
            ]
          },
          "metadata": {},
          "execution_count": 38
        },
        {
          "output_type": "display_data",
          "data": {
            "text/plain": [
              "<Figure size 432x288 with 1 Axes>"
            ],
            "image/png": "[encoded data removed]"
          },
          "metadata": {
            "needs_background": "light"
          }
        }
      ],
      "source": [
        "data.plot(x='price_log', y='Engine', style='o')"
      ]
    },
    {
      "cell_type": "code",
      "execution_count": null,
      "metadata": {
        "scrolled": true,
        "colab": {
          "base_uri": "https://localhost:8080/",
          "height": 297
        },
        "id": "tBuBiyd6Ha1h",
        "outputId": "a3b368ce-4027-49b8-8b15-02aa2c12cf4d"
      },
      "outputs": [
        {
          "output_type": "execute_result",
          "data": {
            "text/plain": [
              "<matplotlib.axes._subplots.AxesSubplot at 0x7fd1f9ca6d90>"
            ]
          },
          "metadata": {},
          "execution_count": 39
        },
        {
          "output_type": "display_data",
          "data": {
            "text/plain": [
              "<Figure size 432x288 with 1 Axes>"
            ],
            "image/png": "[encoded data removed]"
          },
          "metadata": {
            "needs_background": "light"
          }
        }
      ],
      "source": [
        "data.plot(x='price_log', y='Power', style='o')"
      ]
    },
    {
      "cell_type": "code",
      "execution_count": null,
      "metadata": {
        "scrolled": true,
        "colab": {
          "base_uri": "https://localhost:8080/",
          "height": 297
        },
        "id": "3YJK91N7Ha1h",
        "outputId": "aa44f479-8a08-46c0-fdbd-406f03cd021b"
      },
      "outputs": [
        {
          "output_type": "execute_result",
          "data": {
            "text/plain": [
              "<matplotlib.axes._subplots.AxesSubplot at 0x7fd1f9f6fa50>"
            ]
          },
          "metadata": {},
          "execution_count": 40
        },
        {
          "output_type": "display_data",
          "data": {
            "text/plain": [
              "<Figure size 432x288 with 1 Axes>"
            ],
            "image/png": "[encoded data removed]"
          },
          "metadata": {
            "needs_background": "light"
          }
        }
      ],
      "source": [
        "data.plot(x='price_log', y='Seats', style='o')"
      ]
    },
    {
      "cell_type": "code",
      "execution_count": null,
      "metadata": {
        "scrolled": true,
        "colab": {
          "base_uri": "https://localhost:8080/",
          "height": 300
        },
        "id": "lEWRh6GRHa1h",
        "outputId": "0afad235-4ca0-46f5-fc13-b6d565687e45"
      },
      "outputs": [
        {
          "output_type": "execute_result",
          "data": {
            "text/plain": [
              "<matplotlib.axes._subplots.AxesSubplot at 0x7fd1ff252050>"
            ]
          },
          "metadata": {},
          "execution_count": 41
        },
        {
          "output_type": "display_data",
          "data": {
            "text/plain": [
              "<Figure size 432x288 with 1 Axes>"
            ],
            "image/png": "[encoded data removed]"
          },
          "metadata": {
            "needs_background": "light"
          }
        }
      ],
      "source": [
        "data.plot(x='price_log', y='Mileage', style='o')"
      ]
    },
    {
      "cell_type": "markdown",
      "metadata": {
        "id": "v107OPbgVL3b"
      },
      "source": [
        "<b>Note:</b> Try to explore different combinations of independent variables and dependent variable. Understand the relationship between all variables."
      ]
    },
    {
      "cell_type": "markdown",
      "metadata": {
        "id": "JipnN20DVL3b"
      },
      "source": [
        "#### **Observations and Insights from all plots: **\n",
        "\n",
        "- We can observe that the price increases as: the year is higher (newer cars), engine displacement is bigger, engine power is higher.\n",
        "- Mileage and kilometers driven have no impact on price, which is weird.\n",
        "- Mileage is higher for newer cars, as expected.\n",
        "- Power and Engine peaks in the late 2000's and early 2010's."
      ]
    },
    {
      "cell_type": "markdown",
      "metadata": {
        "id": "Z8svlVbWtOSy"
      },
      "source": [
        "### **2. Heat map**\n",
        "Heat map shows a 2D correlation matrix between two discrete features"
      ]
    },
    {
      "cell_type": "code",
      "execution_count": null,
      "metadata": {
        "id": "obYRQMiytOSy",
        "colab": {
          "base_uri": "https://localhost:8080/",
          "height": 532
        },
        "outputId": "3ec39916-d80d-4c3a-b549-96d4f362f07f"
      },
      "outputs": [
        {
          "output_type": "display_data",
          "data": {
            "text/plain": [
              "<Figure size 864x504 with 2 Axes>"
            ],
            "image/png": "[encoded data removed]"
          },
          "metadata": {
            "needs_background": "light"
          }
        }
      ],
      "source": [
        "#We can include the log transformation values and drop the original skewed data columns\n",
        "plt.figure(figsize=(12, 7))\n",
        "sns.heatmap(data.drop(['Kilometers_Driven','Price'],axis=1).corr(), annot = True, vmin = -1, vmax = 1)\n",
        "plt.show()"
      ]
    },
    {
      "cell_type": "markdown",
      "metadata": {
        "id": "p8FZxksptOSy"
      },
      "source": [
        "**Observations and Insights: **\n",
        "\n",
        "- Power and Engine are highly correlated, as expected.\n",
        "- Engine and New_price and price_log are highly correlated.\n",
        "- Year and price are slightly correlated.\n",
        "- Year and Mileage are slightly correlated.\n",
        "- Year and km driven have really low correlation, which is not expected."
      ]
    },
    {
      "cell_type": "markdown",
      "metadata": {
        "id": "XoilGTkZIrc6"
      },
      "source": [
        "### **3. Box plot**"
      ]
    },
    {
      "cell_type": "code",
      "execution_count": null,
      "metadata": {
        "id": "LqGH0RvCtOSy"
      },
      "outputs": [],
      "source": [
        "# Let us write a function that will help us create boxplot w.r.t Price for any input categorical variable.\n",
        "# This function takes the categorical column as the input and returns the boxplots for the variable.\n",
        "def boxplot(z):\n",
        "    plt.figure(figsize=(12, 5)) #setting size of boxplot\n",
        "    sns.boxplot(x=z, y=data['Price']) # defining x and y\n",
        "    plt.show()\n",
        "    plt.figure(figsize=(12, 5))\n",
        "    plt.title('Without Outliers')\n",
        "    sns.boxplot(x=z, y=data['Price'],showfliers=False) #turning off the outliers\n",
        "    plt.show()"
      ]
    },
    {
      "cell_type": "markdown",
      "metadata": {
        "id": "eXvYdYGCVL3b"
      },
      "source": [
        "#### Let us now plot bivariate analysis of target variable with a categorical variable 'Location'"
      ]
    },
    {
      "cell_type": "code",
      "execution_count": null,
      "metadata": {
        "id": "V9Xj3jNntOSz",
        "scrolled": false,
        "colab": {
          "base_uri": "https://localhost:8080/",
          "height": 667
        },
        "outputId": "bad24f8e-90ae-419b-d9a2-6ce1b1ded9ab"
      },
      "outputs": [
        {
          "output_type": "display_data",
          "data": {
            "text/plain": [
              "<Figure size 864x360 with 1 Axes>"
            ],
            "image/png": "[encoded data removed]"
          },
          "metadata": {
            "needs_background": "light"
          }
        },
        {
          "output_type": "display_data",
          "data": {
            "text/plain": [
              "<Figure size 864x360 with 1 Axes>"
            ],
            "image/png": "[encoded data removed]"
          },
          "metadata": {
            "needs_background": "light"
          }
        }
      ],
      "source": [
        "#Box Plot:Price vs Location\n",
        "boxplot(data['Location'])"
      ]
    },
    {
      "cell_type": "code",
      "execution_count": null,
      "metadata": {
        "colab": {
          "base_uri": "https://localhost:8080/",
          "height": 669
        },
        "id": "4rP7QABiHa1j",
        "outputId": "ac4c01b6-d24a-404d-e199-551d74e859be"
      },
      "outputs": [
        {
          "output_type": "display_data",
          "data": {
            "text/plain": [
              "<Figure size 864x360 with 1 Axes>"
            ],
            "image/png": "[encoded data removed]"
          },
          "metadata": {
            "needs_background": "light"
          }
        },
        {
          "output_type": "display_data",
          "data": {
            "text/plain": [
              "<Figure size 864x360 with 1 Axes>"
            ],
            "image/png": "[encoded data removed]"
          },
          "metadata": {
            "needs_background": "light"
          }
        }
      ],
      "source": [
        "boxplot(data['Fuel_Type'])"
      ]
    },
    {
      "cell_type": "code",
      "execution_count": null,
      "metadata": {
        "colab": {
          "base_uri": "https://localhost:8080/",
          "height": 667
        },
        "id": "gIwDHjTUHa1j",
        "outputId": "3a1e5681-8c73-41b5-a571-e4b100336162"
      },
      "outputs": [
        {
          "output_type": "display_data",
          "data": {
            "text/plain": [
              "<Figure size 864x360 with 1 Axes>"
            ],
            "image/png": "[encoded data removed]"
          },
          "metadata": {
            "needs_background": "light"
          }
        },
        {
          "output_type": "display_data",
          "data": {
            "text/plain": [
              "<Figure size 864x360 with 1 Axes>"
            ],
            "image/png": "[encoded data removed]"
          },
          "metadata": {
            "needs_background": "light"
          }
        }
      ],
      "source": [
        "boxplot(data['Transmission'])"
      ]
    },
    {
      "cell_type": "code",
      "execution_count": null,
      "metadata": {
        "colab": {
          "base_uri": "https://localhost:8080/",
          "height": 669
        },
        "id": "Djlwie99Ha1j",
        "outputId": "815a6dab-30f9-4d4c-b3fc-d8c93a0e5a89"
      },
      "outputs": [
        {
          "output_type": "display_data",
          "data": {
            "text/plain": [
              "<Figure size 864x360 with 1 Axes>"
            ],
            "image/png": "[encoded data removed]"
          },
          "metadata": {
            "needs_background": "light"
          }
        },
        {
          "output_type": "display_data",
          "data": {
            "text/plain": [
              "<Figure size 864x360 with 1 Axes>"
            ],
            "image/png": "[encoded data removed]"
          },
          "metadata": {
            "needs_background": "light"
          }
        }
      ],
      "source": [
        "boxplot(data['Owner_Type'])"
      ]
    },
    {
      "cell_type": "code",
      "execution_count": null,
      "metadata": {
        "scrolled": false,
        "colab": {
          "base_uri": "https://localhost:8080/",
          "height": 667
        },
        "id": "wUd7Zi_XHa1k",
        "outputId": "61a205df-78a5-4273-8bf6-db1273fccdca"
      },
      "outputs": [
        {
          "output_type": "display_data",
          "data": {
            "text/plain": [
              "<Figure size 864x360 with 1 Axes>"
            ],
            "image/png": "[encoded data removed]"
          },
          "metadata": {
            "needs_background": "light"
          }
        },
        {
          "output_type": "display_data",
          "data": {
            "text/plain": [
              "<Figure size 864x360 with 1 Axes>"
            ],
            "image/png": "[encoded data removed]"
          },
          "metadata": {
            "needs_background": "light"
          }
        }
      ],
      "source": [
        "boxplot(data['Year'])"
      ]
    },
    {
      "cell_type": "code",
      "execution_count": null,
      "metadata": {
        "scrolled": false,
        "colab": {
          "base_uri": "https://localhost:8080/",
          "height": 667
        },
        "id": "Q1FHDx-GHa1k",
        "outputId": "d50bf1b1-bb57-4492-dccc-84747ee4746b"
      },
      "outputs": [
        {
          "output_type": "display_data",
          "data": {
            "text/plain": [
              "<Figure size 864x360 with 1 Axes>"
            ],
            "image/png": "[encoded data removed]"
          },
          "metadata": {
            "needs_background": "light"
          }
        },
        {
          "output_type": "display_data",
          "data": {
            "text/plain": [
              "<Figure size 864x360 with 1 Axes>"
            ],
            "image/png": "[encoded data removed]"
          },
          "metadata": {
            "needs_background": "light"
          }
        }
      ],
      "source": [
        "boxplot(data['Seats'])"
      ]
    },
    {
      "cell_type": "markdown",
      "metadata": {
        "id": "hK3wD0GyVL3c"
      },
      "source": [
        "<b>Note: </b> Explore by plotting box-plots for target variable and the other categorical variables like Fuel_Type, transmission, Owner_type."
      ]
    },
    {
      "cell_type": "markdown",
      "metadata": {
        "id": "sMoRw1rStOSz"
      },
      "source": [
        "**Observations and Insights for all plots**\n"
      ]
    },
    {
      "cell_type": "markdown",
      "metadata": {
        "id": "70E7M7KJtOS1"
      },
      "source": [
        "### **Feature engineering**"
      ]
    },
    {
      "cell_type": "markdown",
      "metadata": {
        "id": "TD7mqJI6tOS1"
      },
      "source": [
        "**Think about it:** The `Name` column in the current format might not be very useful in our analysis.\n",
        "Since the name contains both the brand name and the model name of the vehicle, the column would have too many unique values to be useful in prediction. Can we extract that information from that column? "
      ]
    },
    {
      "cell_type": "markdown",
      "metadata": {
        "id": "Z1bl_6rztOS1"
      },
      "source": [
        "* **Hint:** With 2041 unique names, car names are not going to be great predictors of the price in our current data. But we can process this column to extract important information for example brand name."
      ]
    },
    {
      "cell_type": "code",
      "execution_count": null,
      "metadata": {
        "id": "-z-jsyOqHa1l"
      },
      "outputs": [],
      "source": [
        "data['Brand'] = data['Name'].str.split(' ').str[0]\n",
        "data['Model'] = data['Name'].str.split(' ').str[1]"
      ]
    },
    {
      "cell_type": "code",
      "execution_count": null,
      "metadata": {
        "scrolled": false,
        "colab": {
          "base_uri": "https://localhost:8080/",
          "height": 424
        },
        "id": "XZTSgBq0Ha1l",
        "outputId": "097616a3-585f-4060-a28c-748e34c47ce9"
      },
      "outputs": [
        {
          "output_type": "execute_result",
          "data": {
            "text/plain": [
              "                               Name    Location  Year  Kilometers_Driven  \\\n",
              "0            Maruti Wagon R LXI CNG      Mumbai  2010              72000   \n",
              "1  Hyundai Creta 1.6 CRDi SX Option        Pune  2015              41000   \n",
              "2                      Honda Jazz V     Chennai  2011              46000   \n",
              "3                 Maruti Ertiga VDI     Chennai  2012              87000   \n",
              "4   Audi A4 New 2.0 TDI Multitronic  Coimbatore  2013              40670   \n",
              "\n",
              "  Fuel_Type Transmission Owner_Type  Mileage  Engine   Power  Seats  \\\n",
              "0       CNG       Manual      First    26.60   998.0   58.16    5.0   \n",
              "1    Diesel       Manual      First    19.67  1582.0  126.20    5.0   \n",
              "2    Petrol       Manual      First    18.20  1199.0   88.70    5.0   \n",
              "3    Diesel       Manual      First    20.77  1248.0   88.76    7.0   \n",
              "4    Diesel    Automatic     Second    15.20  1968.0  140.80    5.0   \n",
              "\n",
              "   New_price  Price  kilometers_driven_log  price_log    Brand   Model  \n",
              "0        NaN   1.75              11.184421   0.559616   Maruti   Wagon  \n",
              "1        NaN  12.50              10.621327   2.525729  Hyundai   Creta  \n",
              "2       8.61   4.50              10.736397   1.504077    Honda    Jazz  \n",
              "3        NaN   6.00              11.373663   1.791759   Maruti  Ertiga  \n",
              "4        NaN  17.74              10.613246   2.875822     Audi      A4  "
            ],
            "text/html": [
              "\n",
              "  <div id=\"df-23349553-47c0-4563-a786-afdd42d60283\">\n",
              "    <div class=\"colab-df-container\">\n",
              "      <div>\n",
              "<style scoped>\n",
              "    .dataframe tbody tr th:only-of-type {\n",
              "        vertical-align: middle;\n",
              "    }\n",
              "\n",
              "    .dataframe tbody tr th {\n",
              "        vertical-align: top;\n",
              "    }\n",
              "\n",
              "    .dataframe thead th {\n",
              "        text-align: right;\n",
              "    }\n",
              "</style>\n",
              "<table border=\"1\" class=\"dataframe\">\n",
              "  <thead>\n",
              "    <tr style=\"text-align: right;\">\n",
              "      <th></th>\n",
              "      <th>Name</th>\n",
              "      <th>Location</th>\n",
              "      <th>Year</th>\n",
              "      <th>Kilometers_Driven</th>\n",
              "      <th>Fuel_Type</th>\n",
              "      <th>Transmission</th>\n",
              "      <th>Owner_Type</th>\n",
              "      <th>Mileage</th>\n",
              "      <th>Engine</th>\n",
              "      <th>Power</th>\n",
              "      <th>Seats</th>\n",
              "      <th>New_price</th>\n",
              "      <th>Price</th>\n",
              "      <th>kilometers_driven_log</th>\n",
              "      <th>price_log</th>\n",
              "      <th>Brand</th>\n",
              "      <th>Model</th>\n",
              "    </tr>\n",
              "  </thead>\n",
              "  <tbody>\n",
              "    <tr>\n",
              "      <th>0</th>\n",
              "      <td>Maruti Wagon R LXI CNG</td>\n",
              "      <td>Mumbai</td>\n",
              "      <td>2010</td>\n",
              "      <td>72000</td>\n",
              "      <td>CNG</td>\n",
              "      <td>Manual</td>\n",
              "      <td>First</td>\n",
              "      <td>26.60</td>\n",
              "      <td>998.0</td>\n",
              "      <td>58.16</td>\n",
              "      <td>5.0</td>\n",
              "      <td>NaN</td>\n",
              "      <td>1.75</td>\n",
              "      <td>11.184421</td>\n",
              "      <td>0.559616</td>\n",
              "      <td>Maruti</td>\n",
              "      <td>Wagon</td>\n",
              "    </tr>\n",
              "    <tr>\n",
              "      <th>1</th>\n",
              "      <td>Hyundai Creta 1.6 CRDi SX Option</td>\n",
              "      <td>Pune</td>\n",
              "      <td>2015</td>\n",
              "      <td>41000</td>\n",
              "      <td>Diesel</td>\n",
              "      <td>Manual</td>\n",
              "      <td>First</td>\n",
              "      <td>19.67</td>\n",
              "      <td>1582.0</td>\n",
              "      <td>126.20</td>\n",
              "      <td>5.0</td>\n",
              "      <td>NaN</td>\n",
              "      <td>12.50</td>\n",
              "      <td>10.621327</td>\n",
              "      <td>2.525729</td>\n",
              "      <td>Hyundai</td>\n",
              "      <td>Creta</td>\n",
              "    </tr>\n",
              "    <tr>\n",
              "      <th>2</th>\n",
              "      <td>Honda Jazz V</td>\n",
              "      <td>Chennai</td>\n",
              "      <td>2011</td>\n",
              "      <td>46000</td>\n",
              "      <td>Petrol</td>\n",
              "      <td>Manual</td>\n",
              "      <td>First</td>\n",
              "      <td>18.20</td>\n",
              "      <td>1199.0</td>\n",
              "      <td>88.70</td>\n",
              "      <td>5.0</td>\n",
              "      <td>8.61</td>\n",
              "      <td>4.50</td>\n",
              "      <td>10.736397</td>\n",
              "      <td>1.504077</td>\n",
              "      <td>Honda</td>\n",
              "      <td>Jazz</td>\n",
              "    </tr>\n",
              "    <tr>\n",
              "      <th>3</th>\n",
              "      <td>Maruti Ertiga VDI</td>\n",
              "      <td>Chennai</td>\n",
              "      <td>2012</td>\n",
              "      <td>87000</td>\n",
              "      <td>Diesel</td>\n",
              "      <td>Manual</td>\n",
              "      <td>First</td>\n",
              "      <td>20.77</td>\n",
              "      <td>1248.0</td>\n",
              "      <td>88.76</td>\n",
              "      <td>7.0</td>\n",
              "      <td>NaN</td>\n",
              "      <td>6.00</td>\n",
              "      <td>11.373663</td>\n",
              "      <td>1.791759</td>\n",
              "      <td>Maruti</td>\n",
              "      <td>Ertiga</td>\n",
              "    </tr>\n",
              "    <tr>\n",
              "      <th>4</th>\n",
              "      <td>Audi A4 New 2.0 TDI Multitronic</td>\n",
              "      <td>Coimbatore</td>\n",
              "      <td>2013</td>\n",
              "      <td>40670</td>\n",
              "      <td>Diesel</td>\n",
              "      <td>Automatic</td>\n",
              "      <td>Second</td>\n",
              "      <td>15.20</td>\n",
              "      <td>1968.0</td>\n",
              "      <td>140.80</td>\n",
              "      <td>5.0</td>\n",
              "      <td>NaN</td>\n",
              "      <td>17.74</td>\n",
              "      <td>10.613246</td>\n",
              "      <td>2.875822</td>\n",
              "      <td>Audi</td>\n",
              "      <td>A4</td>\n",
              "    </tr>\n",
              "  </tbody>\n",
              "</table>\n",
              "</div>\n",
              "      <button class=\"colab-df-convert\" onclick=\"convertToInteractive('df-23349553-47c0-4563-a786-afdd42d60283')\"\n",
              "              title=\"Convert this dataframe to an interactive table.\"\n",
              "              style=\"display:none;\">\n",
              "        \n",
              "  <svg xmlns=\"http://www.w3.org/2000/svg\" height=\"24px\"viewBox=\"0 0 24 24\"\n",
              "       width=\"24px\">\n",
              "    <path d=\"M0 0h24v24H0V0z\" fill=\"none\"/>\n",
              "    <path d=\"M18.56 5.44l.94 2.06.94-2.06 2.06-.94-2.06-.94-.94-2.06-.94 2.06-2.06.94zm-11 1L8.5 8.5l.94-2.06 2.06-.94-2.06-.94L8.5 2.5l-.94 2.06-2.06.94zm10 10l.94 2.06.94-2.06 2.06-.94-2.06-.94-.94-2.06-.94 2.06-2.06.94z\"/><path d=\"M17.41 7.96l-1.37-1.37c-.4-.4-.92-.59-1.43-.59-.52 0-1.04.2-1.43.59L10.3 9.45l-7.72 7.72c-.78.78-.78 2.05 0 2.83L4 21.41c.39.39.9.59 1.41.59.51 0 1.02-.2 1.41-.59l7.78-7.78 2.81-2.81c.8-.78.8-2.07 0-2.86zM5.41 20L4 18.59l7.72-7.72 1.47 1.35L5.41 20z\"/>\n",
              "  </svg>\n",
              "      </button>\n",
              "      \n",
              "  <style>\n",
              "    .colab-df-container {\n",
              "      display:flex;\n",
              "      flex-wrap:wrap;\n",
              "      gap: 12px;\n",
              "    }\n",
              "\n",
              "    .colab-df-convert {\n",
              "      background-color: #E8F0FE;\n",
              "      border: none;\n",
              "      border-radius: 50%;\n",
              "      cursor: pointer;\n",
              "      display: none;\n",
              "      fill: #1967D2;\n",
              "      height: 32px;\n",
              "      padding: 0 0 0 0;\n",
              "      width: 32px;\n",
              "    }\n",
              "\n",
              "    .colab-df-convert:hover {\n",
              "      background-color: #E2EBFA;\n",
              "      box-shadow: 0px 1px 2px rgba(60, 64, 67, 0.3), 0px 1px 3px 1px rgba(60, 64, 67, 0.15);\n",
              "      fill: #174EA6;\n",
              "    }\n",
              "\n",
              "    [theme=dark] .colab-df-convert {\n",
              "      background-color: #3B4455;\n",
              "      fill: #D2E3FC;\n",
              "    }\n",
              "\n",
              "    [theme=dark] .colab-df-convert:hover {\n",
              "      background-color: #434B5C;\n",
              "      box-shadow: 0px 1px 3px 1px rgba(0, 0, 0, 0.15);\n",
              "      filter: drop-shadow(0px 1px 2px rgba(0, 0, 0, 0.3));\n",
              "      fill: #FFFFFF;\n",
              "    }\n",
              "  </style>\n",
              "\n",
              "      <script>\n",
              "        const buttonEl =\n",
              "          document.querySelector('#df-23349553-47c0-4563-a786-afdd42d60283 button.colab-df-convert');\n",
              "        buttonEl.style.display =\n",
              "          google.colab.kernel.accessAllowed ? 'block' : 'none';\n",
              "\n",
              "        async function convertToInteractive(key) {\n",
              "          const element = document.querySelector('#df-23349553-47c0-4563-a786-afdd42d60283');\n",
              "          const dataTable =\n",
              "            await google.colab.kernel.invokeFunction('convertToInteractive',\n",
              "                                                     [key], {});\n",
              "          if (!dataTable) return;\n",
              "\n",
              "          const docLinkHtml = 'Like what you see? Visit the ' +\n",
              "            '<a target=\"_blank\" href=https://colab.research.google.com/notebooks/data_table.ipynb>data table notebook</a>'\n",
              "            + ' to learn more about interactive tables.';\n",
              "          element.innerHTML = '';\n",
              "          dataTable['output_type'] = 'display_data';\n",
              "          await google.colab.output.renderOutput(dataTable, element);\n",
              "          const docLink = document.createElement('div');\n",
              "          docLink.innerHTML = docLinkHtml;\n",
              "          element.appendChild(docLink);\n",
              "        }\n",
              "      </script>\n",
              "    </div>\n",
              "  </div>\n",
              "  "
            ]
          },
          "metadata": {},
          "execution_count": 51
        }
      ],
      "source": [
        "data.head()"
      ]
    },
    {
      "cell_type": "markdown",
      "metadata": {
        "id": "cPMwjKyhtOS3"
      },
      "source": [
        "#### **Observations and Insights: **\n",
        "\n",
        "- 2 new variables were added, named Brand and Model."
      ]
    },
    {
      "cell_type": "markdown",
      "metadata": {
        "id": "2N4fU3TetOS3"
      },
      "source": [
        "### **Missing value treatment**"
      ]
    },
    {
      "cell_type": "code",
      "execution_count": null,
      "metadata": {
        "id": "fqZJaxW-tOS4",
        "colab": {
          "base_uri": "https://localhost:8080/"
        },
        "outputId": "330cda36-34aa-4391-8354-8fe77d8d0daf"
      },
      "outputs": [
        {
          "output_type": "execute_result",
          "data": {
            "text/plain": [
              "Name                        0\n",
              "Location                    0\n",
              "Year                        0\n",
              "Kilometers_Driven           0\n",
              "Fuel_Type                   0\n",
              "Transmission                0\n",
              "Owner_Type                  0\n",
              "Mileage                     2\n",
              "Engine                     46\n",
              "Power                     175\n",
              "Seats                      53\n",
              "New_price                6246\n",
              "Price                    1234\n",
              "kilometers_driven_log       0\n",
              "price_log                1234\n",
              "Brand                       0\n",
              "Model                       0\n",
              "dtype: int64"
            ]
          },
          "metadata": {},
          "execution_count": 52
        }
      ],
      "source": [
        "# Now check the missing values of each column. Hint: Use isnull() method\n",
        "\n",
        "data.isnull().sum()"
      ]
    },
    {
      "cell_type": "markdown",
      "metadata": {
        "id": "9D0K7dWHtOS4"
      },
      "source": [
        "#### **Observations and Insights: **\n",
        "\n",
        "- There's a lot of missing values for Price and New_price."
      ]
    },
    {
      "cell_type": "markdown",
      "metadata": {
        "id": "0g1JA9HltOS4"
      },
      "source": [
        "**Missing values in Seats**"
      ]
    },
    {
      "cell_type": "code",
      "execution_count": null,
      "metadata": {
        "id": "0ygbJcoOtOS4",
        "scrolled": true,
        "colab": {
          "base_uri": "https://localhost:8080/",
          "height": 1000
        },
        "outputId": "5bc4cdc8-25df-497e-b720-9e48232385e2"
      },
      "outputs": [
        {
          "output_type": "execute_result",
          "data": {
            "text/plain": [
              "                                              Name    Location  Year  \\\n",
              "194                             Honda City 1.5 GXI   Ahmedabad  2007   \n",
              "208                           Maruti Swift 1.3 VXi     Kolkata  2010   \n",
              "229                               Ford Figo Diesel   Bangalore  2015   \n",
              "733                           Maruti Swift 1.3 VXi     Chennai  2006   \n",
              "749                   Land Rover Range Rover 3.0 D      Mumbai  2008   \n",
              "1294                             Honda City 1.3 DX       Delhi  2009   \n",
              "1327                          Maruti Swift 1.3 ZXI   Hyderabad  2015   \n",
              "1385                            Honda City 1.5 GXI        Pune  2004   \n",
              "1460  Land Rover Range Rover Sport 2005 2012 Sport  Coimbatore  2008   \n",
              "1917                            Honda City 1.5 EXI      Jaipur  2005   \n",
              "2074                          Maruti Swift 1.3 LXI        Pune  2011   \n",
              "2096                     Hyundai Santro LP zipPlus  Coimbatore  2004   \n",
              "2264                           Toyota Etios Liva V        Pune  2012   \n",
              "2325                      Maruti Swift 1.3 VXI ABS        Pune  2015   \n",
              "2335                          Maruti Swift 1.3 VXi      Mumbai  2007   \n",
              "2369                             Maruti Estilo LXI     Chennai  2008   \n",
              "2530                       BMW 5 Series 520d Sedan       Kochi  2014   \n",
              "2542               Hyundai Santro GLS II - Euro II   Bangalore  2011   \n",
              "2623                       BMW 5 Series 520d Sedan        Pune  2012   \n",
              "2668                          Maruti Swift 1.3 VXi     Kolkata  2014   \n",
              "2737                             Maruti Wagon R Vx      Jaipur  2001   \n",
              "2780               Hyundai Santro GLS II - Euro II        Pune  2009   \n",
              "2842               Hyundai Santro GLS II - Euro II   Bangalore  2012   \n",
              "3272                       BMW 5 Series 520d Sedan      Mumbai  2008   \n",
              "3404                          Maruti Swift 1.3 VXi      Jaipur  2006   \n",
              "3520                       BMW 5 Series 520d Sedan       Delhi  2012   \n",
              "3522               Hyundai Santro GLS II - Euro II       Kochi  2012   \n",
              "3800                   Ford Endeavour Hurricane LE      Mumbai  2012   \n",
              "3810                   Honda CR-V AT With Sun Roof     Kolkata  2013   \n",
              "3882                             Maruti Estilo LXI     Kolkata  2010   \n",
              "4011                        Fiat Punto 1.3 Emotion        Pune  2011   \n",
              "4152                  Land Rover Range Rover 3.0 D      Mumbai  2003   \n",
              "4229                        Hyundai Santro Xing XG   Bangalore  2005   \n",
              "4577                       BMW 5 Series 520d Sedan       Delhi  2012   \n",
              "4604                     Honda Jazz Select Edition        Pune  2011   \n",
              "4697                        Fiat Punto 1.2 Dynamic       Kochi  2017   \n",
              "4712                        Hyundai Santro Xing XG        Pune  2003   \n",
              "4952                        Fiat Punto 1.4 Emotion     Kolkata  2010   \n",
              "5015                          Maruti Swift 1.3 VXi       Delhi  2006   \n",
              "5185                          Maruti Swift 1.3 LXI       Delhi  2012   \n",
              "5270                            Honda City 1.5 GXI   Bangalore  2002   \n",
              "5893                             Maruti Estilo LXI     Chennai  2008   \n",
              "6042                  Skoda Laura 1.8 TSI Ambition   Bangalore  2009   \n",
              "6541         Toyota Etios Liva Diesel TRD Sportivo   Bangalore  2012   \n",
              "6544                 Hyundai i20 new Sportz AT 1.4   Bangalore  2012   \n",
              "6633                           Mahindra TUV 300 P4     Kolkata  2016   \n",
              "6643                       BMW 5 Series 520d Sedan   Bangalore  2009   \n",
              "6651                          Maruti Swift 1.3 VXi     Kolkata  2015   \n",
              "6677                        Fiat Punto 1.4 Emotion      Jaipur  2010   \n",
              "6685                          Maruti Swift 1.3 VXi        Pune  2010   \n",
              "6880                       BMW 5 Series 520d Sedan     Chennai  2009   \n",
              "6902                           Toyota Etios Liva V       Kochi  2012   \n",
              "6957                        Honda Jazz 2020 Petrol       Kochi  2019   \n",
              "\n",
              "      Kilometers_Driven Fuel_Type Transmission      Owner_Type  Mileage  \\\n",
              "194               60006    Petrol       Manual           First     0.00   \n",
              "208               42001    Petrol       Manual           First    16.10   \n",
              "229               70436    Diesel       Manual           First     0.00   \n",
              "733               97800    Petrol       Manual           Third    16.10   \n",
              "749               55001    Diesel    Automatic          Second     0.00   \n",
              "1294              55005    Petrol       Manual           First    12.80   \n",
              "1327              50295    Petrol       Manual           First    16.10   \n",
              "1385             115000    Petrol       Manual          Second     0.00   \n",
              "1460              69078    Petrol       Manual           First     0.00   \n",
              "1917              88000    Petrol       Manual          Second    13.00   \n",
              "2074              24255    Petrol       Manual           First    16.10   \n",
              "2096              52146    Petrol       Manual           First     0.00   \n",
              "2264              24500    Petrol       Manual          Second    18.30   \n",
              "2325              67000    Petrol       Manual           First    16.10   \n",
              "2335              55000    Petrol       Manual          Second    16.10   \n",
              "2369              56000    Petrol       Manual          Second    19.50   \n",
              "2530              64158    Diesel    Automatic           First    18.48   \n",
              "2542              65000    Petrol       Manual          Second     0.00   \n",
              "2623              95000    Diesel    Automatic          Second    18.48   \n",
              "2668              32986    Petrol       Manual           First    16.10   \n",
              "2737             200000    Petrol       Manual           First    12.00   \n",
              "2780             100000    Petrol       Manual           First     0.00   \n",
              "2842              43000    Petrol       Manual           First     0.00   \n",
              "3272              81000    Diesel    Automatic          Second    18.48   \n",
              "3404             125000    Petrol       Manual  Fourth & Above    16.10   \n",
              "3520              90000    Diesel    Automatic           First    18.48   \n",
              "3522              66400    Petrol       Manual           First     0.00   \n",
              "3800             129000    Diesel    Automatic           First    12.80   \n",
              "3810              27000    Petrol    Automatic           First    14.00   \n",
              "3882              40000    Petrol       Manual          Second    19.50   \n",
              "4011              45271    Diesel       Manual           First    20.30   \n",
              "4152              75000    Diesel    Automatic          Second     0.00   \n",
              "4229              79000    Petrol       Manual          Second    17.00   \n",
              "4577              72000    Diesel    Automatic           Third    18.48   \n",
              "4604              98000    Petrol       Manual           First    16.70   \n",
              "4697              17941    Petrol       Manual           First    15.70   \n",
              "4712              80000    Petrol       Manual          Second    17.00   \n",
              "4952              47000    Petrol       Manual           First    14.60   \n",
              "5015              63000    Petrol       Manual           First    16.10   \n",
              "5185              52000    Petrol       Manual           First    16.10   \n",
              "5270              53000    Petrol       Manual          Second     0.00   \n",
              "5893              51000    Petrol       Manual          Second    19.50   \n",
              "6042              72000    Petrol       Manual          Second    17.50   \n",
              "6541              56600    Diesel       Manual           First    23.59   \n",
              "6544              58000    Petrol    Automatic          Second    15.00   \n",
              "6633              27000    Diesel       Manual           First     0.00   \n",
              "6643             150000    Diesel    Automatic          Second    18.48   \n",
              "6651              36009    Petrol       Manual           First    16.10   \n",
              "6677              65000    Petrol       Manual           Third    14.60   \n",
              "6685             115000    Petrol       Manual          Second    16.10   \n",
              "6880              95000    Diesel    Automatic          Second    18.48   \n",
              "6902              59311    Petrol       Manual           First    18.30   \n",
              "6957              11574    Petrol       Manual           First     0.00   \n",
              "\n",
              "      Engine  Power  Seats  New_price  Price  kilometers_driven_log  \\\n",
              "194      NaN    NaN    NaN        NaN   2.95              11.002200   \n",
              "208      NaN    NaN    NaN        NaN   2.11              10.645449   \n",
              "229   1498.0   99.0    NaN        NaN   3.60              11.162460   \n",
              "733      NaN    NaN    NaN        NaN   1.75              11.490680   \n",
              "749      NaN    NaN    NaN        NaN  26.50              10.915107   \n",
              "1294     NaN    NaN    NaN        NaN   3.20              10.915179   \n",
              "1327     NaN    NaN    NaN        NaN   5.80              10.825661   \n",
              "1385     NaN    NaN    NaN        NaN   1.50              11.652687   \n",
              "1460     NaN    NaN    NaN        NaN  40.88              11.142992   \n",
              "1917  1493.0  100.0    NaN        NaN   1.70              11.385092   \n",
              "2074     NaN    NaN    NaN        NaN   3.15              10.096378   \n",
              "2096     NaN    NaN    NaN        NaN   1.93              10.861803   \n",
              "2264     NaN    NaN    NaN        NaN   2.95              10.106428   \n",
              "2325     NaN    NaN    NaN        NaN   4.70              11.112448   \n",
              "2335     NaN    NaN    NaN        NaN   1.75              10.915088   \n",
              "2369  1061.0    NaN    NaN        NaN   1.50              10.933107   \n",
              "2530     NaN    NaN    NaN        NaN  17.89              11.069104   \n",
              "2542     NaN    NaN    NaN        NaN   3.15              11.082143   \n",
              "2623     NaN    NaN    NaN        NaN  18.00              11.461632   \n",
              "2668     NaN    NaN    NaN        NaN   4.24              10.403839   \n",
              "2737     NaN    NaN    NaN        NaN   0.70              12.206073   \n",
              "2780     NaN    NaN    NaN        NaN   1.60              11.512925   \n",
              "2842     NaN    NaN    NaN        NaN   3.25              10.668955   \n",
              "3272     NaN    NaN    NaN        NaN  10.50              11.302204   \n",
              "3404     NaN    NaN    NaN        NaN   2.35              11.736069   \n",
              "3520     NaN    NaN    NaN        NaN  14.50              11.407565   \n",
              "3522     NaN    NaN    NaN        NaN   2.66              11.103452   \n",
              "3800  2953.0    NaN    NaN        NaN   7.00              11.767568   \n",
              "3810     NaN    NaN    NaN        NaN  11.99              10.203592   \n",
              "3882  1061.0    NaN    NaN        NaN   2.50              10.596635   \n",
              "4011     NaN    NaN    NaN        NaN   2.60              10.720422   \n",
              "4152     NaN    NaN    NaN        NaN  16.11              11.225243   \n",
              "4229     NaN    NaN    NaN        NaN   1.65              11.277203   \n",
              "4577     NaN    NaN    NaN        NaN  13.85              11.184421   \n",
              "4604     NaN    NaN    NaN        NaN   3.15              11.492723   \n",
              "4697     NaN    NaN    NaN        NaN   3.93               9.794844   \n",
              "4712     NaN    NaN    NaN        NaN   0.90              11.289782   \n",
              "4952     NaN    NaN    NaN        NaN   1.49              10.757903   \n",
              "5015     NaN    NaN    NaN        NaN   1.60              11.050890   \n",
              "5185     NaN    NaN    NaN        NaN   3.65              10.858999   \n",
              "5270     NaN    NaN    NaN        NaN   1.85              10.878047   \n",
              "5893  1061.0    NaN    NaN        NaN   1.75              10.839581   \n",
              "6042     NaN    NaN    NaN        NaN    NaN              11.184421   \n",
              "6541     NaN    NaN    NaN        NaN    NaN              10.943764   \n",
              "6544     NaN    NaN    NaN        NaN    NaN              10.968198   \n",
              "6633     NaN    NaN    NaN        NaN    NaN              10.203592   \n",
              "6643     NaN    NaN    NaN        NaN    NaN              11.918391   \n",
              "6651     NaN    NaN    NaN        NaN    NaN              10.491524   \n",
              "6677     NaN    NaN    NaN        NaN    NaN              11.082143   \n",
              "6685     NaN    NaN    NaN        NaN    NaN              11.652687   \n",
              "6880     NaN    NaN    NaN        NaN    NaN              11.461632   \n",
              "6902     NaN    NaN    NaN        NaN    NaN              10.990550   \n",
              "6957  1199.0   88.7    NaN        NaN    NaN               9.356516   \n",
              "\n",
              "      price_log     Brand      Model  \n",
              "194    1.081805     Honda       City  \n",
              "208    0.746688    Maruti      Swift  \n",
              "229    1.280934      Ford       Figo  \n",
              "733    0.559616    Maruti      Swift  \n",
              "749    3.277145      Land      Rover  \n",
              "1294   1.163151     Honda       City  \n",
              "1327   1.757858    Maruti      Swift  \n",
              "1385   0.405465     Honda       City  \n",
              "1460   3.710641      Land      Rover  \n",
              "1917   0.530628     Honda       City  \n",
              "2074   1.147402    Maruti      Swift  \n",
              "2096   0.657520   Hyundai     Santro  \n",
              "2264   1.081805    Toyota      Etios  \n",
              "2325   1.547563    Maruti      Swift  \n",
              "2335   0.559616    Maruti      Swift  \n",
              "2369   0.405465    Maruti     Estilo  \n",
              "2530   2.884242       BMW          5  \n",
              "2542   1.147402   Hyundai     Santro  \n",
              "2623   2.890372       BMW          5  \n",
              "2668   1.444563    Maruti      Swift  \n",
              "2737  -0.356675    Maruti      Wagon  \n",
              "2780   0.470004   Hyundai     Santro  \n",
              "2842   1.178655   Hyundai     Santro  \n",
              "3272   2.351375       BMW          5  \n",
              "3404   0.854415    Maruti      Swift  \n",
              "3520   2.674149       BMW          5  \n",
              "3522   0.978326   Hyundai     Santro  \n",
              "3800   1.945910      Ford  Endeavour  \n",
              "3810   2.484073     Honda       CR-V  \n",
              "3882   0.916291    Maruti     Estilo  \n",
              "4011   0.955511      Fiat      Punto  \n",
              "4152   2.779440      Land      Rover  \n",
              "4229   0.500775   Hyundai     Santro  \n",
              "4577   2.628285       BMW          5  \n",
              "4604   1.147402     Honda       Jazz  \n",
              "4697   1.368639      Fiat      Punto  \n",
              "4712  -0.105361   Hyundai     Santro  \n",
              "4952   0.398776      Fiat      Punto  \n",
              "5015   0.470004    Maruti      Swift  \n",
              "5185   1.294727    Maruti      Swift  \n",
              "5270   0.615186     Honda       City  \n",
              "5893   0.559616    Maruti     Estilo  \n",
              "6042        NaN     Skoda      Laura  \n",
              "6541        NaN    Toyota      Etios  \n",
              "6544        NaN   Hyundai        i20  \n",
              "6633        NaN  Mahindra        TUV  \n",
              "6643        NaN       BMW          5  \n",
              "6651        NaN    Maruti      Swift  \n",
              "6677        NaN      Fiat      Punto  \n",
              "6685        NaN    Maruti      Swift  \n",
              "6880        NaN       BMW          5  \n",
              "6902        NaN    Toyota      Etios  \n",
              "6957        NaN     Honda       Jazz  "
            ],
            "text/html": [
              "\n",
              "  <div id=\"df-548af8c7-0a62-4261-bd6b-e7bfe7f8c086\">\n",
              "    <div class=\"colab-df-container\">\n",
              "      <div>\n",
              "<style scoped>\n",
              "    .dataframe tbody tr th:only-of-type {\n",
              "        vertical-align: middle;\n",
              "    }\n",
              "\n",
              "    .dataframe tbody tr th {\n",
              "        vertical-align: top;\n",
              "    }\n",
              "\n",
              "    .dataframe thead th {\n",
              "        text-align: right;\n",
              "    }\n",
              "</style>\n",
              "<table border=\"1\" class=\"dataframe\">\n",
              "  <thead>\n",
              "    <tr style=\"text-align: right;\">\n",
              "      <th></th>\n",
              "      <th>Name</th>\n",
              "      <th>Location</th>\n",
              "      <th>Year</th>\n",
              "      <th>Kilometers_Driven</th>\n",
              "      <th>Fuel_Type</th>\n",
              "      <th>Transmission</th>\n",
              "      <th>Owner_Type</th>\n",
              "      <th>Mileage</th>\n",
              "      <th>Engine</th>\n",
              "      <th>Power</th>\n",
              "      <th>Seats</th>\n",
              "      <th>New_price</th>\n",
              "      <th>Price</th>\n",
              "      <th>kilometers_driven_log</th>\n",
              "      <th>price_log</th>\n",
              "      <th>Brand</th>\n",
              "      <th>Model</th>\n",
              "    </tr>\n",
              "  </thead>\n",
              "  <tbody>\n",
              "    <tr>\n",
              "      <th>194</th>\n",
              "      <td>Honda City 1.5 GXI</td>\n",
              "      <td>Ahmedabad</td>\n",
              "      <td>2007</td>\n",
              "      <td>60006</td>\n",
              "      <td>Petrol</td>\n",
              "      <td>Manual</td>\n",
              "      <td>First</td>\n",
              "      <td>0.00</td>\n",
              "      <td>NaN</td>\n",
              "      <td>NaN</td>\n",
              "      <td>NaN</td>\n",
              "      <td>NaN</td>\n",
              "      <td>2.95</td>\n",
              "      <td>11.002200</td>\n",
              "      <td>1.081805</td>\n",
              "      <td>Honda</td>\n",
              "      <td>City</td>\n",
              "    </tr>\n",
              "    <tr>\n",
              "      <th>208</th>\n",
              "      <td>Maruti Swift 1.3 VXi</td>\n",
              "      <td>Kolkata</td>\n",
              "      <td>2010</td>\n",
              "      <td>42001</td>\n",
              "      <td>Petrol</td>\n",
              "      <td>Manual</td>\n",
              "      <td>First</td>\n",
              "      <td>16.10</td>\n",
              "      <td>NaN</td>\n",
              "      <td>NaN</td>\n",
              "      <td>NaN</td>\n",
              "      <td>NaN</td>\n",
              "      <td>2.11</td>\n",
              "      <td>10.645449</td>\n",
              "      <td>0.746688</td>\n",
              "      <td>Maruti</td>\n",
              "      <td>Swift</td>\n",
              "    </tr>\n",
              "    <tr>\n",
              "      <th>229</th>\n",
              "      <td>Ford Figo Diesel</td>\n",
              "      <td>Bangalore</td>\n",
              "      <td>2015</td>\n",
              "      <td>70436</td>\n",
              "      <td>Diesel</td>\n",
              "      <td>Manual</td>\n",
              "      <td>First</td>\n",
              "      <td>0.00</td>\n",
              "      <td>1498.0</td>\n",
              "      <td>99.0</td>\n",
              "      <td>NaN</td>\n",
              "      <td>NaN</td>\n",
              "      <td>3.60</td>\n",
              "      <td>11.162460</td>\n",
              "      <td>1.280934</td>\n",
              "      <td>Ford</td>\n",
              "      <td>Figo</td>\n",
              "    </tr>\n",
              "    <tr>\n",
              "      <th>733</th>\n",
              "      <td>Maruti Swift 1.3 VXi</td>\n",
              "      <td>Chennai</td>\n",
              "      <td>2006</td>\n",
              "      <td>97800</td>\n",
              "      <td>Petrol</td>\n",
              "      <td>Manual</td>\n",
              "      <td>Third</td>\n",
              "      <td>16.10</td>\n",
              "      <td>NaN</td>\n",
              "      <td>NaN</td>\n",
              "      <td>NaN</td>\n",
              "      <td>NaN</td>\n",
              "      <td>1.75</td>\n",
              "      <td>11.490680</td>\n",
              "      <td>0.559616</td>\n",
              "      <td>Maruti</td>\n",
              "      <td>Swift</td>\n",
              "    </tr>\n",
              "    <tr>\n",
              "      <th>749</th>\n",
              "      <td>Land Rover Range Rover 3.0 D</td>\n",
              "      <td>Mumbai</td>\n",
              "      <td>2008</td>\n",
              "      <td>55001</td>\n",
              "      <td>Diesel</td>\n",
              "      <td>Automatic</td>\n",
              "      <td>Second</td>\n",
              "      <td>0.00</td>\n",
              "      <td>NaN</td>\n",
              "      <td>NaN</td>\n",
              "      <td>NaN</td>\n",
              "      <td>NaN</td>\n",
              "      <td>26.50</td>\n",
              "      <td>10.915107</td>\n",
              "      <td>3.277145</td>\n",
              "      <td>Land</td>\n",
              "      <td>Rover</td>\n",
              "    </tr>\n",
              "    <tr>\n",
              "      <th>1294</th>\n",
              "      <td>Honda City 1.3 DX</td>\n",
              "      <td>Delhi</td>\n",
              "      <td>2009</td>\n",
              "      <td>55005</td>\n",
              "      <td>Petrol</td>\n",
              "      <td>Manual</td>\n",
              "      <td>First</td>\n",
              "      <td>12.80</td>\n",
              "      <td>NaN</td>\n",
              "      <td>NaN</td>\n",
              "      <td>NaN</td>\n",
              "      <td>NaN</td>\n",
              "      <td>3.20</td>\n",
              "      <td>10.915179</td>\n",
              "      <td>1.163151</td>\n",
              "      <td>Honda</td>\n",
              "      <td>City</td>\n",
              "    </tr>\n",
              "    <tr>\n",
              "      <th>1327</th>\n",
              "      <td>Maruti Swift 1.3 ZXI</td>\n",
              "      <td>Hyderabad</td>\n",
              "      <td>2015</td>\n",
              "      <td>50295</td>\n",
              "      <td>Petrol</td>\n",
              "      <td>Manual</td>\n",
              "      <td>First</td>\n",
              "      <td>16.10</td>\n",
              "      <td>NaN</td>\n",
              "      <td>NaN</td>\n",
              "      <td>NaN</td>\n",
              "      <td>NaN</td>\n",
              "      <td>5.80</td>\n",
              "      <td>10.825661</td>\n",
              "      <td>1.757858</td>\n",
              "      <td>Maruti</td>\n",
              "      <td>Swift</td>\n",
              "    </tr>\n",
              "    <tr>\n",
              "      <th>1385</th>\n",
              "      <td>Honda City 1.5 GXI</td>\n",
              "      <td>Pune</td>\n",
              "      <td>2004</td>\n",
              "      <td>115000</td>\n",
              "      <td>Petrol</td>\n",
              "      <td>Manual</td>\n",
              "      <td>Second</td>\n",
              "      <td>0.00</td>\n",
              "      <td>NaN</td>\n",
              "      <td>NaN</td>\n",
              "      <td>NaN</td>\n",
              "      <td>NaN</td>\n",
              "      <td>1.50</td>\n",
              "      <td>11.652687</td>\n",
              "      <td>0.405465</td>\n",
              "      <td>Honda</td>\n",
              "      <td>City</td>\n",
              "    </tr>\n",
              "    <tr>\n",
              "      <th>1460</th>\n",
              "      <td>Land Rover Range Rover Sport 2005 2012 Sport</td>\n",
              "      <td>Coimbatore</td>\n",
              "      <td>2008</td>\n",
              "      <td>69078</td>\n",
              "      <td>Petrol</td>\n",
              "      <td>Manual</td>\n",
              "      <td>First</td>\n",
              "      <td>0.00</td>\n",
              "      <td>NaN</td>\n",
              "      <td>NaN</td>\n",
              "      <td>NaN</td>\n",
              "      <td>NaN</td>\n",
              "      <td>40.88</td>\n",
              "      <td>11.142992</td>\n",
              "      <td>3.710641</td>\n",
              "      <td>Land</td>\n",
              "      <td>Rover</td>\n",
              "    </tr>\n",
              "    <tr>\n",
              "      <th>1917</th>\n",
              "      <td>Honda City 1.5 EXI</td>\n",
              "      <td>Jaipur</td>\n",
              "      <td>2005</td>\n",
              "      <td>88000</td>\n",
              "      <td>Petrol</td>\n",
              "      <td>Manual</td>\n",
              "      <td>Second</td>\n",
              "      <td>13.00</td>\n",
              "      <td>1493.0</td>\n",
              "      <td>100.0</td>\n",
              "      <td>NaN</td>\n",
              "      <td>NaN</td>\n",
              "      <td>1.70</td>\n",
              "      <td>11.385092</td>\n",
              "      <td>0.530628</td>\n",
              "      <td>Honda</td>\n",
              "      <td>City</td>\n",
              "    </tr>\n",
              "    <tr>\n",
              "      <th>2074</th>\n",
              "      <td>Maruti Swift 1.3 LXI</td>\n",
              "      <td>Pune</td>\n",
              "      <td>2011</td>\n",
              "      <td>24255</td>\n",
              "      <td>Petrol</td>\n",
              "      <td>Manual</td>\n",
              "      <td>First</td>\n",
              "      <td>16.10</td>\n",
              "      <td>NaN</td>\n",
              "      <td>NaN</td>\n",
              "      <td>NaN</td>\n",
              "      <td>NaN</td>\n",
              "      <td>3.15</td>\n",
              "      <td>10.096378</td>\n",
              "      <td>1.147402</td>\n",
              "      <td>Maruti</td>\n",
              "      <td>Swift</td>\n",
              "    </tr>\n",
              "    <tr>\n",
              "      <th>2096</th>\n",
              "      <td>Hyundai Santro LP zipPlus</td>\n",
              "      <td>Coimbatore</td>\n",
              "      <td>2004</td>\n",
              "      <td>52146</td>\n",
              "      <td>Petrol</td>\n",
              "      <td>Manual</td>\n",
              "      <td>First</td>\n",
              "      <td>0.00</td>\n",
              "      <td>NaN</td>\n",
              "      <td>NaN</td>\n",
              "      <td>NaN</td>\n",
              "      <td>NaN</td>\n",
              "      <td>1.93</td>\n",
              "      <td>10.861803</td>\n",
              "      <td>0.657520</td>\n",
              "      <td>Hyundai</td>\n",
              "      <td>Santro</td>\n",
              "    </tr>\n",
              "    <tr>\n",
              "      <th>2264</th>\n",
              "      <td>Toyota Etios Liva V</td>\n",
              "      <td>Pune</td>\n",
              "      <td>2012</td>\n",
              "      <td>24500</td>\n",
              "      <td>Petrol</td>\n",
              "      <td>Manual</td>\n",
              "      <td>Second</td>\n",
              "      <td>18.30</td>\n",
              "      <td>NaN</td>\n",
              "      <td>NaN</td>\n",
              "      <td>NaN</td>\n",
              "      <td>NaN</td>\n",
              "      <td>2.95</td>\n",
              "      <td>10.106428</td>\n",
              "      <td>1.081805</td>\n",
              "      <td>Toyota</td>\n",
              "      <td>Etios</td>\n",
              "    </tr>\n",
              "    <tr>\n",
              "      <th>2325</th>\n",
              "      <td>Maruti Swift 1.3 VXI ABS</td>\n",
              "      <td>Pune</td>\n",
              "      <td>2015</td>\n",
              "      <td>67000</td>\n",
              "      <td>Petrol</td>\n",
              "      <td>Manual</td>\n",
              "      <td>First</td>\n",
              "      <td>16.10</td>\n",
              "      <td>NaN</td>\n",
              "      <td>NaN</td>\n",
              "      <td>NaN</td>\n",
              "      <td>NaN</td>\n",
              "      <td>4.70</td>\n",
              "      <td>11.112448</td>\n",
              "      <td>1.547563</td>\n",
              "      <td>Maruti</td>\n",
              "      <td>Swift</td>\n",
              "    </tr>\n",
              "    <tr>\n",
              "      <th>2335</th>\n",
              "      <td>Maruti Swift 1.3 VXi</td>\n",
              "      <td>Mumbai</td>\n",
              "      <td>2007</td>\n",
              "      <td>55000</td>\n",
              "      <td>Petrol</td>\n",
              "      <td>Manual</td>\n",
              "      <td>Second</td>\n",
              "      <td>16.10</td>\n",
              "      <td>NaN</td>\n",
              "      <td>NaN</td>\n",
              "      <td>NaN</td>\n",
              "      <td>NaN</td>\n",
              "      <td>1.75</td>\n",
              "      <td>10.915088</td>\n",
              "      <td>0.559616</td>\n",
              "      <td>Maruti</td>\n",
              "      <td>Swift</td>\n",
              "    </tr>\n",
              "    <tr>\n",
              "      <th>2369</th>\n",
              "      <td>Maruti Estilo LXI</td>\n",
              "      <td>Chennai</td>\n",
              "      <td>2008</td>\n",
              "      <td>56000</td>\n",
              "      <td>Petrol</td>\n",
              "      <td>Manual</td>\n",
              "      <td>Second</td>\n",
              "      <td>19.50</td>\n",
              "      <td>1061.0</td>\n",
              "      <td>NaN</td>\n",
              "      <td>NaN</td>\n",
              "      <td>NaN</td>\n",
              "      <td>1.50</td>\n",
              "      <td>10.933107</td>\n",
              "      <td>0.405465</td>\n",
              "      <td>Maruti</td>\n",
              "      <td>Estilo</td>\n",
              "    </tr>\n",
              "    <tr>\n",
              "      <th>2530</th>\n",
              "      <td>BMW 5 Series 520d Sedan</td>\n",
              "      <td>Kochi</td>\n",
              "      <td>2014</td>\n",
              "      <td>64158</td>\n",
              "      <td>Diesel</td>\n",
              "      <td>Automatic</td>\n",
              "      <td>First</td>\n",
              "      <td>18.48</td>\n",
              "      <td>NaN</td>\n",
              "      <td>NaN</td>\n",
              "      <td>NaN</td>\n",
              "      <td>NaN</td>\n",
              "      <td>17.89</td>\n",
              "      <td>11.069104</td>\n",
              "      <td>2.884242</td>\n",
              "      <td>BMW</td>\n",
              "      <td>5</td>\n",
              "    </tr>\n",
              "    <tr>\n",
              "      <th>2542</th>\n",
              "      <td>Hyundai Santro GLS II - Euro II</td>\n",
              "      <td>Bangalore</td>\n",
              "      <td>2011</td>\n",
              "      <td>65000</td>\n",
              "      <td>Petrol</td>\n",
              "      <td>Manual</td>\n",
              "      <td>Second</td>\n",
              "      <td>0.00</td>\n",
              "      <td>NaN</td>\n",
              "      <td>NaN</td>\n",
              "      <td>NaN</td>\n",
              "      <td>NaN</td>\n",
              "      <td>3.15</td>\n",
              "      <td>11.082143</td>\n",
              "      <td>1.147402</td>\n",
              "      <td>Hyundai</td>\n",
              "      <td>Santro</td>\n",
              "    </tr>\n",
              "    <tr>\n",
              "      <th>2623</th>\n",
              "      <td>BMW 5 Series 520d Sedan</td>\n",
              "      <td>Pune</td>\n",
              "      <td>2012</td>\n",
              "      <td>95000</td>\n",
              "      <td>Diesel</td>\n",
              "      <td>Automatic</td>\n",
              "      <td>Second</td>\n",
              "      <td>18.48</td>\n",
              "      <td>NaN</td>\n",
              "      <td>NaN</td>\n",
              "      <td>NaN</td>\n",
              "      <td>NaN</td>\n",
              "      <td>18.00</td>\n",
              "      <td>11.461632</td>\n",
              "      <td>2.890372</td>\n",
              "      <td>BMW</td>\n",
              "      <td>5</td>\n",
              "    </tr>\n",
              "    <tr>\n",
              "      <th>2668</th>\n",
              "      <td>Maruti Swift 1.3 VXi</td>\n",
              "      <td>Kolkata</td>\n",
              "      <td>2014</td>\n",
              "      <td>32986</td>\n",
              "      <td>Petrol</td>\n",
              "      <td>Manual</td>\n",
              "      <td>First</td>\n",
              "      <td>16.10</td>\n",
              "      <td>NaN</td>\n",
              "      <td>NaN</td>\n",
              "      <td>NaN</td>\n",
              "      <td>NaN</td>\n",
              "      <td>4.24</td>\n",
              "      <td>10.403839</td>\n",
              "      <td>1.444563</td>\n",
              "      <td>Maruti</td>\n",
              "      <td>Swift</td>\n",
              "    </tr>\n",
              "    <tr>\n",
              "      <th>2737</th>\n",
              "      <td>Maruti Wagon R Vx</td>\n",
              "      <td>Jaipur</td>\n",
              "      <td>2001</td>\n",
              "      <td>200000</td>\n",
              "      <td>Petrol</td>\n",
              "      <td>Manual</td>\n",
              "      <td>First</td>\n",
              "      <td>12.00</td>\n",
              "      <td>NaN</td>\n",
              "      <td>NaN</td>\n",
              "      <td>NaN</td>\n",
              "      <td>NaN</td>\n",
              "      <td>0.70</td>\n",
              "      <td>12.206073</td>\n",
              "      <td>-0.356675</td>\n",
              "      <td>Maruti</td>\n",
              "      <td>Wagon</td>\n",
              "    </tr>\n",
              "    <tr>\n",
              "      <th>2780</th>\n",
              "      <td>Hyundai Santro GLS II - Euro II</td>\n",
              "      <td>Pune</td>\n",
              "      <td>2009</td>\n",
              "      <td>100000</td>\n",
              "      <td>Petrol</td>\n",
              "      <td>Manual</td>\n",
              "      <td>First</td>\n",
              "      <td>0.00</td>\n",
              "      <td>NaN</td>\n",
              "      <td>NaN</td>\n",
              "      <td>NaN</td>\n",
              "      <td>NaN</td>\n",
              "      <td>1.60</td>\n",
              "      <td>11.512925</td>\n",
              "      <td>0.470004</td>\n",
              "      <td>Hyundai</td>\n",
              "      <td>Santro</td>\n",
              "    </tr>\n",
              "    <tr>\n",
              "      <th>2842</th>\n",
              "      <td>Hyundai Santro GLS II - Euro II</td>\n",
              "      <td>Bangalore</td>\n",
              "      <td>2012</td>\n",
              "      <td>43000</td>\n",
              "      <td>Petrol</td>\n",
              "      <td>Manual</td>\n",
              "      <td>First</td>\n",
              "      <td>0.00</td>\n",
              "      <td>NaN</td>\n",
              "      <td>NaN</td>\n",
              "      <td>NaN</td>\n",
              "      <td>NaN</td>\n",
              "      <td>3.25</td>\n",
              "      <td>10.668955</td>\n",
              "      <td>1.178655</td>\n",
              "      <td>Hyundai</td>\n",
              "      <td>Santro</td>\n",
              "    </tr>\n",
              "    <tr>\n",
              "      <th>3272</th>\n",
              "      <td>BMW 5 Series 520d Sedan</td>\n",
              "      <td>Mumbai</td>\n",
              "      <td>2008</td>\n",
              "      <td>81000</td>\n",
              "      <td>Diesel</td>\n",
              "      <td>Automatic</td>\n",
              "      <td>Second</td>\n",
              "      <td>18.48</td>\n",
              "      <td>NaN</td>\n",
              "      <td>NaN</td>\n",
              "      <td>NaN</td>\n",
              "      <td>NaN</td>\n",
              "      <td>10.50</td>\n",
              "      <td>11.302204</td>\n",
              "      <td>2.351375</td>\n",
              "      <td>BMW</td>\n",
              "      <td>5</td>\n",
              "    </tr>\n",
              "    <tr>\n",
              "      <th>3404</th>\n",
              "      <td>Maruti Swift 1.3 VXi</td>\n",
              "      <td>Jaipur</td>\n",
              "      <td>2006</td>\n",
              "      <td>125000</td>\n",
              "      <td>Petrol</td>\n",
              "      <td>Manual</td>\n",
              "      <td>Fourth &amp; Above</td>\n",
              "      <td>16.10</td>\n",
              "      <td>NaN</td>\n",
              "      <td>NaN</td>\n",
              "      <td>NaN</td>\n",
              "      <td>NaN</td>\n",
              "      <td>2.35</td>\n",
              "      <td>11.736069</td>\n",
              "      <td>0.854415</td>\n",
              "      <td>Maruti</td>\n",
              "      <td>Swift</td>\n",
              "    </tr>\n",
              "    <tr>\n",
              "      <th>3520</th>\n",
              "      <td>BMW 5 Series 520d Sedan</td>\n",
              "      <td>Delhi</td>\n",
              "      <td>2012</td>\n",
              "      <td>90000</td>\n",
              "      <td>Diesel</td>\n",
              "      <td>Automatic</td>\n",
              "      <td>First</td>\n",
              "      <td>18.48</td>\n",
              "      <td>NaN</td>\n",
              "      <td>NaN</td>\n",
              "      <td>NaN</td>\n",
              "      <td>NaN</td>\n",
              "      <td>14.50</td>\n",
              "      <td>11.407565</td>\n",
              "      <td>2.674149</td>\n",
              "      <td>BMW</td>\n",
              "      <td>5</td>\n",
              "    </tr>\n",
              "    <tr>\n",
              "      <th>3522</th>\n",
              "      <td>Hyundai Santro GLS II - Euro II</td>\n",
              "      <td>Kochi</td>\n",
              "      <td>2012</td>\n",
              "      <td>66400</td>\n",
              "      <td>Petrol</td>\n",
              "      <td>Manual</td>\n",
              "      <td>First</td>\n",
              "      <td>0.00</td>\n",
              "      <td>NaN</td>\n",
              "      <td>NaN</td>\n",
              "      <td>NaN</td>\n",
              "      <td>NaN</td>\n",
              "      <td>2.66</td>\n",
              "      <td>11.103452</td>\n",
              "      <td>0.978326</td>\n",
              "      <td>Hyundai</td>\n",
              "      <td>Santro</td>\n",
              "    </tr>\n",
              "    <tr>\n",
              "      <th>3800</th>\n",
              "      <td>Ford Endeavour Hurricane LE</td>\n",
              "      <td>Mumbai</td>\n",
              "      <td>2012</td>\n",
              "      <td>129000</td>\n",
              "      <td>Diesel</td>\n",
              "      <td>Automatic</td>\n",
              "      <td>First</td>\n",
              "      <td>12.80</td>\n",
              "      <td>2953.0</td>\n",
              "      <td>NaN</td>\n",
              "      <td>NaN</td>\n",
              "      <td>NaN</td>\n",
              "      <td>7.00</td>\n",
              "      <td>11.767568</td>\n",
              "      <td>1.945910</td>\n",
              "      <td>Ford</td>\n",
              "      <td>Endeavour</td>\n",
              "    </tr>\n",
              "    <tr>\n",
              "      <th>3810</th>\n",
              "      <td>Honda CR-V AT With Sun Roof</td>\n",
              "      <td>Kolkata</td>\n",
              "      <td>2013</td>\n",
              "      <td>27000</td>\n",
              "      <td>Petrol</td>\n",
              "      <td>Automatic</td>\n",
              "      <td>First</td>\n",
              "      <td>14.00</td>\n",
              "      <td>NaN</td>\n",
              "      <td>NaN</td>\n",
              "      <td>NaN</td>\n",
              "      <td>NaN</td>\n",
              "      <td>11.99</td>\n",
              "      <td>10.203592</td>\n",
              "      <td>2.484073</td>\n",
              "      <td>Honda</td>\n",
              "      <td>CR-V</td>\n",
              "    </tr>\n",
              "    <tr>\n",
              "      <th>3882</th>\n",
              "      <td>Maruti Estilo LXI</td>\n",
              "      <td>Kolkata</td>\n",
              "      <td>2010</td>\n",
              "      <td>40000</td>\n",
              "      <td>Petrol</td>\n",
              "      <td>Manual</td>\n",
              "      <td>Second</td>\n",
              "      <td>19.50</td>\n",
              "      <td>1061.0</td>\n",
              "      <td>NaN</td>\n",
              "      <td>NaN</td>\n",
              "      <td>NaN</td>\n",
              "      <td>2.50</td>\n",
              "      <td>10.596635</td>\n",
              "      <td>0.916291</td>\n",
              "      <td>Maruti</td>\n",
              "      <td>Estilo</td>\n",
              "    </tr>\n",
              "    <tr>\n",
              "      <th>4011</th>\n",
              "      <td>Fiat Punto 1.3 Emotion</td>\n",
              "      <td>Pune</td>\n",
              "      <td>2011</td>\n",
              "      <td>45271</td>\n",
              "      <td>Diesel</td>\n",
              "      <td>Manual</td>\n",
              "      <td>First</td>\n",
              "      <td>20.30</td>\n",
              "      <td>NaN</td>\n",
              "      <td>NaN</td>\n",
              "      <td>NaN</td>\n",
              "      <td>NaN</td>\n",
              "      <td>2.60</td>\n",
              "      <td>10.720422</td>\n",
              "      <td>0.955511</td>\n",
              "      <td>Fiat</td>\n",
              "      <td>Punto</td>\n",
              "    </tr>\n",
              "    <tr>\n",
              "      <th>4152</th>\n",
              "      <td>Land Rover Range Rover 3.0 D</td>\n",
              "      <td>Mumbai</td>\n",
              "      <td>2003</td>\n",
              "      <td>75000</td>\n",
              "      <td>Diesel</td>\n",
              "      <td>Automatic</td>\n",
              "      <td>Second</td>\n",
              "      <td>0.00</td>\n",
              "      <td>NaN</td>\n",
              "      <td>NaN</td>\n",
              "      <td>NaN</td>\n",
              "      <td>NaN</td>\n",
              "      <td>16.11</td>\n",
              "      <td>11.225243</td>\n",
              "      <td>2.779440</td>\n",
              "      <td>Land</td>\n",
              "      <td>Rover</td>\n",
              "    </tr>\n",
              "    <tr>\n",
              "      <th>4229</th>\n",
              "      <td>Hyundai Santro Xing XG</td>\n",
              "      <td>Bangalore</td>\n",
              "      <td>2005</td>\n",
              "      <td>79000</td>\n",
              "      <td>Petrol</td>\n",
              "      <td>Manual</td>\n",
              "      <td>Second</td>\n",
              "      <td>17.00</td>\n",
              "      <td>NaN</td>\n",
              "      <td>NaN</td>\n",
              "      <td>NaN</td>\n",
              "      <td>NaN</td>\n",
              "      <td>1.65</td>\n",
              "      <td>11.277203</td>\n",
              "      <td>0.500775</td>\n",
              "      <td>Hyundai</td>\n",
              "      <td>Santro</td>\n",
              "    </tr>\n",
              "    <tr>\n",
              "      <th>4577</th>\n",
              "      <td>BMW 5 Series 520d Sedan</td>\n",
              "      <td>Delhi</td>\n",
              "      <td>2012</td>\n",
              "      <td>72000</td>\n",
              "      <td>Diesel</td>\n",
              "      <td>Automatic</td>\n",
              "      <td>Third</td>\n",
              "      <td>18.48</td>\n",
              "      <td>NaN</td>\n",
              "      <td>NaN</td>\n",
              "      <td>NaN</td>\n",
              "      <td>NaN</td>\n",
              "      <td>13.85</td>\n",
              "      <td>11.184421</td>\n",
              "      <td>2.628285</td>\n",
              "      <td>BMW</td>\n",
              "      <td>5</td>\n",
              "    </tr>\n",
              "    <tr>\n",
              "      <th>4604</th>\n",
              "      <td>Honda Jazz Select Edition</td>\n",
              "      <td>Pune</td>\n",
              "      <td>2011</td>\n",
              "      <td>98000</td>\n",
              "      <td>Petrol</td>\n",
              "      <td>Manual</td>\n",
              "      <td>First</td>\n",
              "      <td>16.70</td>\n",
              "      <td>NaN</td>\n",
              "      <td>NaN</td>\n",
              "      <td>NaN</td>\n",
              "      <td>NaN</td>\n",
              "      <td>3.15</td>\n",
              "      <td>11.492723</td>\n",
              "      <td>1.147402</td>\n",
              "      <td>Honda</td>\n",
              "      <td>Jazz</td>\n",
              "    </tr>\n",
              "    <tr>\n",
              "      <th>4697</th>\n",
              "      <td>Fiat Punto 1.2 Dynamic</td>\n",
              "      <td>Kochi</td>\n",
              "      <td>2017</td>\n",
              "      <td>17941</td>\n",
              "      <td>Petrol</td>\n",
              "      <td>Manual</td>\n",
              "      <td>First</td>\n",
              "      <td>15.70</td>\n",
              "      <td>NaN</td>\n",
              "      <td>NaN</td>\n",
              "      <td>NaN</td>\n",
              "      <td>NaN</td>\n",
              "      <td>3.93</td>\n",
              "      <td>9.794844</td>\n",
              "      <td>1.368639</td>\n",
              "      <td>Fiat</td>\n",
              "      <td>Punto</td>\n",
              "    </tr>\n",
              "    <tr>\n",
              "      <th>4712</th>\n",
              "      <td>Hyundai Santro Xing XG</td>\n",
              "      <td>Pune</td>\n",
              "      <td>2003</td>\n",
              "      <td>80000</td>\n",
              "      <td>Petrol</td>\n",
              "      <td>Manual</td>\n",
              "      <td>Second</td>\n",
              "      <td>17.00</td>\n",
              "      <td>NaN</td>\n",
              "      <td>NaN</td>\n",
              "      <td>NaN</td>\n",
              "      <td>NaN</td>\n",
              "      <td>0.90</td>\n",
              "      <td>11.289782</td>\n",
              "      <td>-0.105361</td>\n",
              "      <td>Hyundai</td>\n",
              "      <td>Santro</td>\n",
              "    </tr>\n",
              "    <tr>\n",
              "      <th>4952</th>\n",
              "      <td>Fiat Punto 1.4 Emotion</td>\n",
              "      <td>Kolkata</td>\n",
              "      <td>2010</td>\n",
              "      <td>47000</td>\n",
              "      <td>Petrol</td>\n",
              "      <td>Manual</td>\n",
              "      <td>First</td>\n",
              "      <td>14.60</td>\n",
              "      <td>NaN</td>\n",
              "      <td>NaN</td>\n",
              "      <td>NaN</td>\n",
              "      <td>NaN</td>\n",
              "      <td>1.49</td>\n",
              "      <td>10.757903</td>\n",
              "      <td>0.398776</td>\n",
              "      <td>Fiat</td>\n",
              "      <td>Punto</td>\n",
              "    </tr>\n",
              "    <tr>\n",
              "      <th>5015</th>\n",
              "      <td>Maruti Swift 1.3 VXi</td>\n",
              "      <td>Delhi</td>\n",
              "      <td>2006</td>\n",
              "      <td>63000</td>\n",
              "      <td>Petrol</td>\n",
              "      <td>Manual</td>\n",
              "      <td>First</td>\n",
              "      <td>16.10</td>\n",
              "      <td>NaN</td>\n",
              "      <td>NaN</td>\n",
              "      <td>NaN</td>\n",
              "      <td>NaN</td>\n",
              "      <td>1.60</td>\n",
              "      <td>11.050890</td>\n",
              "      <td>0.470004</td>\n",
              "      <td>Maruti</td>\n",
              "      <td>Swift</td>\n",
              "    </tr>\n",
              "    <tr>\n",
              "      <th>5185</th>\n",
              "      <td>Maruti Swift 1.3 LXI</td>\n",
              "      <td>Delhi</td>\n",
              "      <td>2012</td>\n",
              "      <td>52000</td>\n",
              "      <td>Petrol</td>\n",
              "      <td>Manual</td>\n",
              "      <td>First</td>\n",
              "      <td>16.10</td>\n",
              "      <td>NaN</td>\n",
              "      <td>NaN</td>\n",
              "      <td>NaN</td>\n",
              "      <td>NaN</td>\n",
              "      <td>3.65</td>\n",
              "      <td>10.858999</td>\n",
              "      <td>1.294727</td>\n",
              "      <td>Maruti</td>\n",
              "      <td>Swift</td>\n",
              "    </tr>\n",
              "    <tr>\n",
              "      <th>5270</th>\n",
              "      <td>Honda City 1.5 GXI</td>\n",
              "      <td>Bangalore</td>\n",
              "      <td>2002</td>\n",
              "      <td>53000</td>\n",
              "      <td>Petrol</td>\n",
              "      <td>Manual</td>\n",
              "      <td>Second</td>\n",
              "      <td>0.00</td>\n",
              "      <td>NaN</td>\n",
              "      <td>NaN</td>\n",
              "      <td>NaN</td>\n",
              "      <td>NaN</td>\n",
              "      <td>1.85</td>\n",
              "      <td>10.878047</td>\n",
              "      <td>0.615186</td>\n",
              "      <td>Honda</td>\n",
              "      <td>City</td>\n",
              "    </tr>\n",
              "    <tr>\n",
              "      <th>5893</th>\n",
              "      <td>Maruti Estilo LXI</td>\n",
              "      <td>Chennai</td>\n",
              "      <td>2008</td>\n",
              "      <td>51000</td>\n",
              "      <td>Petrol</td>\n",
              "      <td>Manual</td>\n",
              "      <td>Second</td>\n",
              "      <td>19.50</td>\n",
              "      <td>1061.0</td>\n",
              "      <td>NaN</td>\n",
              "      <td>NaN</td>\n",
              "      <td>NaN</td>\n",
              "      <td>1.75</td>\n",
              "      <td>10.839581</td>\n",
              "      <td>0.559616</td>\n",
              "      <td>Maruti</td>\n",
              "      <td>Estilo</td>\n",
              "    </tr>\n",
              "    <tr>\n",
              "      <th>6042</th>\n",
              "      <td>Skoda Laura 1.8 TSI Ambition</td>\n",
              "      <td>Bangalore</td>\n",
              "      <td>2009</td>\n",
              "      <td>72000</td>\n",
              "      <td>Petrol</td>\n",
              "      <td>Manual</td>\n",
              "      <td>Second</td>\n",
              "      <td>17.50</td>\n",
              "      <td>NaN</td>\n",
              "      <td>NaN</td>\n",
              "      <td>NaN</td>\n",
              "      <td>NaN</td>\n",
              "      <td>NaN</td>\n",
              "      <td>11.184421</td>\n",
              "      <td>NaN</td>\n",
              "      <td>Skoda</td>\n",
              "      <td>Laura</td>\n",
              "    </tr>\n",
              "    <tr>\n",
              "      <th>6541</th>\n",
              "      <td>Toyota Etios Liva Diesel TRD Sportivo</td>\n",
              "      <td>Bangalore</td>\n",
              "      <td>2012</td>\n",
              "      <td>56600</td>\n",
              "      <td>Diesel</td>\n",
              "      <td>Manual</td>\n",
              "      <td>First</td>\n",
              "      <td>23.59</td>\n",
              "      <td>NaN</td>\n",
              "      <td>NaN</td>\n",
              "      <td>NaN</td>\n",
              "      <td>NaN</td>\n",
              "      <td>NaN</td>\n",
              "      <td>10.943764</td>\n",
              "      <td>NaN</td>\n",
              "      <td>Toyota</td>\n",
              "      <td>Etios</td>\n",
              "    </tr>\n",
              "    <tr>\n",
              "      <th>6544</th>\n",
              "      <td>Hyundai i20 new Sportz AT 1.4</td>\n",
              "      <td>Bangalore</td>\n",
              "      <td>2012</td>\n",
              "      <td>58000</td>\n",
              "      <td>Petrol</td>\n",
              "      <td>Automatic</td>\n",
              "      <td>Second</td>\n",
              "      <td>15.00</td>\n",
              "      <td>NaN</td>\n",
              "      <td>NaN</td>\n",
              "      <td>NaN</td>\n",
              "      <td>NaN</td>\n",
              "      <td>NaN</td>\n",
              "      <td>10.968198</td>\n",
              "      <td>NaN</td>\n",
              "      <td>Hyundai</td>\n",
              "      <td>i20</td>\n",
              "    </tr>\n",
              "    <tr>\n",
              "      <th>6633</th>\n",
              "      <td>Mahindra TUV 300 P4</td>\n",
              "      <td>Kolkata</td>\n",
              "      <td>2016</td>\n",
              "      <td>27000</td>\n",
              "      <td>Diesel</td>\n",
              "      <td>Manual</td>\n",
              "      <td>First</td>\n",
              "      <td>0.00</td>\n",
              "      <td>NaN</td>\n",
              "      <td>NaN</td>\n",
              "      <td>NaN</td>\n",
              "      <td>NaN</td>\n",
              "      <td>NaN</td>\n",
              "      <td>10.203592</td>\n",
              "      <td>NaN</td>\n",
              "      <td>Mahindra</td>\n",
              "      <td>TUV</td>\n",
              "    </tr>\n",
              "    <tr>\n",
              "      <th>6643</th>\n",
              "      <td>BMW 5 Series 520d Sedan</td>\n",
              "      <td>Bangalore</td>\n",
              "      <td>2009</td>\n",
              "      <td>150000</td>\n",
              "      <td>Diesel</td>\n",
              "      <td>Automatic</td>\n",
              "      <td>Second</td>\n",
              "      <td>18.48</td>\n",
              "      <td>NaN</td>\n",
              "      <td>NaN</td>\n",
              "      <td>NaN</td>\n",
              "      <td>NaN</td>\n",
              "      <td>NaN</td>\n",
              "      <td>11.918391</td>\n",
              "      <td>NaN</td>\n",
              "      <td>BMW</td>\n",
              "      <td>5</td>\n",
              "    </tr>\n",
              "    <tr>\n",
              "      <th>6651</th>\n",
              "      <td>Maruti Swift 1.3 VXi</td>\n",
              "      <td>Kolkata</td>\n",
              "      <td>2015</td>\n",
              "      <td>36009</td>\n",
              "      <td>Petrol</td>\n",
              "      <td>Manual</td>\n",
              "      <td>First</td>\n",
              "      <td>16.10</td>\n",
              "      <td>NaN</td>\n",
              "      <td>NaN</td>\n",
              "      <td>NaN</td>\n",
              "      <td>NaN</td>\n",
              "      <td>NaN</td>\n",
              "      <td>10.491524</td>\n",
              "      <td>NaN</td>\n",
              "      <td>Maruti</td>\n",
              "      <td>Swift</td>\n",
              "    </tr>\n",
              "    <tr>\n",
              "      <th>6677</th>\n",
              "      <td>Fiat Punto 1.4 Emotion</td>\n",
              "      <td>Jaipur</td>\n",
              "      <td>2010</td>\n",
              "      <td>65000</td>\n",
              "      <td>Petrol</td>\n",
              "      <td>Manual</td>\n",
              "      <td>Third</td>\n",
              "      <td>14.60</td>\n",
              "      <td>NaN</td>\n",
              "      <td>NaN</td>\n",
              "      <td>NaN</td>\n",
              "      <td>NaN</td>\n",
              "      <td>NaN</td>\n",
              "      <td>11.082143</td>\n",
              "      <td>NaN</td>\n",
              "      <td>Fiat</td>\n",
              "      <td>Punto</td>\n",
              "    </tr>\n",
              "    <tr>\n",
              "      <th>6685</th>\n",
              "      <td>Maruti Swift 1.3 VXi</td>\n",
              "      <td>Pune</td>\n",
              "      <td>2010</td>\n",
              "      <td>115000</td>\n",
              "      <td>Petrol</td>\n",
              "      <td>Manual</td>\n",
              "      <td>Second</td>\n",
              "      <td>16.10</td>\n",
              "      <td>NaN</td>\n",
              "      <td>NaN</td>\n",
              "      <td>NaN</td>\n",
              "      <td>NaN</td>\n",
              "      <td>NaN</td>\n",
              "      <td>11.652687</td>\n",
              "      <td>NaN</td>\n",
              "      <td>Maruti</td>\n",
              "      <td>Swift</td>\n",
              "    </tr>\n",
              "    <tr>\n",
              "      <th>6880</th>\n",
              "      <td>BMW 5 Series 520d Sedan</td>\n",
              "      <td>Chennai</td>\n",
              "      <td>2009</td>\n",
              "      <td>95000</td>\n",
              "      <td>Diesel</td>\n",
              "      <td>Automatic</td>\n",
              "      <td>Second</td>\n",
              "      <td>18.48</td>\n",
              "      <td>NaN</td>\n",
              "      <td>NaN</td>\n",
              "      <td>NaN</td>\n",
              "      <td>NaN</td>\n",
              "      <td>NaN</td>\n",
              "      <td>11.461632</td>\n",
              "      <td>NaN</td>\n",
              "      <td>BMW</td>\n",
              "      <td>5</td>\n",
              "    </tr>\n",
              "    <tr>\n",
              "      <th>6902</th>\n",
              "      <td>Toyota Etios Liva V</td>\n",
              "      <td>Kochi</td>\n",
              "      <td>2012</td>\n",
              "      <td>59311</td>\n",
              "      <td>Petrol</td>\n",
              "      <td>Manual</td>\n",
              "      <td>First</td>\n",
              "      <td>18.30</td>\n",
              "      <td>NaN</td>\n",
              "      <td>NaN</td>\n",
              "      <td>NaN</td>\n",
              "      <td>NaN</td>\n",
              "      <td>NaN</td>\n",
              "      <td>10.990550</td>\n",
              "      <td>NaN</td>\n",
              "      <td>Toyota</td>\n",
              "      <td>Etios</td>\n",
              "    </tr>\n",
              "    <tr>\n",
              "      <th>6957</th>\n",
              "      <td>Honda Jazz 2020 Petrol</td>\n",
              "      <td>Kochi</td>\n",
              "      <td>2019</td>\n",
              "      <td>11574</td>\n",
              "      <td>Petrol</td>\n",
              "      <td>Manual</td>\n",
              "      <td>First</td>\n",
              "      <td>0.00</td>\n",
              "      <td>1199.0</td>\n",
              "      <td>88.7</td>\n",
              "      <td>NaN</td>\n",
              "      <td>NaN</td>\n",
              "      <td>NaN</td>\n",
              "      <td>9.356516</td>\n",
              "      <td>NaN</td>\n",
              "      <td>Honda</td>\n",
              "      <td>Jazz</td>\n",
              "    </tr>\n",
              "  </tbody>\n",
              "</table>\n",
              "</div>\n",
              "      <button class=\"colab-df-convert\" onclick=\"convertToInteractive('df-548af8c7-0a62-4261-bd6b-e7bfe7f8c086')\"\n",
              "              title=\"Convert this dataframe to an interactive table.\"\n",
              "              style=\"display:none;\">\n",
              "        \n",
              "  <svg xmlns=\"http://www.w3.org/2000/svg\" height=\"24px\"viewBox=\"0 0 24 24\"\n",
              "       width=\"24px\">\n",
              "    <path d=\"M0 0h24v24H0V0z\" fill=\"none\"/>\n",
              "    <path d=\"M18.56 5.44l.94 2.06.94-2.06 2.06-.94-2.06-.94-.94-2.06-.94 2.06-2.06.94zm-11 1L8.5 8.5l.94-2.06 2.06-.94-2.06-.94L8.5 2.5l-.94 2.06-2.06.94zm10 10l.94 2.06.94-2.06 2.06-.94-2.06-.94-.94-2.06-.94 2.06-2.06.94z\"/><path d=\"M17.41 7.96l-1.37-1.37c-.4-.4-.92-.59-1.43-.59-.52 0-1.04.2-1.43.59L10.3 9.45l-7.72 7.72c-.78.78-.78 2.05 0 2.83L4 21.41c.39.39.9.59 1.41.59.51 0 1.02-.2 1.41-.59l7.78-7.78 2.81-2.81c.8-.78.8-2.07 0-2.86zM5.41 20L4 18.59l7.72-7.72 1.47 1.35L5.41 20z\"/>\n",
              "  </svg>\n",
              "      </button>\n",
              "      \n",
              "  <style>\n",
              "    .colab-df-container {\n",
              "      display:flex;\n",
              "      flex-wrap:wrap;\n",
              "      gap: 12px;\n",
              "    }\n",
              "\n",
              "    .colab-df-convert {\n",
              "      background-color: #E8F0FE;\n",
              "      border: none;\n",
              "      border-radius: 50%;\n",
              "      cursor: pointer;\n",
              "      display: none;\n",
              "      fill: #1967D2;\n",
              "      height: 32px;\n",
              "      padding: 0 0 0 0;\n",
              "      width: 32px;\n",
              "    }\n",
              "\n",
              "    .colab-df-convert:hover {\n",
              "      background-color: #E2EBFA;\n",
              "      box-shadow: 0px 1px 2px rgba(60, 64, 67, 0.3), 0px 1px 3px 1px rgba(60, 64, 67, 0.15);\n",
              "      fill: #174EA6;\n",
              "    }\n",
              "\n",
              "    [theme=dark] .colab-df-convert {\n",
              "      background-color: #3B4455;\n",
              "      fill: #D2E3FC;\n",
              "    }\n",
              "\n",
              "    [theme=dark] .colab-df-convert:hover {\n",
              "      background-color: #434B5C;\n",
              "      box-shadow: 0px 1px 3px 1px rgba(0, 0, 0, 0.15);\n",
              "      filter: drop-shadow(0px 1px 2px rgba(0, 0, 0, 0.3));\n",
              "      fill: #FFFFFF;\n",
              "    }\n",
              "  </style>\n",
              "\n",
              "      <script>\n",
              "        const buttonEl =\n",
              "          document.querySelector('#df-548af8c7-0a62-4261-bd6b-e7bfe7f8c086 button.colab-df-convert');\n",
              "        buttonEl.style.display =\n",
              "          google.colab.kernel.accessAllowed ? 'block' : 'none';\n",
              "\n",
              "        async function convertToInteractive(key) {\n",
              "          const element = document.querySelector('#df-548af8c7-0a62-4261-bd6b-e7bfe7f8c086');\n",
              "          const dataTable =\n",
              "            await google.colab.kernel.invokeFunction('convertToInteractive',\n",
              "                                                     [key], {});\n",
              "          if (!dataTable) return;\n",
              "\n",
              "          const docLinkHtml = 'Like what you see? Visit the ' +\n",
              "            '<a target=\"_blank\" href=https://colab.research.google.com/notebooks/data_table.ipynb>data table notebook</a>'\n",
              "            + ' to learn more about interactive tables.';\n",
              "          element.innerHTML = '';\n",
              "          dataTable['output_type'] = 'display_data';\n",
              "          await google.colab.output.renderOutput(dataTable, element);\n",
              "          const docLink = document.createElement('div');\n",
              "          docLink.innerHTML = docLinkHtml;\n",
              "          element.appendChild(docLink);\n",
              "        }\n",
              "      </script>\n",
              "    </div>\n",
              "  </div>\n",
              "  "
            ]
          },
          "metadata": {},
          "execution_count": 53
        }
      ],
      "source": [
        "# Checking missing values in the column 'Seats'\n",
        "\n",
        "data[data['Seats'].isna()]"
      ]
    },
    {
      "cell_type": "markdown",
      "metadata": {
        "id": "Tg0mIMdxVL3d"
      },
      "source": [
        "**Think about it:** Can we somehow use the extracted information from 'Name' column to impute missing values?"
      ]
    },
    {
      "cell_type": "markdown",
      "metadata": {
        "id": "wErCOPkStOS4",
        "outputId": "0b6d3b63-47a9-4aba-b053-024e186d1d7e"
      },
      "source": [
        "**Hint:** Impute these missing values one by one, by taking median number of seats for the particular car, using the Brand and Model name"
      ]
    },
    {
      "cell_type": "code",
      "execution_count": null,
      "metadata": {
        "id": "mIoatRh9tOS4"
      },
      "outputs": [],
      "source": [
        "# Impute missing values in Seats,you can use fillna method in pandas\n",
        "\n",
        "data['Seats'] = data.groupby(['Brand','Model'])['Seats'].apply(lambda x: x.fillna(x.median()))"
      ]
    },
    {
      "cell_type": "code",
      "execution_count": null,
      "metadata": {
        "id": "b7dxZkM4Ha1m"
      },
      "outputs": [],
      "source": [
        "data['Seats'] = data.groupby(['Brand'])['Seats'].apply(lambda x: x.fillna(x.mean()))"
      ]
    },
    {
      "cell_type": "code",
      "execution_count": null,
      "metadata": {
        "id": "YS4QIbWPtOS5",
        "colab": {
          "base_uri": "https://localhost:8080/"
        },
        "outputId": "d39cc2ed-715b-4a41-d1c9-0e503057d38f"
      },
      "outputs": [
        {
          "output_type": "execute_result",
          "data": {
            "text/plain": [
              "0"
            ]
          },
          "metadata": {},
          "execution_count": 56
        }
      ],
      "source": [
        "# Now check total number of missing values of the seat column to verify if they are imputed or not. Hint: Use isnull() method\n",
        "\n",
        "data.Seats.isnull().sum()"
      ]
    },
    {
      "cell_type": "markdown",
      "metadata": {
        "id": "wjaNSFLRtOS5"
      },
      "source": [
        "**Missing values for Mileage**"
      ]
    },
    {
      "cell_type": "code",
      "execution_count": null,
      "metadata": {
        "id": "DRXO50mXVL3d",
        "colab": {
          "base_uri": "https://localhost:8080/"
        },
        "outputId": "0d907cb3-21db-4ed6-993d-ecacb0265476"
      },
      "outputs": [
        {
          "output_type": "execute_result",
          "data": {
            "text/plain": [
              "Name                        0\n",
              "Location                    0\n",
              "Year                        0\n",
              "Kilometers_Driven           0\n",
              "Fuel_Type                   0\n",
              "Transmission                0\n",
              "Owner_Type                  0\n",
              "Mileage                     2\n",
              "Engine                     46\n",
              "Power                     175\n",
              "Seats                       0\n",
              "New_price                6246\n",
              "Price                    1234\n",
              "kilometers_driven_log       0\n",
              "price_log                1234\n",
              "Brand                       0\n",
              "Model                       0\n",
              "dtype: int64"
            ]
          },
          "metadata": {},
          "execution_count": 57
        }
      ],
      "source": [
        "# Now check missing values of each column. Hint: Use isnull() method\n",
        "\n",
        "data.isnull().sum()"
      ]
    },
    {
      "cell_type": "code",
      "execution_count": null,
      "metadata": {
        "id": "Etr9nkEKtOS6"
      },
      "outputs": [],
      "source": [
        "# Impute missing Mileage. For example use can use median or any other methods.\n",
        "\n",
        "data.Mileage.fillna(data.Mileage.median(), inplace = True)"
      ]
    },
    {
      "cell_type": "code",
      "execution_count": null,
      "metadata": {
        "id": "RWH5k6nAtOS6",
        "colab": {
          "base_uri": "https://localhost:8080/"
        },
        "outputId": "01af1a7d-fb39-4c18-a0a8-4d5ef6da76f9"
      },
      "outputs": [
        {
          "output_type": "execute_result",
          "data": {
            "text/plain": [
              "0"
            ]
          },
          "metadata": {},
          "execution_count": 59
        }
      ],
      "source": [
        "# Now check total number of missing values of the seat column to verify if they are imputed or not. Hint: Use isnull() method\n",
        "\n",
        "data.Mileage.isnull().sum()"
      ]
    },
    {
      "cell_type": "code",
      "execution_count": null,
      "metadata": {
        "id": "mgsL5iyEHa1o"
      },
      "outputs": [],
      "source": [
        "data['Mileage']=data['Mileage'].replace(0, np.nan)"
      ]
    },
    {
      "cell_type": "code",
      "execution_count": null,
      "metadata": {
        "id": "K_CMFKqLHa1o"
      },
      "outputs": [],
      "source": [
        "data['Mileage'] = data.groupby(['Brand','Model'])['Mileage'].apply(lambda x: x.fillna(x.median()))"
      ]
    },
    {
      "cell_type": "code",
      "execution_count": null,
      "metadata": {
        "id": "9Ih2xzhJHa1o"
      },
      "outputs": [],
      "source": [
        "data.Mileage.fillna(data.Mileage.median(), inplace = True)"
      ]
    },
    {
      "cell_type": "code",
      "execution_count": null,
      "metadata": {
        "colab": {
          "base_uri": "https://localhost:8080/"
        },
        "id": "QTiFSxBPHa1o",
        "outputId": "dce93e67-36ff-4d8a-dccc-a778e7424800"
      },
      "outputs": [
        {
          "output_type": "execute_result",
          "data": {
            "text/plain": [
              "0"
            ]
          },
          "metadata": {},
          "execution_count": 63
        }
      ],
      "source": [
        "data.Mileage.isnull().sum()"
      ]
    },
    {
      "cell_type": "markdown",
      "metadata": {
        "id": "SSRXU5m3tOS6"
      },
      "source": [
        "**Missing values for Engine**"
      ]
    },
    {
      "cell_type": "code",
      "execution_count": null,
      "metadata": {
        "id": "wy9Gqxg-tOS6"
      },
      "outputs": [],
      "source": [
        "data['Engine'] = data.groupby(['Brand','Model'])['Engine'].apply(lambda x: x.fillna(x.median()))"
      ]
    },
    {
      "cell_type": "code",
      "execution_count": null,
      "metadata": {
        "colab": {
          "base_uri": "https://localhost:8080/"
        },
        "id": "fIRC0W6mHa1p",
        "outputId": "ed1d892f-6737-432a-b1f9-392db3d098e3"
      },
      "outputs": [
        {
          "output_type": "execute_result",
          "data": {
            "text/plain": [
              "0"
            ]
          },
          "metadata": {},
          "execution_count": 65
        }
      ],
      "source": [
        "data.Engine.isnull().sum()"
      ]
    },
    {
      "cell_type": "markdown",
      "metadata": {
        "id": "Py_n-7fLtOS6"
      },
      "source": [
        "**Missing values for Power**"
      ]
    },
    {
      "cell_type": "code",
      "execution_count": null,
      "metadata": {
        "id": "2WsE1-VftOS7"
      },
      "outputs": [],
      "source": [
        "data['Power'] = data.groupby(['Brand','Model'])['Power'].apply(lambda x: x.fillna(x.median()))"
      ]
    },
    {
      "cell_type": "code",
      "execution_count": null,
      "metadata": {
        "id": "ZWR0AvWKHa1q"
      },
      "outputs": [],
      "source": [
        "data['Power'] = data.groupby(['Brand','Model'])['Power'].apply(lambda x: x.fillna(x.mean()))"
      ]
    },
    {
      "cell_type": "code",
      "execution_count": null,
      "metadata": {
        "id": "xo6IyxLLHa1q"
      },
      "outputs": [],
      "source": [
        "data.Power.fillna(data.Power.median(), inplace = True)"
      ]
    },
    {
      "cell_type": "code",
      "execution_count": null,
      "metadata": {
        "scrolled": true,
        "colab": {
          "base_uri": "https://localhost:8080/"
        },
        "id": "oUcvC1zjHa1q",
        "outputId": "e3b6775b-edfa-4311-8a5c-18af94a56435"
      },
      "outputs": [
        {
          "output_type": "execute_result",
          "data": {
            "text/plain": [
              "0"
            ]
          },
          "metadata": {},
          "execution_count": 69
        }
      ],
      "source": [
        "data.Power.isnull().sum()"
      ]
    },
    {
      "cell_type": "markdown",
      "metadata": {
        "id": "D69-3ZiCtOS7"
      },
      "source": [
        "**Missing values for New_price**"
      ]
    },
    {
      "cell_type": "code",
      "execution_count": null,
      "metadata": {
        "id": "53xzbaWzVL3e"
      },
      "outputs": [],
      "source": [
        "data['New_price'] = data.groupby(['Brand','Model'])['New_price'].apply(lambda x: x.fillna(x.median()))"
      ]
    },
    {
      "cell_type": "code",
      "execution_count": null,
      "metadata": {
        "id": "hQkRnnzoHa1r"
      },
      "outputs": [],
      "source": [
        "data.New_price.fillna(data.New_price.median(), inplace = True)"
      ]
    },
    {
      "cell_type": "code",
      "execution_count": null,
      "metadata": {
        "scrolled": true,
        "colab": {
          "base_uri": "https://localhost:8080/"
        },
        "id": "Kg835aViHa1r",
        "outputId": "fa0d7a74-e426-4045-8580-f4b3f1bd4289"
      },
      "outputs": [
        {
          "output_type": "execute_result",
          "data": {
            "text/plain": [
              "0"
            ]
          },
          "metadata": {},
          "execution_count": 72
        }
      ],
      "source": [
        "data.New_price.isnull().sum()"
      ]
    },
    {
      "cell_type": "markdown",
      "metadata": {
        "id": "59Y2pSv3Ha1r"
      },
      "source": [
        "**Missing values for Price and price_log**"
      ]
    },
    {
      "cell_type": "code",
      "execution_count": null,
      "metadata": {
        "id": "tbUwid5tHa1r"
      },
      "outputs": [],
      "source": [
        "data['Price'] = data.groupby(['Brand','Model'])['Price'].apply(lambda x: x.fillna(x.median()))"
      ]
    },
    {
      "cell_type": "code",
      "execution_count": null,
      "metadata": {
        "id": "M43YaVk8Ha1s"
      },
      "outputs": [],
      "source": [
        "data.Price.fillna(data.Price.median(), inplace = True)"
      ]
    },
    {
      "cell_type": "code",
      "execution_count": null,
      "metadata": {
        "scrolled": true,
        "colab": {
          "base_uri": "https://localhost:8080/"
        },
        "id": "U0AuABg5Ha1s",
        "outputId": "ad09a190-2716-4763-d70f-af3e4d7859b7"
      },
      "outputs": [
        {
          "output_type": "execute_result",
          "data": {
            "text/plain": [
              "0"
            ]
          },
          "metadata": {},
          "execution_count": 75
        }
      ],
      "source": [
        "data.Price.isnull().sum()"
      ]
    },
    {
      "cell_type": "code",
      "execution_count": null,
      "metadata": {
        "id": "yskrK5oSHa1s"
      },
      "outputs": [],
      "source": [
        "data['price_log'] = data.groupby(['Brand','Model'])['price_log'].apply(lambda x: x.fillna(x.median()))"
      ]
    },
    {
      "cell_type": "code",
      "execution_count": null,
      "metadata": {
        "id": "PCBD3vzQHa1s"
      },
      "outputs": [],
      "source": [
        "data.price_log.fillna(data.price_log.median(), inplace = True)"
      ]
    },
    {
      "cell_type": "code",
      "execution_count": null,
      "metadata": {
        "scrolled": false,
        "colab": {
          "base_uri": "https://localhost:8080/"
        },
        "id": "EHB5OqQLHa1s",
        "outputId": "eb8ed8c6-9f62-4763-cc32-31513e4d9010"
      },
      "outputs": [
        {
          "output_type": "execute_result",
          "data": {
            "text/plain": [
              "0"
            ]
          },
          "metadata": {},
          "execution_count": 78
        }
      ],
      "source": [
        "data.price_log.isnull().sum()"
      ]
    },
    {
      "cell_type": "markdown",
      "metadata": {
        "id": "0Rj8acAJtOS7"
      },
      "source": [
        "#### **Observations for missing values after imputing: **\n",
        "\n",
        "- Missing values were imputed considering other entries with same brand and model.\n",
        "- The remaining missing values that were not replaced by similar entries were replaced by the mean value of the same column.\n",
        "- I've transformed all \"0\" entries in Mileage to NaN to then replace them using the techniques mentioned above."
      ]
    },
    {
      "cell_type": "markdown",
      "metadata": {
        "id": "hZrjCg9pm3-n"
      },
      "source": [
        "## **Proposed approach**\n",
        "\n",
        "- **Potential techniques -** What different techniques should be explored?\n",
        "- **Overall solution design -** What is the potential solution design?\n",
        "- **Measures of success -** What are the key measures of success?"
      ]
    },
    {
      "cell_type": "markdown",
      "metadata": {
        "id": "tKMMUfwqHa1t"
      },
      "source": [
        "## **Model Building**\n",
        "\n",
        "1. What we want to predict is the \"Price\". We will use the normalized version 'price_log' for modeling.\n",
        "2. Before we proceed to the model, we'll have to encode categorical features. We will drop categorical features like - Name \n",
        "3. We'll split the data into train and test, to be able to evaluate the model that we build on the train data.\n",
        "4. Build Regression models using train data.\n",
        "5. Evaluate the model performance."
      ]
    },
    {
      "cell_type": "markdown",
      "metadata": {
        "id": "ppx-eXuLHa1t"
      },
      "source": [
        "### **Split Data**"
      ]
    },
    {
      "cell_type": "markdown",
      "metadata": {
        "id": "IClQbQhAHa1t"
      },
      "source": [
        "<li>Step1: Split the data into X and Y . \n",
        "<li>Step2: Encode the categorical variables in X using pd.dummies.\n",
        "<li>Step3: Split the data into train and test using train_test_split."
      ]
    },
    {
      "cell_type": "markdown",
      "metadata": {
        "id": "AVA23mkeHa1t"
      },
      "source": [
        "<b>Think about it:</b> Why we should drop 'Name','Price','price_log','Kilometers_Driven' from X before splitting?"
      ]
    },
    {
      "cell_type": "code",
      "execution_count": null,
      "metadata": {
        "id": "K3-xRvuyHa1t"
      },
      "outputs": [],
      "source": [
        "# To scale the data using z-score \n",
        "from sklearn.preprocessing import StandardScaler\n",
        "\n",
        "from sklearn.model_selection import train_test_split\n",
        "\n",
        "# Algorithms to use\n",
        "from sklearn.discriminant_analysis import LinearDiscriminantAnalysis\n",
        "\n",
        "from sklearn.discriminant_analysis import QuadraticDiscriminantAnalysis\n",
        "\n",
        "from sklearn.neighbors import KNeighborsClassifier\n",
        "\n",
        "# Metrics to evaluate the model\n",
        "from sklearn.metrics import confusion_matrix, classification_report, precision_recall_curve\n",
        "\n",
        "# For tuning the model\n",
        "from sklearn.model_selection import GridSearchCV"
      ]
    },
    {
      "cell_type": "code",
      "execution_count": null,
      "metadata": {
        "id": "_FuT48EyHa1t"
      },
      "outputs": [],
      "source": [
        "# Step-1\n",
        "X = data.drop(['Name','Price','price_log','Kilometers_Driven'],axis=1)\n",
        "y = data[[\"price_log\", \"Price\"]]"
      ]
    },
    {
      "cell_type": "code",
      "execution_count": null,
      "metadata": {
        "id": "zXkhd6ImHa1t"
      },
      "outputs": [],
      "source": [
        "# Step-2 Use pd.get_dummies(drop_first=True)\n",
        "X = pd.get_dummies(X,drop_first=True)"
      ]
    },
    {
      "cell_type": "code",
      "execution_count": null,
      "metadata": {
        "colab": {
          "base_uri": "https://localhost:8080/"
        },
        "id": "2KEjLXiTHa1u",
        "outputId": "ff6d2779-898a-47cb-a7b7-c45fd1de114a"
      },
      "outputs": [
        {
          "output_type": "stream",
          "name": "stdout",
          "text": [
            "(5076, 275) (2176, 275)\n"
          ]
        }
      ],
      "source": [
        "# Step-3 Splitting data into training and test set:\n",
        "X_train, X_test, y_train, y_test = train_test_split(X, y, test_size=0.3, random_state=1)\n",
        "print(X_train.shape, X_test.shape)"
      ]
    },
    {
      "cell_type": "code",
      "execution_count": null,
      "metadata": {
        "id": "76_jaoHNHa1u"
      },
      "outputs": [],
      "source": [
        "# Let us write a function for calculating r2_score and RMSE on train and test data.\n",
        "# This function takes model as an input on which we have trained particular algorithm.\n",
        "#the categorical column as the input and returns the boxplots and histograms for the variable.\n",
        "\n",
        "def get_model_score(model, flag=True):\n",
        "    '''\n",
        "    model : regressor to predict values of X\n",
        "\n",
        "    '''\n",
        "    # defining an empty list to store train and test results\n",
        "    score_list=[] \n",
        "    \n",
        "    pred_train = model.predict(X_train)\n",
        "    pred_train_ = np.exp(pred_train)\n",
        "    pred_test = model.predict(X_test)\n",
        "    pred_test_ = np.exp(pred_test)\n",
        "    \n",
        "    train_r2=metrics.r2_score(y_train['Price'],pred_train_)\n",
        "    test_r2=metrics.r2_score(y_test['Price'],pred_test_)\n",
        "    train_rmse=metrics.mean_squared_error(y_train['Price'],pred_train_,squared=False)\n",
        "    test_rmse=metrics.mean_squared_error(y_test['Price'],pred_test_,squared=False)\n",
        "    \n",
        "    #Adding all scores in the list\n",
        "    score_list.extend((train_r2,test_r2,train_rmse,test_rmse))\n",
        "    \n",
        "    # If the flag is set to True then only the following print statements will be dispayed, the default value is True\n",
        "    if flag==True: \n",
        "        print(\"R-square on training set : \",metrics.r2_score(y_train['Price'],pred_train_))\n",
        "        print(\"R-square on test set : \",metrics.r2_score(y_test['Price'],pred_test_))\n",
        "        print(\"RMSE on training set : \",np.sqrt(metrics.mean_squared_error(y_train['Price'],pred_train_)))\n",
        "        print(\"RMSE on test set : \",np.sqrt(metrics.mean_squared_error(y_test['Price'],pred_test_)))\n",
        "    \n",
        "    # returning the list with train and test scores\n",
        "    return score_list"
      ]
    },
    {
      "cell_type": "markdown",
      "metadata": {
        "id": "aVq76fNuHa1u"
      },
      "source": [
        "For Regression Problems, some of the algorithms used are :<br>\n",
        "\n",
        "**1) Linear Regression** <br>\n",
        "**2) Ridge / Lasso Regression** <br>\n",
        "**3) Decision Trees** <br>\n",
        "**4) Random Forest** <br>"
      ]
    },
    {
      "cell_type": "markdown",
      "metadata": {
        "id": "GpSGta46Ha1u"
      },
      "source": [
        "### **Fitting a linear model**"
      ]
    },
    {
      "cell_type": "markdown",
      "metadata": {
        "id": "lOoiT7x0Ha1u"
      },
      "source": [
        "Linear Regression can be implemented using: <br>\n",
        "\n",
        "**1) Sklearn:** https://scikit-learn.org/stable/modules/generated/sklearn.linear_model.LinearRegression.html <br>\n",
        "**2) Statsmodels:** https://www.statsmodels.org/stable/regression.html"
      ]
    },
    {
      "cell_type": "code",
      "execution_count": null,
      "metadata": {
        "id": "f-XkedmRHa1u"
      },
      "outputs": [],
      "source": [
        "# import Linear Regression from sklearn\n",
        "from sklearn.linear_model import LinearRegression\n",
        "import sklearn.metrics as metrics"
      ]
    },
    {
      "cell_type": "code",
      "execution_count": null,
      "metadata": {
        "id": "nV8HpbVNHa1v"
      },
      "outputs": [],
      "source": [
        "# Create a linear regression model\n",
        "lr = LinearRegression()"
      ]
    },
    {
      "cell_type": "code",
      "execution_count": null,
      "metadata": {
        "scrolled": true,
        "colab": {
          "base_uri": "https://localhost:8080/"
        },
        "id": "17Qei8FwHa1v",
        "outputId": "94a24929-0aca-4c3b-b088-e7685c504b89"
      },
      "outputs": [
        {
          "output_type": "execute_result",
          "data": {
            "text/plain": [
              "LinearRegression()"
            ]
          },
          "metadata": {},
          "execution_count": 86
        }
      ],
      "source": [
        "# Fit linear regression model\n",
        "lr.fit(X_train,y_train['price_log'])"
      ]
    },
    {
      "cell_type": "code",
      "execution_count": null,
      "metadata": {
        "colab": {
          "base_uri": "https://localhost:8080/"
        },
        "id": "1T2MK4ijHa1v",
        "outputId": "24704fb4-e0d3-497d-b972-e00092799a48"
      },
      "outputs": [
        {
          "output_type": "stream",
          "name": "stdout",
          "text": [
            "R-square on training set :  0.9194014093585517\n",
            "R-square on test set :  0.8641841562121787\n",
            "RMSE on training set :  3.050084558545286\n",
            "RMSE on test set :  3.944053988076218\n"
          ]
        }
      ],
      "source": [
        "LR_score = get_model_score(lr)"
      ]
    },
    {
      "cell_type": "markdown",
      "metadata": {
        "id": "ZGCyr7X6Ha1v"
      },
      "source": [
        "#### **Observations from results: _____**"
      ]
    },
    {
      "cell_type": "markdown",
      "metadata": {
        "id": "izr6udHJHa1v"
      },
      "source": [
        "### **Important variables of Linear Regression**"
      ]
    },
    {
      "cell_type": "markdown",
      "metadata": {
        "id": "Xgw9YAmDHa1w"
      },
      "source": [
        "Building a model using statsmodels"
      ]
    },
    {
      "cell_type": "code",
      "execution_count": null,
      "metadata": {
        "scrolled": true,
        "colab": {
          "base_uri": "https://localhost:8080/"
        },
        "id": "k_290gDgHa1w",
        "outputId": "04a9bfde-8dff-407d-8e4a-bfaa5c53329c"
      },
      "outputs": [
        {
          "output_type": "stream",
          "name": "stdout",
          "text": [
            "                            OLS Regression Results                            \n",
            "==============================================================================\n",
            "Dep. Variable:              price_log   R-squared:                       0.941\n",
            "Model:                            OLS   Adj. R-squared:                  0.939\n",
            "Method:                 Least Squares   F-statistic:                     329.5\n",
            "Date:                Thu, 02 Jun 2022   Prob (F-statistic):               0.00\n",
            "Time:                        22:38:25   Log-Likelihood:                 794.91\n",
            "No. Observations:                5076   AIC:                            -1116.\n",
            "Df Residuals:                    4839   BIC:                             432.3\n",
            "Df Model:                         236                                         \n",
            "Covariance Type:            nonrobust                                         \n",
            "=============================================================================================\n",
            "                                coef    std err          t      P>|t|      [0.025      0.975]\n",
            "---------------------------------------------------------------------------------------------\n",
            "const                      -172.8768      3.179    -54.375      0.000    -179.110    -166.644\n",
            "Year                          0.0896      0.002     55.493      0.000       0.086       0.093\n",
            "Mileage                       0.0025      0.002      1.240      0.215      -0.001       0.006\n",
            "Engine                    -7.436e-05   2.36e-05     -3.145      0.002      -0.000    -2.8e-05\n",
            "Power                         0.0025      0.000     10.194      0.000       0.002       0.003\n",
            "Seats                         0.0115      0.015      0.760      0.448      -0.018       0.041\n",
            "New_price                     0.0066      0.001      5.030      0.000       0.004       0.009\n",
            "kilometers_driven_log        -0.0622      0.006    -10.457      0.000      -0.074      -0.051\n",
            "Location_Bangalore            0.1449      0.020      7.192      0.000       0.105       0.184\n",
            "Location_Chennai              0.0455      0.019      2.372      0.018       0.008       0.083\n",
            "Location_Coimbatore           0.0996      0.018      5.382      0.000       0.063       0.136\n",
            "Location_Delhi               -0.0712      0.019     -3.835      0.000      -0.108      -0.035\n",
            "Location_Hyderabad            0.1299      0.018      7.263      0.000       0.095       0.165\n",
            "Location_Jaipur              -0.0133      0.020     -0.676      0.499      -0.052       0.025\n",
            "Location_Kochi               -0.0144      0.018     -0.782      0.434      -0.050       0.022\n",
            "Location_Kolkata             -0.1785      0.019     -9.498      0.000      -0.215      -0.142\n",
            "Location_Mumbai              -0.0503      0.018     -2.809      0.005      -0.085      -0.015\n",
            "Location_Pune                -0.0204      0.018     -1.108      0.268      -0.056       0.016\n",
            "Fuel_Type_Diesel              0.0381      0.034      1.114      0.265      -0.029       0.105\n",
            "Fuel_Type_Electric         3.391e-12   6.28e-14     53.975      0.000    3.27e-12    3.51e-12\n",
            "Fuel_Type_LPG                -0.0229      0.088     -0.261      0.794      -0.195       0.149\n",
            "Fuel_Type_Petrol             -0.0312      0.036     -0.873      0.383      -0.101       0.039\n",
            "Transmission_Manual          -0.0938      0.011     -8.556      0.000      -0.115      -0.072\n",
            "Owner_Type_Fourth & Above     0.0117      0.070      0.167      0.867      -0.125       0.148\n",
            "Owner_Type_Second            -0.0520      0.009     -5.711      0.000      -0.070      -0.034\n",
            "Owner_Type_Third             -0.1387      0.024     -5.847      0.000      -0.185      -0.092\n",
            "Brand_Audi                   -3.9821      0.130    -30.604      0.000      -4.237      -3.727\n",
            "Brand_BMW                    -4.6293      0.180    -25.720      0.000      -4.982      -4.276\n",
            "Brand_Bentley                -3.9181      0.199    -19.685      0.000      -4.308      -3.528\n",
            "Brand_Chevrolet              -5.2008      0.125    -41.588      0.000      -5.446      -4.956\n",
            "Brand_Datsun                 -4.6953      0.120    -39.268      0.000      -4.930      -4.461\n",
            "Brand_Fiat                   -5.2393      0.127    -41.217      0.000      -5.489      -4.990\n",
            "Brand_Force                  -2.4531      0.102    -23.934      0.000      -2.654      -2.252\n",
            "Brand_Ford                   -0.3750      0.301     -1.245      0.213      -0.965       0.215\n",
            "Brand_Hindustan              -1.8467      0.121    -15.266      0.000      -2.084      -1.610\n",
            "Brand_Honda                  -5.0023      0.126    -39.697      0.000      -5.249      -4.755\n",
            "Brand_Hyundai                -5.8547      0.176    -33.239      0.000      -6.200      -5.509\n",
            "Brand_ISUZU                  -2.5349      0.094    -26.893      0.000      -2.720      -2.350\n",
            "Brand_Isuzu                  -3.4378      0.139    -24.783      0.000      -3.710      -3.166\n",
            "Brand_Jaguar                 -3.2090      0.113    -28.345      0.000      -3.431      -2.987\n",
            "Brand_Jeep                   -2.4428      0.076    -31.995      0.000      -2.593      -2.293\n",
            "Brand_Lamborghini         -2.894e-14   9.49e-16    -30.504      0.000   -3.08e-14   -2.71e-14\n",
            "Brand_Land                   -2.3122      0.094    -24.491      0.000      -2.497      -2.127\n",
            "Brand_Mahindra               -5.0973      0.132    -38.577      0.000      -5.356      -4.838\n",
            "Brand_Maruti                 -5.3768      0.148    -36.371      0.000      -5.667      -5.087\n",
            "Brand_Mercedes-Benz          -4.0601      0.149    -27.268      0.000      -4.352      -3.768\n",
            "Brand_Mini                   -3.3003      0.120    -27.405      0.000      -3.536      -3.064\n",
            "Brand_Mitsubishi             -4.2027      0.128    -32.962      0.000      -4.453      -3.953\n",
            "Brand_Nissan                 -4.6932      0.124    -37.799      0.000      -4.937      -4.450\n",
            "Brand_OpelCorsa            9.948e-14   2.63e-15     37.784      0.000    9.43e-14    1.05e-13\n",
            "Brand_Porsche                -2.9527      0.121    -24.328      0.000      -3.191      -2.715\n",
            "Brand_Renault                -4.8953      0.126    -38.725      0.000      -5.143      -4.648\n",
            "Brand_Skoda                  -4.5940      0.116    -39.451      0.000      -4.822      -4.366\n",
            "Brand_Smart                  -2.7603      0.126    -21.958      0.000      -3.007      -2.514\n",
            "Brand_Tata                   -5.0845      0.169    -30.151      0.000      -5.415      -4.754\n",
            "Brand_Toyota                 -4.5084      0.129    -34.998      0.000      -4.761      -4.256\n",
            "Brand_Volkswagen             -4.6388      0.123    -37.647      0.000      -4.880      -4.397\n",
            "Brand_Volvo                  -3.8567      0.122    -31.552      0.000      -4.096      -3.617\n",
            "Model_1.4Gsi               8.515e-14   1.97e-15     43.254      0.000    8.13e-14     8.9e-14\n",
            "Model_1000                   -0.5096      0.223     -2.286      0.022      -0.947      -0.072\n",
            "Model_3                      -0.2197      0.137     -1.607      0.108      -0.488       0.048\n",
            "Model_370Z                -3.453e-14   2.43e-15    -14.236      0.000   -3.93e-14   -2.98e-14\n",
            "Model_5                      -0.0182      0.146     -0.125      0.901      -0.304       0.267\n",
            "Model_6                       0.7115      0.168      4.238      0.000       0.382       1.041\n",
            "Model_7                      -0.2896      0.234     -1.239      0.215      -0.748       0.169\n",
            "Model_800                    -1.1185      0.114     -9.789      0.000      -1.343      -0.895\n",
            "Model_A                      -0.6472      0.106     -6.134      0.000      -0.854      -0.440\n",
            "Model_A-Star                 -0.5117      0.093     -5.499      0.000      -0.694      -0.329\n",
            "Model_A3                     -0.7565      0.105     -7.226      0.000      -0.962      -0.551\n",
            "Model_A4                     -0.7978      0.047    -16.825      0.000      -0.891      -0.705\n",
            "Model_A6                     -0.7480      0.057    -13.200      0.000      -0.859      -0.637\n",
            "Model_A7                      0.1331      0.201      0.662      0.508      -0.261       0.528\n",
            "Model_A8                      0.1547      0.149      1.039      0.299      -0.137       0.447\n",
            "Model_Abarth                 -0.6757      0.193     -3.504      0.000      -1.054      -0.298\n",
            "Model_Accent                 -0.0667      0.134     -0.496      0.620      -0.330       0.197\n",
            "Model_Accord                 -0.2746      0.049     -5.603      0.000      -0.371      -0.179\n",
            "Model_Alto                   -0.6712      0.080     -8.365      0.000      -0.828      -0.514\n",
            "Model_Amaze                  -0.6381      0.034    -18.952      0.000      -0.704      -0.572\n",
            "Model_Ameo                   -1.0418      0.061    -16.978      0.000      -1.162      -0.922\n",
            "Model_Aspire                 -5.0583      0.258    -19.626      0.000      -5.564      -4.553\n",
            "Model_Aveo                   -0.9848      0.064    -15.429      0.000      -1.110      -0.860\n",
            "Model_Avventura              -0.3756      0.108     -3.486      0.000      -0.587      -0.164\n",
            "Model_B                      -0.7940      0.108     -7.330      0.000      -1.006      -0.582\n",
            "Model_BR-V                   -0.4178      0.141     -2.961      0.003      -0.694      -0.141\n",
            "Model_BRV                    -0.3662      0.086     -4.269      0.000      -0.534      -0.198\n",
            "Model_Baleno                 -0.1060      0.081     -1.308      0.191      -0.265       0.053\n",
            "Model_Beat                   -0.8447      0.046    -18.169      0.000      -0.936      -0.754\n",
            "Model_Beetle              -7.728e-15   8.92e-16     -8.667      0.000   -9.48e-15   -5.98e-15\n",
            "Model_Bolero                 -0.2262      0.064     -3.520      0.000      -0.352      -0.100\n",
            "Model_Bolt                   -0.6949      0.184     -3.772      0.000      -1.056      -0.334\n",
            "Model_Boxster             -9.713e-15   1.78e-15     -5.472      0.000   -1.32e-14   -6.23e-15\n",
            "Model_Brio                   -0.7605      0.038    -20.273      0.000      -0.834      -0.687\n",
            "Model_C-Class                -0.5744      0.171     -3.354      0.001      -0.910      -0.239\n",
            "Model_CLA                    -0.5294      0.104     -5.111      0.000      -0.732      -0.326\n",
            "Model_CLS-Class               0.1899      0.225      0.843      0.399      -0.252       0.632\n",
            "Model_CR-V                   -0.1138      0.054     -2.093      0.036      -0.220      -0.007\n",
            "Model_Camry                  -0.1724      0.084     -2.049      0.040      -0.337      -0.007\n",
            "Model_Captiva                -0.3448      0.140     -2.469      0.014      -0.619      -0.071\n",
            "Model_Captur                 -0.2882      0.115     -2.502      0.012      -0.514      -0.062\n",
            "Model_Cayenne                -2.2921      0.149    -15.392      0.000      -2.584      -2.000\n",
            "Model_Cayman                 -0.1224      0.178     -0.687      0.492      -0.471       0.227\n",
            "Model_Cedia                  -1.2873      0.186     -6.929      0.000      -1.652      -0.923\n",
            "Model_Celerio                -0.4704      0.083     -5.640      0.000      -0.634      -0.307\n",
            "Model_Ciaz                    0.0518      0.080      0.648      0.517      -0.105       0.209\n",
            "Model_City                   -0.3875      0.027    -14.393      0.000      -0.440      -0.335\n",
            "Model_Civic                  -0.5656      0.043    -13.057      0.000      -0.651      -0.481\n",
            "Model_Classic                -5.5970      0.185    -30.206      0.000      -5.960      -5.234\n",
            "Model_Clubman                -1.0532      0.131     -8.013      0.000      -1.311      -0.796\n",
            "Model_Compass                -2.4428      0.076    -31.995      0.000      -2.593      -2.293\n",
            "Model_Continental             0.5963      0.237      2.511      0.012       0.131       1.062\n",
            "Model_Cooper                 -1.1044      0.082    -13.388      0.000      -1.266      -0.943\n",
            "Model_Corolla                -0.7099      0.052    -13.642      0.000      -0.812      -0.608\n",
            "Model_Countryman             -1.1426      0.170     -6.728      0.000      -1.476      -0.810\n",
            "Model_Creta                   0.8279      0.127      6.513      0.000       0.579       1.077\n",
            "Model_CrossPolo              -0.9047      0.099     -9.102      0.000      -1.100      -0.710\n",
            "Model_Cruze                  -0.2223      0.061     -3.629      0.000      -0.342      -0.102\n",
            "Model_D-MAX                  -2.5349      0.094    -26.893      0.000      -2.720      -2.350\n",
            "Model_Duster                 -0.4348      0.046     -9.532      0.000      -0.524      -0.345\n",
            "Model_Dzire                  -0.1290      0.092     -1.406      0.160      -0.309       0.051\n",
            "Model_E                    2.343e-15   1.23e-15      1.897      0.058    -7.8e-17    4.76e-15\n",
            "Model_E-Class                -0.7306      0.112     -6.520      0.000      -0.950      -0.511\n",
            "Model_EON                    -0.2082      0.125     -1.668      0.095      -0.453       0.037\n",
            "Model_EcoSport               -4.9724      0.231    -21.484      0.000      -5.426      -4.519\n",
            "Model_Ecosport               -4.9557      0.230    -21.513      0.000      -5.407      -4.504\n",
            "Model_Eeco                   -0.5112      0.098     -5.216      0.000      -0.703      -0.319\n",
            "Model_Elantra                 0.7397      0.132      5.618      0.000       0.482       0.998\n",
            "Model_Elite                   0.4596      0.136      3.379      0.001       0.193       0.726\n",
            "Model_Endeavour              -4.3769      0.237    -18.432      0.000      -4.842      -3.911\n",
            "Model_Enjoy                  -0.5658      0.088     -6.436      0.000      -0.738      -0.393\n",
            "Model_Ertiga                  0.0790      0.085      0.926      0.354      -0.088       0.246\n",
            "Model_Esteem                 -0.9594      0.129     -7.438      0.000      -1.212      -0.707\n",
            "Model_Estilo                 -0.5701      0.142     -4.004      0.000      -0.849      -0.291\n",
            "Model_Etios                  -1.0712      0.056    -19.045      0.000      -1.181      -0.961\n",
            "Model_Evalia                 -1.0830      0.187     -5.784      0.000      -1.450      -0.716\n",
            "Model_F                   -1.174e-15   5.27e-16     -2.227      0.026   -2.21e-15    -1.4e-16\n",
            "Model_Fabia                  -1.2936      0.064    -20.274      0.000      -1.419      -1.168\n",
            "Model_Fiesta                 -5.3706      0.232    -23.182      0.000      -5.825      -4.916\n",
            "Model_Figo                   -5.4171      0.230    -23.524      0.000      -5.869      -4.966\n",
            "Model_Fluence                -0.6515      0.138     -4.730      0.000      -0.922      -0.382\n",
            "Model_Flying                 -4.5144      0.351    -12.856      0.000      -5.203      -3.826\n",
            "Model_Fortuner               -0.0376      0.055     -0.690      0.490      -0.144       0.069\n",
            "Model_Fortwo                 -2.7603      0.126    -21.958      0.000      -3.007      -2.514\n",
            "Model_Freestyle              -5.3375      0.307    -17.362      0.000      -5.940      -4.735\n",
            "Model_Fusion                 -5.1480      0.307    -16.776      0.000      -5.750      -4.546\n",
            "Model_GL-Class                0.2734      0.105      2.615      0.009       0.068       0.478\n",
            "Model_GLA                    -0.4933      0.101     -4.879      0.000      -0.691      -0.295\n",
            "Model_GLC                    -0.2419      0.127     -1.905      0.057      -0.491       0.007\n",
            "Model_GLE                    -0.2530      0.132     -1.919      0.055      -0.511       0.005\n",
            "Model_GLS                    -0.2603      0.246     -1.060      0.289      -0.742       0.221\n",
            "Model_GO                     -1.4005      0.091    -15.405      0.000      -1.579      -1.222\n",
            "Model_Gallardo            -1.253e-16   1.59e-16     -0.790      0.429   -4.36e-16    1.86e-16\n",
            "Model_Getz                   -0.2233      0.142     -1.570      0.116      -0.502       0.055\n",
            "Model_Grand                   0.1637      0.123      1.328      0.184      -0.078       0.405\n",
            "Model_Grande                 -0.7374      0.107     -6.875      0.000      -0.948      -0.527\n",
            "Model_Hexa                    0.0474      0.182      0.260      0.795      -0.310       0.405\n",
            "Model_Ignis                  -0.3641      0.110     -3.301      0.001      -0.580      -0.148\n",
            "Model_Ikon                   -5.7281      0.234    -24.489      0.000      -6.187      -5.270\n",
            "Model_Indica                 -1.1967      0.115    -10.399      0.000      -1.422      -0.971\n",
            "Model_Indigo                 -1.1158      0.119     -9.415      0.000      -1.348      -0.884\n",
            "Model_Innova                 -0.2733      0.050     -5.495      0.000      -0.371      -0.176\n",
            "Model_Jazz                   -0.5626      0.037    -15.221      0.000      -0.635      -0.490\n",
            "Model_Jeep                   -0.4461      0.200     -2.231      0.026      -0.838      -0.054\n",
            "Model_Jetta                  -0.4023      0.056     -7.226      0.000      -0.511      -0.293\n",
            "Model_KUV                    -0.6969      0.070    -10.021      0.000      -0.833      -0.561\n",
            "Model_KWID                   -1.2232      0.055    -22.196      0.000      -1.331      -1.115\n",
            "Model_Koleos                 -0.1845      0.103     -1.795      0.073      -0.386       0.017\n",
            "Model_Lancer                 -1.0894      0.140     -7.755      0.000      -1.365      -0.814\n",
            "Model_Land                   -1.0397      0.193     -5.377      0.000      -1.419      -0.661\n",
            "Model_Laura                  -0.7480      0.045    -16.759      0.000      -0.836      -0.661\n",
            "Model_Linea                  -0.5135      0.083     -6.200      0.000      -0.676      -0.351\n",
            "Model_Lodgy                  -0.4610      0.144     -3.203      0.001      -0.743      -0.179\n",
            "Model_Logan                  -0.9940      0.145     -6.867      0.000      -1.278      -0.710\n",
            "Model_M-Class                 0.0551      0.094      0.585      0.559      -0.130       0.240\n",
            "Model_MU                     -2.0813      0.166    -12.506      0.000      -2.408      -1.755\n",
            "Model_MUX                    -1.3564      0.166     -8.190      0.000      -1.681      -1.032\n",
            "Model_Manza                  -0.9329      0.123     -7.588      0.000      -1.174      -0.692\n",
            "Model_Micra                  -1.1487      0.057    -20.075      0.000      -1.261      -1.036\n",
            "Model_Mobilio                -0.5287      0.057     -9.220      0.000      -0.641      -0.416\n",
            "Model_Montero                -0.4351      0.188     -2.319      0.020      -0.803      -0.067\n",
            "Model_Motors                 -1.8467      0.121    -15.266      0.000      -2.084      -1.610\n",
            "Model_Mustang                -4.1354      0.321    -12.884      0.000      -4.765      -3.506\n",
            "Model_Nano                   -1.5951      0.128    -12.416      0.000      -1.847      -1.343\n",
            "Model_New                    -0.6287      0.086     -7.298      0.000      -0.798      -0.460\n",
            "Model_Nexon                  -0.2272      0.184     -1.236      0.216      -0.588       0.133\n",
            "Model_NuvoSport           -2.049e-16   9.44e-17     -2.171      0.030    -3.9e-16   -1.99e-17\n",
            "Model_Octavia                -0.6473      0.045    -14.281      0.000      -0.736      -0.558\n",
            "Model_Omni                   -0.7915      0.093     -8.511      0.000      -0.974      -0.609\n",
            "Model_One                    -2.4531      0.102    -23.934      0.000      -2.654      -2.252\n",
            "Model_Optra                  -0.5996      0.071     -8.419      0.000      -0.739      -0.460\n",
            "Model_Outlander              -0.7793      0.140     -5.569      0.000      -1.054      -0.505\n",
            "Model_Pajero                 -0.6117      0.083     -7.413      0.000      -0.773      -0.450\n",
            "Model_Panamera               -0.5382      0.105     -5.112      0.000      -0.745      -0.332\n",
            "Model_Passat                 -0.5488      0.072     -7.645      0.000      -0.689      -0.408\n",
            "Model_Petra                  -1.0961      0.192     -5.724      0.000      -1.472      -0.721\n",
            "Model_Platinum               -0.9586      0.194     -4.946      0.000      -1.339      -0.579\n",
            "Model_Polo                   -0.9764      0.042    -23.276      0.000      -1.059      -0.894\n",
            "Model_Prius               -8.097e-16   1.21e-16     -6.669      0.000   -1.05e-15   -5.72e-16\n",
            "Model_Pulse                  -0.8050      0.077    -10.460      0.000      -0.956      -0.654\n",
            "Model_Punto                  -0.7074      0.099     -7.142      0.000      -0.902      -0.513\n",
            "Model_Q3                     -0.6555      0.056    -11.633      0.000      -0.766      -0.545\n",
            "Model_Q5                     -0.0514      0.073     -0.707      0.480      -0.194       0.091\n",
            "Model_Q7                     -0.5761      0.097     -5.962      0.000      -0.766      -0.387\n",
            "Model_Qualis                 -0.2458      0.129     -1.899      0.058      -0.500       0.008\n",
            "Model_Quanto                 -0.7248      0.095     -7.659      0.000      -0.910      -0.539\n",
            "Model_R-Class                -0.2658      0.172     -1.545      0.122      -0.603       0.071\n",
            "Model_RS5                    -0.9870      0.180     -5.476      0.000      -1.340      -0.634\n",
            "Model_Rapid                  -0.8989      0.039    -22.759      0.000      -0.976      -0.821\n",
            "Model_Redi                   -1.7322      0.165    -10.489      0.000      -2.056      -1.408\n",
            "Model_Renault                -0.5351      0.144     -3.708      0.000      -0.818      -0.252\n",
            "Model_Ritz                   -0.3944      0.079     -4.981      0.000      -0.550      -0.239\n",
            "Model_Rover                  -2.3122      0.094    -24.491      0.000      -2.497      -2.127\n",
            "Model_S                       0.0808      0.079      1.027      0.304      -0.073       0.235\n",
            "Model_S-Class                -1.4957      0.291     -5.141      0.000      -2.066      -0.925\n",
            "Model_S-Cross                 0.0080      0.222      0.036      0.971      -0.428       0.444\n",
            "Model_S60                    -0.8856      0.084    -10.497      0.000      -1.051      -0.720\n",
            "Model_S80                    -1.1349      0.134     -8.493      0.000      -1.397      -0.873\n",
            "Model_SL-Class                0.3780      0.233      1.620      0.105      -0.079       0.835\n",
            "Model_SLC                    -0.6033      0.247     -2.441      0.015      -1.088      -0.119\n",
            "Model_SLK-Class               0.3353      0.155      2.164      0.030       0.032       0.639\n",
            "Model_SX4                    -0.2544      0.082     -3.090      0.002      -0.416      -0.093\n",
            "Model_Safari                 -0.2231      0.148     -1.508      0.132      -0.513       0.067\n",
            "Model_Sail                   -0.6705      0.075     -8.895      0.000      -0.818      -0.523\n",
            "Model_Santa                   0.9515      0.146      6.498      0.000       0.664       1.239\n",
            "Model_Santro                 -0.0760      0.128     -0.596      0.552      -0.326       0.174\n",
            "Model_Scala                  -0.8473      0.138     -6.140      0.000      -1.118      -0.577\n",
            "Model_Scorpio                -0.0610      0.048     -1.269      0.205      -0.155       0.033\n",
            "Model_Siena                  -1.1337      0.192     -5.897      0.000      -1.511      -0.757\n",
            "Model_Sonata                  0.8254      0.152      5.443      0.000       0.528       1.123\n",
            "Model_Spark                  -1.0373      0.075    -13.748      0.000      -1.185      -0.889\n",
            "Model_Ssangyong               0.0927      0.080      1.154      0.248      -0.065       0.250\n",
            "Model_Sumo                   -0.3820      0.150     -2.545      0.011      -0.676      -0.088\n",
            "Model_Sunny                  -0.8875      0.060    -14.782      0.000      -1.005      -0.770\n",
            "Model_Superb                 -0.5829      0.043    -13.443      0.000      -0.668      -0.498\n",
            "Model_Swift                  -0.1693      0.077     -2.198      0.028      -0.320      -0.018\n",
            "Model_TT                      0.3024      0.202      1.498      0.134      -0.093       0.698\n",
            "Model_TUV                    -0.3417      0.074     -4.600      0.000      -0.487      -0.196\n",
            "Model_Tavera                  0.0690      0.130      0.530      0.596      -0.186       0.324\n",
            "Model_Teana                  -0.6900      0.115     -6.009      0.000      -0.915      -0.465\n",
            "Model_Terrano                -0.6832      0.061    -11.267      0.000      -0.802      -0.564\n",
            "Model_Thar                   -0.1046      0.078     -1.334      0.182      -0.258       0.049\n",
            "Model_Tiago                  -0.7765      0.129     -6.000      0.000      -1.030      -0.523\n",
            "Model_Tigor                  -0.5892      0.152     -3.865      0.000      -0.888      -0.290\n",
            "Model_Tiguan                  0.0928      0.190      0.489      0.625      -0.279       0.465\n",
            "Model_Tucson                  0.5863      0.165      3.548      0.000       0.262       0.910\n",
            "Model_V40                    -0.7535      0.114     -6.606      0.000      -0.977      -0.530\n",
            "Model_Vento                  -0.8576      0.042    -20.615      0.000      -0.939      -0.776\n",
            "Model_Venture                -0.8483      0.235     -3.602      0.000      -1.310      -0.387\n",
            "Model_Verito                 -0.6795      0.120     -5.658      0.000      -0.915      -0.444\n",
            "Model_Verna                   0.4169      0.126      3.317      0.001       0.171       0.663\n",
            "Model_Versa                  -0.7493      0.228     -3.281      0.001      -1.197      -0.302\n",
            "Model_Vitara                  0.0807      0.083      0.973      0.331      -0.082       0.243\n",
            "Model_WR-V                         0          0        nan        nan           0           0\n",
            "Model_WRV                    -0.3868      0.115     -3.367      0.001      -0.612      -0.162\n",
            "Model_Wagon                  -0.4940      0.080     -6.202      0.000      -0.650      -0.338\n",
            "Model_X-Trail                -0.2008      0.136     -1.480      0.139      -0.467       0.065\n",
            "Model_X1                     -0.1779      0.138     -1.286      0.198      -0.449       0.093\n",
            "Model_X3                      0.0917      0.155      0.591      0.554      -0.212       0.396\n",
            "Model_X5                      0.6776      0.134      5.045      0.000       0.414       0.941\n",
            "Model_X6                      0.8590      0.153      5.614      0.000       0.559       1.159\n",
            "Model_XC60                   -0.6017      0.089     -6.785      0.000      -0.776      -0.428\n",
            "Model_XC90                   -0.4810      0.137     -3.511      0.000      -0.750      -0.212\n",
            "Model_XE                     -1.3752      0.123    -11.223      0.000      -1.615      -1.135\n",
            "Model_XF                     -1.3595      0.075    -18.211      0.000      -1.506      -1.213\n",
            "Model_XJ                     -0.4743      0.098     -4.823      0.000      -0.667      -0.281\n",
            "Model_XUV300                  0.0214      0.201      0.107      0.915      -0.372       0.415\n",
            "Model_XUV500                  0.0463      0.041      1.124      0.261      -0.035       0.127\n",
            "Model_Xcent                   0.1545      0.128      1.208      0.227      -0.096       0.405\n",
            "Model_Xenon                  -0.6262      0.160     -3.906      0.000      -0.941      -0.312\n",
            "Model_Xylo                   -0.4478      0.059     -7.574      0.000      -0.564      -0.332\n",
            "Model_Yeti                   -0.4233      0.079     -5.343      0.000      -0.579      -0.268\n",
            "Model_Z4                      0.7259      0.202      3.601      0.000       0.331       1.121\n",
            "Model_Zen                    -0.7658      0.085     -8.962      0.000      -0.933      -0.598\n",
            "Model_Zest                   -0.6388      0.125     -5.105      0.000      -0.884      -0.393\n",
            "Model_i10                     0.0698      0.124      0.563      0.573      -0.173       0.313\n",
            "Model_i20                     0.3279      0.125      2.632      0.009       0.084       0.572\n",
            "Model_redi-GO                -1.5626      0.094    -16.690      0.000      -1.746      -1.379\n",
            "==============================================================================\n",
            "Omnibus:                     1420.506   Durbin-Watson:                   2.011\n",
            "Prob(Omnibus):                  0.000   Jarque-Bera (JB):            33974.981\n",
            "Skew:                          -0.782   Prob(JB):                         0.00\n",
            "Kurtosis:                      15.577   Cond. No.                     6.35e+19\n",
            "==============================================================================\n",
            "\n",
            "Warnings:\n",
            "[1] Standard Errors assume that the covariance matrix of the errors is correctly specified.\n",
            "[2] The smallest eigenvalue is 8.6e-30. This might indicate that there are\n",
            "strong multicollinearity problems or that the design matrix is singular.\n"
          ]
        }
      ],
      "source": [
        "# Import Statsmodels \n",
        "import statsmodels.api as sm\n",
        "\n",
        "# Statsmodel api does not add a constant by default. We need to add it explicitly.\n",
        "x_train = sm.add_constant(X_train)\n",
        "# Add constant to test data\n",
        "x_test = sm.add_constant(X_test)\n",
        "\n",
        "def build_ols_model(train):\n",
        "    # Create the model\n",
        "    olsmodel = sm.OLS(y_train[\"price_log\"], train)\n",
        "    return olsmodel.fit()\n",
        "\n",
        "\n",
        "# Fit linear model on new dataset\n",
        "olsmodel1 = build_ols_model(x_train)\n",
        "print(olsmodel1.summary())"
      ]
    },
    {
      "cell_type": "code",
      "execution_count": null,
      "metadata": {
        "id": "HMTrQ0hdHa1w"
      },
      "outputs": [],
      "source": [
        "# Retrive Coeff values, p-values and store them in the dataframe\n",
        "olsmod = pd.DataFrame(olsmodel1.params, columns=['coef'])\n",
        "olsmod['pval']=olsmodel1.pvalues"
      ]
    },
    {
      "cell_type": "code",
      "execution_count": null,
      "metadata": {
        "colab": {
          "base_uri": "https://localhost:8080/",
          "height": 424
        },
        "id": "z68C2gt1Ha1w",
        "outputId": "6ce42815-fe92-41c2-93c8-2111aff6a331"
      },
      "outputs": [
        {
          "output_type": "execute_result",
          "data": {
            "text/plain": [
              "                            coef      pval\n",
              "Model_Camry        -1.723680e-01  0.040475\n",
              "Model_CR-V         -1.137681e-01  0.036426\n",
              "Model_SLK-Class     3.353011e-01  0.030497\n",
              "Model_NuvoSport    -2.048654e-16  0.029986\n",
              "Model_Swift        -1.692517e-01  0.028008\n",
              "...                          ...       ...\n",
              "Brand_Fiat         -5.239326e+00  0.000000\n",
              "Brand_Chevrolet    -5.200758e+00  0.000000\n",
              "Year                8.960520e-02  0.000000\n",
              "Fuel_Type_Electric  3.390881e-12  0.000000\n",
              "const              -1.728768e+02  0.000000\n",
              "\n",
              "[218 rows x 2 columns]"
            ],
            "text/html": [
              "\n",
              "  <div id=\"df-80ad6264-bb0c-4713-8ce9-fb65967846d2\">\n",
              "    <div class=\"colab-df-container\">\n",
              "      <div>\n",
              "<style scoped>\n",
              "    .dataframe tbody tr th:only-of-type {\n",
              "        vertical-align: middle;\n",
              "    }\n",
              "\n",
              "    .dataframe tbody tr th {\n",
              "        vertical-align: top;\n",
              "    }\n",
              "\n",
              "    .dataframe thead th {\n",
              "        text-align: right;\n",
              "    }\n",
              "</style>\n",
              "<table border=\"1\" class=\"dataframe\">\n",
              "  <thead>\n",
              "    <tr style=\"text-align: right;\">\n",
              "      <th></th>\n",
              "      <th>coef</th>\n",
              "      <th>pval</th>\n",
              "    </tr>\n",
              "  </thead>\n",
              "  <tbody>\n",
              "    <tr>\n",
              "      <th>Model_Camry</th>\n",
              "      <td>-1.723680e-01</td>\n",
              "      <td>0.040475</td>\n",
              "    </tr>\n",
              "    <tr>\n",
              "      <th>Model_CR-V</th>\n",
              "      <td>-1.137681e-01</td>\n",
              "      <td>0.036426</td>\n",
              "    </tr>\n",
              "    <tr>\n",
              "      <th>Model_SLK-Class</th>\n",
              "      <td>3.353011e-01</td>\n",
              "      <td>0.030497</td>\n",
              "    </tr>\n",
              "    <tr>\n",
              "      <th>Model_NuvoSport</th>\n",
              "      <td>-2.048654e-16</td>\n",
              "      <td>0.029986</td>\n",
              "    </tr>\n",
              "    <tr>\n",
              "      <th>Model_Swift</th>\n",
              "      <td>-1.692517e-01</td>\n",
              "      <td>0.028008</td>\n",
              "    </tr>\n",
              "    <tr>\n",
              "      <th>...</th>\n",
              "      <td>...</td>\n",
              "      <td>...</td>\n",
              "    </tr>\n",
              "    <tr>\n",
              "      <th>Brand_Fiat</th>\n",
              "      <td>-5.239326e+00</td>\n",
              "      <td>0.000000</td>\n",
              "    </tr>\n",
              "    <tr>\n",
              "      <th>Brand_Chevrolet</th>\n",
              "      <td>-5.200758e+00</td>\n",
              "      <td>0.000000</td>\n",
              "    </tr>\n",
              "    <tr>\n",
              "      <th>Year</th>\n",
              "      <td>8.960520e-02</td>\n",
              "      <td>0.000000</td>\n",
              "    </tr>\n",
              "    <tr>\n",
              "      <th>Fuel_Type_Electric</th>\n",
              "      <td>3.390881e-12</td>\n",
              "      <td>0.000000</td>\n",
              "    </tr>\n",
              "    <tr>\n",
              "      <th>const</th>\n",
              "      <td>-1.728768e+02</td>\n",
              "      <td>0.000000</td>\n",
              "    </tr>\n",
              "  </tbody>\n",
              "</table>\n",
              "<p>218 rows × 2 columns</p>\n",
              "</div>\n",
              "      <button class=\"colab-df-convert\" onclick=\"convertToInteractive('df-80ad6264-bb0c-4713-8ce9-fb65967846d2')\"\n",
              "              title=\"Convert this dataframe to an interactive table.\"\n",
              "              style=\"display:none;\">\n",
              "        \n",
              "  <svg xmlns=\"http://www.w3.org/2000/svg\" height=\"24px\"viewBox=\"0 0 24 24\"\n",
              "       width=\"24px\">\n",
              "    <path d=\"M0 0h24v24H0V0z\" fill=\"none\"/>\n",
              "    <path d=\"M18.56 5.44l.94 2.06.94-2.06 2.06-.94-2.06-.94-.94-2.06-.94 2.06-2.06.94zm-11 1L8.5 8.5l.94-2.06 2.06-.94-2.06-.94L8.5 2.5l-.94 2.06-2.06.94zm10 10l.94 2.06.94-2.06 2.06-.94-2.06-.94-.94-2.06-.94 2.06-2.06.94z\"/><path d=\"M17.41 7.96l-1.37-1.37c-.4-.4-.92-.59-1.43-.59-.52 0-1.04.2-1.43.59L10.3 9.45l-7.72 7.72c-.78.78-.78 2.05 0 2.83L4 21.41c.39.39.9.59 1.41.59.51 0 1.02-.2 1.41-.59l7.78-7.78 2.81-2.81c.8-.78.8-2.07 0-2.86zM5.41 20L4 18.59l7.72-7.72 1.47 1.35L5.41 20z\"/>\n",
              "  </svg>\n",
              "      </button>\n",
              "      \n",
              "  <style>\n",
              "    .colab-df-container {\n",
              "      display:flex;\n",
              "      flex-wrap:wrap;\n",
              "      gap: 12px;\n",
              "    }\n",
              "\n",
              "    .colab-df-convert {\n",
              "      background-color: #E8F0FE;\n",
              "      border: none;\n",
              "      border-radius: 50%;\n",
              "      cursor: pointer;\n",
              "      display: none;\n",
              "      fill: #1967D2;\n",
              "      height: 32px;\n",
              "      padding: 0 0 0 0;\n",
              "      width: 32px;\n",
              "    }\n",
              "\n",
              "    .colab-df-convert:hover {\n",
              "      background-color: #E2EBFA;\n",
              "      box-shadow: 0px 1px 2px rgba(60, 64, 67, 0.3), 0px 1px 3px 1px rgba(60, 64, 67, 0.15);\n",
              "      fill: #174EA6;\n",
              "    }\n",
              "\n",
              "    [theme=dark] .colab-df-convert {\n",
              "      background-color: #3B4455;\n",
              "      fill: #D2E3FC;\n",
              "    }\n",
              "\n",
              "    [theme=dark] .colab-df-convert:hover {\n",
              "      background-color: #434B5C;\n",
              "      box-shadow: 0px 1px 3px 1px rgba(0, 0, 0, 0.15);\n",
              "      filter: drop-shadow(0px 1px 2px rgba(0, 0, 0, 0.3));\n",
              "      fill: #FFFFFF;\n",
              "    }\n",
              "  </style>\n",
              "\n",
              "      <script>\n",
              "        const buttonEl =\n",
              "          document.querySelector('#df-80ad6264-bb0c-4713-8ce9-fb65967846d2 button.colab-df-convert');\n",
              "        buttonEl.style.display =\n",
              "          google.colab.kernel.accessAllowed ? 'block' : 'none';\n",
              "\n",
              "        async function convertToInteractive(key) {\n",
              "          const element = document.querySelector('#df-80ad6264-bb0c-4713-8ce9-fb65967846d2');\n",
              "          const dataTable =\n",
              "            await google.colab.kernel.invokeFunction('convertToInteractive',\n",
              "                                                     [key], {});\n",
              "          if (!dataTable) return;\n",
              "\n",
              "          const docLinkHtml = 'Like what you see? Visit the ' +\n",
              "            '<a target=\"_blank\" href=https://colab.research.google.com/notebooks/data_table.ipynb>data table notebook</a>'\n",
              "            + ' to learn more about interactive tables.';\n",
              "          element.innerHTML = '';\n",
              "          dataTable['output_type'] = 'display_data';\n",
              "          await google.colab.output.renderOutput(dataTable, element);\n",
              "          const docLink = document.createElement('div');\n",
              "          docLink.innerHTML = docLinkHtml;\n",
              "          element.appendChild(docLink);\n",
              "        }\n",
              "      </script>\n",
              "    </div>\n",
              "  </div>\n",
              "  "
            ]
          },
          "metadata": {},
          "execution_count": 90
        }
      ],
      "source": [
        "# Filter by significant p-value (pval <0.05) and sort descending by Odds ratio\n",
        "olsmod = olsmod.sort_values(by=\"pval\", ascending=False)\n",
        "pval_filter = olsmod['pval']<=0.05\n",
        "olsmod[pval_filter]"
      ]
    },
    {
      "cell_type": "code",
      "execution_count": null,
      "metadata": {
        "colab": {
          "base_uri": "https://localhost:8080/"
        },
        "id": "WOGmBqTjHa1w",
        "outputId": "97b70644-fe30-442b-ea1b-55c8e0540089"
      },
      "outputs": [
        {
          "output_type": "stream",
          "name": "stdout",
          "text": [
            "\u001b[1mMost overall significant categorical varaibles of LINEAR REGRESSION  are \u001b[95m :\n",
            " ['Model', 'Location', 'Engine', 'New_price', 'Owner_Type', 'Transmission', 'Power', 'kilometers_driven_log', 'Brand', 'Year', 'Fuel_Type']\n"
          ]
        }
      ],
      "source": [
        "# we are looking are overall significant variable\n",
        "pval_filter = olsmod['pval']<=0.05\n",
        "imp_vars = olsmod[pval_filter].index.tolist()\n",
        "\n",
        "# we are going to get overall variables (un-one-hot encoded varables) from categorical varaibles\n",
        "sig_var = []\n",
        "for col in imp_vars:\n",
        "    if '' in col:\n",
        "        first_part = col.split('_')[0]\n",
        "        for c in data.columns:\n",
        "            if first_part in c and c not in sig_var :\n",
        "                sig_var.append(c)\n",
        " \n",
        "\n",
        "start = '\\033[1m'\n",
        "end = '\\033[95m'\n",
        "print(start+'Most overall significant categorical varaibles of LINEAR REGRESSION  are '+end,':\\n',sig_var)"
      ]
    },
    {
      "cell_type": "markdown",
      "metadata": {
        "id": "e7-rxL1mHa1x"
      },
      "source": [
        "<b>Build Ridge / Lasso Regression similar to Linear Regression:</b><br>\n",
        "\n",
        "https://scikit-learn.org/stable/modules/generated/sklearn.linear_model.Ridge.html"
      ]
    },
    {
      "cell_type": "code",
      "execution_count": null,
      "metadata": {
        "id": "vNBSBCFqHa1x"
      },
      "outputs": [],
      "source": [
        "# import Ridge/ Lasso Regression from sklearn\n",
        "\n",
        "from sklearn.linear_model import Ridge\n",
        "from sklearn.linear_model import Lasso"
      ]
    },
    {
      "cell_type": "code",
      "execution_count": null,
      "metadata": {
        "id": "JaOuDhtLHa1x"
      },
      "outputs": [],
      "source": [
        "# Create a Ridge regression model\n",
        "\n",
        "ridge = Ridge()"
      ]
    },
    {
      "cell_type": "code",
      "execution_count": null,
      "metadata": {
        "colab": {
          "base_uri": "https://localhost:8080/"
        },
        "id": "Pn6sYw7PHa1x",
        "outputId": "da9faa0c-80f7-4937-a1c9-a8ebf7d71187"
      },
      "outputs": [
        {
          "output_type": "execute_result",
          "data": {
            "text/plain": [
              "Ridge()"
            ]
          },
          "metadata": {},
          "execution_count": 94
        }
      ],
      "source": [
        "ridge.fit(X_train,y_train['price_log'])"
      ]
    },
    {
      "cell_type": "code",
      "execution_count": null,
      "metadata": {
        "colab": {
          "base_uri": "https://localhost:8080/"
        },
        "id": "iNktEbzFHa1x",
        "outputId": "40bc94ef-814f-40bb-c309-fcc8bb2293a7"
      },
      "outputs": [
        {
          "output_type": "stream",
          "name": "stdout",
          "text": [
            "R-square on training set :  0.9019778272765256\n",
            "R-square on test set :  0.8846680788948278\n",
            "RMSE on training set :  3.363646270977617\n",
            "RMSE on test set :  3.6344809442903223\n"
          ]
        }
      ],
      "source": [
        "# Get score of the model.\n",
        "\n",
        "LR_score_ridge = get_model_score(ridge)"
      ]
    },
    {
      "cell_type": "markdown",
      "metadata": {
        "id": "-4TOlGTZHa1x"
      },
      "source": [
        "#### **Observations from results: _____**"
      ]
    },
    {
      "cell_type": "markdown",
      "metadata": {
        "id": "JPVjptopHa1x"
      },
      "source": [
        "### **Decision Tree** \n",
        "\n",
        "https://scikit-learn.org/stable/auto_examples/tree/plot_tree_regression.html"
      ]
    },
    {
      "cell_type": "code",
      "execution_count": null,
      "metadata": {
        "id": "R2p9JCOFHa1y"
      },
      "outputs": [],
      "source": [
        "# import Decision tree for Regression from sklearn\n",
        "\n",
        "from sklearn.tree import DecisionTreeRegressor "
      ]
    },
    {
      "cell_type": "code",
      "execution_count": null,
      "metadata": {
        "id": "XEq4VyOJHa1y"
      },
      "outputs": [],
      "source": [
        "# Create a decision tree regression model\n",
        "dtree = DecisionTreeRegressor(random_state=1)"
      ]
    },
    {
      "cell_type": "code",
      "execution_count": null,
      "metadata": {
        "colab": {
          "base_uri": "https://localhost:8080/"
        },
        "id": "oe6cvzHZHa1y",
        "outputId": "651535b6-d808-4d27-a682-d394ba7f9bc6"
      },
      "outputs": [
        {
          "output_type": "execute_result",
          "data": {
            "text/plain": [
              "DecisionTreeRegressor(random_state=1)"
            ]
          },
          "metadata": {},
          "execution_count": 98
        }
      ],
      "source": [
        "# Fit decision tree regression model.\n",
        "dtree.fit(X_train,y_train['price_log'])"
      ]
    },
    {
      "cell_type": "code",
      "execution_count": null,
      "metadata": {
        "colab": {
          "base_uri": "https://localhost:8080/"
        },
        "id": "8-lnqSiPHa1y",
        "outputId": "ab06d355-a63c-4d4f-a757-45f2ab85b9e3"
      },
      "outputs": [
        {
          "output_type": "stream",
          "name": "stdout",
          "text": [
            "R-square on training set :  0.999908205603226\n",
            "R-square on test set :  0.7942532679528236\n",
            "RMSE on training set :  0.10293338189909366\n",
            "RMSE on test set :  4.854383757797011\n"
          ]
        }
      ],
      "source": [
        "# Get score of the model.\n",
        "Dtree_model = get_model_score(dtree)\n"
      ]
    },
    {
      "cell_type": "markdown",
      "metadata": {
        "id": "R33LZXWGHa1y"
      },
      "source": [
        "#### **Observations from results: _____**"
      ]
    },
    {
      "cell_type": "markdown",
      "metadata": {
        "id": "Xrv8I_suHa1y"
      },
      "source": [
        "Print the importance of features in the tree building (The importance of a feature is computed as the (normalized) total reduction of the criterion brought by that feature. It is also known as the Gini importance)"
      ]
    },
    {
      "cell_type": "code",
      "execution_count": null,
      "metadata": {
        "colab": {
          "base_uri": "https://localhost:8080/"
        },
        "id": "iGy7MeM8Ha1y",
        "outputId": "0b7017a6-af6b-497f-9fa6-5a40029ae9d2"
      },
      "outputs": [
        {
          "output_type": "stream",
          "name": "stdout",
          "text": [
            "                            Imp\n",
            "Power                  0.650061\n",
            "Year                   0.190497\n",
            "New_price              0.060327\n",
            "kilometers_driven_log  0.020255\n",
            "Mileage                0.010902\n",
            "...                         ...\n",
            "Model_Platinum         0.000000\n",
            "Model_Petra            0.000000\n",
            "Model_Panamera         0.000000\n",
            "Model_Pajero           0.000000\n",
            "Model_redi-GO          0.000000\n",
            "\n",
            "[275 rows x 1 columns]\n"
          ]
        }
      ],
      "source": [
        "print(pd.DataFrame(dtree.feature_importances_, columns = [\"Imp\"], index = X_train.columns).sort_values(by = 'Imp', ascending = False))\n"
      ]
    },
    {
      "cell_type": "markdown",
      "metadata": {
        "id": "36cww3TgHa1z"
      },
      "source": [
        "#### **Observations and insights: _____**"
      ]
    },
    {
      "cell_type": "markdown",
      "metadata": {
        "id": "JXHy-1kXHa1z"
      },
      "source": [
        "### **Random Forest**\n",
        "\n",
        "https://scikit-learn.org/stable/modules/generated/sklearn.ensemble.RandomForestRegressor.html"
      ]
    },
    {
      "cell_type": "code",
      "execution_count": null,
      "metadata": {
        "id": "tK_5l6nRHa1z"
      },
      "outputs": [],
      "source": [
        "# import Randomforest for Regression from sklearn\n",
        "\n",
        "from sklearn.ensemble import RandomForestRegressor\n",
        "from sklearn.metrics import recall_score\n",
        "from sklearn.model_selection import GridSearchCV\n",
        "from sklearn.ensemble import GradientBoostingClassifier\n",
        "from sklearn import datasets\n",
        "from sklearn.model_selection import train_test_split\n",
        "from sklearn.model_selection import RandomizedSearchCV\n",
        "from sklearn.metrics import mean_squared_error as mse"
      ]
    },
    {
      "cell_type": "code",
      "execution_count": null,
      "metadata": {
        "id": "tOpknjwKHa1z"
      },
      "outputs": [],
      "source": [
        "# Create a Randomforest regression model\n",
        "\n",
        "rforest = RandomForestRegressor(n_estimators = 100, random_state = 1)"
      ]
    },
    {
      "cell_type": "code",
      "execution_count": null,
      "metadata": {
        "colab": {
          "base_uri": "https://localhost:8080/"
        },
        "id": "SqgBqUr_Ha1z",
        "outputId": "d90abb86-8549-423c-84a3-a0bba880d360"
      },
      "outputs": [
        {
          "output_type": "execute_result",
          "data": {
            "text/plain": [
              "RandomForestRegressor(random_state=1)"
            ]
          },
          "metadata": {},
          "execution_count": 103
        }
      ],
      "source": [
        "# Fit Randomforest regression model.\n",
        "\n",
        "rforest.fit(X_train,y_train['price_log'])"
      ]
    },
    {
      "cell_type": "code",
      "execution_count": null,
      "metadata": {
        "colab": {
          "base_uri": "https://localhost:8080/"
        },
        "id": "eC-_ENZXHa1z",
        "outputId": "a375b762-0d39-4e7b-9447-ddc3ce45e50e"
      },
      "outputs": [
        {
          "output_type": "stream",
          "name": "stdout",
          "text": [
            "R-square on training set :  0.9745907343233768\n",
            "R-square on test set :  0.8601002539891942\n",
            "RMSE on training set :  1.712553756894509\n",
            "RMSE on test set :  4.002912492224137\n"
          ]
        }
      ],
      "source": [
        "# Get score of the model.\n",
        "\n",
        "Rforest_model = get_model_score(rforest)"
      ]
    },
    {
      "cell_type": "markdown",
      "metadata": {
        "id": "y9RFJoRBHa10"
      },
      "source": [
        "#### **Observations and insights: _____**"
      ]
    },
    {
      "cell_type": "markdown",
      "metadata": {
        "id": "x6AKi0zkHa10"
      },
      "source": [
        "**Feature Importance**"
      ]
    },
    {
      "cell_type": "code",
      "execution_count": null,
      "metadata": {
        "scrolled": true,
        "colab": {
          "base_uri": "https://localhost:8080/"
        },
        "id": "4z0U4ZbrHa10",
        "outputId": "bc5ecf1f-a80c-4173-92e5-b68fa0788a52"
      },
      "outputs": [
        {
          "output_type": "stream",
          "name": "stdout",
          "text": [
            "                            Imp\n",
            "Power                  0.637787\n",
            "Year                   0.189883\n",
            "New_price              0.065492\n",
            "kilometers_driven_log  0.019363\n",
            "Engine                 0.018548\n",
            "...                         ...\n",
            "Brand_Lamborghini      0.000000\n",
            "Model_Gallardo         0.000000\n",
            "Model_F                0.000000\n",
            "Fuel_Type_Electric     0.000000\n",
            "Model_Boxster          0.000000\n",
            "\n",
            "[275 rows x 1 columns]\n"
          ]
        }
      ],
      "source": [
        "# Print important features similar to decision trees\n",
        "print(pd.DataFrame(rforest.feature_importances_, columns = [\"Imp\"], index = X_train.columns).sort_values(by = 'Imp', ascending = False))"
      ]
    },
    {
      "cell_type": "markdown",
      "metadata": {
        "id": "OLTNrgCaHa10"
      },
      "source": [
        "#### **Observations and insights: _____**"
      ]
    },
    {
      "cell_type": "markdown",
      "metadata": {
        "id": "HshH5R7qHa10"
      },
      "source": [
        "### **Hyperparameter Tuning: Decision Tree** - HELP"
      ]
    },
    {
      "cell_type": "code",
      "source": [
        "# Create a decision tree regression model\n",
        "dtr = DecisionTreeRegressor(random_state=42)"
      ],
      "metadata": {
        "id": "blwXO8AyEK92"
      },
      "execution_count": null,
      "outputs": []
    },
    {
      "cell_type": "code",
      "source": [
        "from pprint import pprint\n",
        "# Look at parameters used by our current forest\n",
        "print('Parameters currently in use:\\n')\n",
        "pprint(dtr.get_params())"
      ],
      "metadata": {
        "colab": {
          "base_uri": "https://localhost:8080/"
        },
        "id": "JgsfsrapELJC",
        "outputId": "329ce5cf-f9f1-4da7-d1d4-885dc37bb5d8"
      },
      "execution_count": null,
      "outputs": [
        {
          "output_type": "stream",
          "name": "stdout",
          "text": [
            "Parameters currently in use:\n",
            "\n",
            "{'ccp_alpha': 0.0,\n",
            " 'criterion': 'squared_error',\n",
            " 'max_depth': None,\n",
            " 'max_features': None,\n",
            " 'max_leaf_nodes': None,\n",
            " 'min_impurity_decrease': 0.0,\n",
            " 'min_samples_leaf': 1,\n",
            " 'min_samples_split': 2,\n",
            " 'min_weight_fraction_leaf': 0.0,\n",
            " 'random_state': 42,\n",
            " 'splitter': 'best'}\n"
          ]
        }
      ]
    },
    {
      "cell_type": "markdown",
      "source": [
        "# 1: max_depth:\n",
        "\n",
        "The max_depth of a tree in Random Forest is defined as the longest path between the root node and the leaf node: <br>\n",
        "Using the max_depth parameter, I can limit up to what depth I want every tree in my random forest to grow\n",
        "\n",
        "# 2: min_sample_split\n",
        "\n",
        "The default value of the minimum_sample_split is assigned to 2. This means that if any terminal node has more than two observations and is not a pure node, we can split it further into subnodes.\n",
        "\n",
        "Having a default value as 2 poses the issue that a tree often keeps on splitting until the nodes are completely pure. As a result, the tree grows in size and therefore overfits the data. <br>\n",
        "By increasing the value of the min_sample_split, we can reduce the number of splits that happen in the decision tree and therefore prevent the model from overfitting.\n",
        "\n",
        "# 3: min_samples_leaf(int, float, optional (default=1)) \n",
        "\n",
        "The minimum number of samples required to be at a leaf node. A split point at any depth will only be considered if it leaves at least min_samples_leaf training samples in each of the left and right branches. This may have the effect of smoothing the model, especially in regression. - If int, then consider min_samples_leaf as the minimum number. - If float, then min_samples_leaf is a fraction and ceil(min_samples_leaf * n_samples) are the minimum number of samples for each node.\n",
        "\n",
        "Cl: \n",
        "\n",
        "It specifies the minimum number of samples that should be present in the leaf node after splitting a node.\n",
        "\n",
        "# 4: n_estimators\n",
        "\n",
        "We might say that more trees should be able to produce a more generalized result, right? But by choosing more number of trees, the time complexity of the Random Forest model also increases.\n",
        "\n",
        "This means that choosing a large number of estimators in a random forest model is not the best idea. Although it will not degrade the model, it can save you the computational complexity and prevent the use of a fire extinguisher on your CPU!\n",
        "# 5: max_samples\n",
        "\n",
        "# 6: max_features  (int, float, string or None, optional (default=None))\n",
        " \n",
        "\n",
        "- The number of features to consider when looking for the best split: - If int, then consider max_features features at each split. - If float, then max_features is a fraction and\n"
      ],
      "metadata": {
        "id": "lTv24_j6To6b"
      }
    },
    {
      "cell_type": "code",
      "source": [
        "import sklearn\n",
        "sklearn.metrics.SCORERS.keys()"
      ],
      "metadata": {
        "colab": {
          "base_uri": "https://localhost:8080/"
        },
        "id": "K7OVb0mpTIIo",
        "outputId": "870086c0-39de-4c3a-987a-d19098b077b3"
      },
      "execution_count": null,
      "outputs": [
        {
          "output_type": "execute_result",
          "data": {
            "text/plain": [
              "dict_keys(['explained_variance', 'r2', 'max_error', 'neg_median_absolute_error', 'neg_mean_absolute_error', 'neg_mean_absolute_percentage_error', 'neg_mean_squared_error', 'neg_mean_squared_log_error', 'neg_root_mean_squared_error', 'neg_mean_poisson_deviance', 'neg_mean_gamma_deviance', 'accuracy', 'top_k_accuracy', 'roc_auc', 'roc_auc_ovr', 'roc_auc_ovo', 'roc_auc_ovr_weighted', 'roc_auc_ovo_weighted', 'balanced_accuracy', 'average_precision', 'neg_log_loss', 'neg_brier_score', 'adjusted_rand_score', 'rand_score', 'homogeneity_score', 'completeness_score', 'v_measure_score', 'mutual_info_score', 'adjusted_mutual_info_score', 'normalized_mutual_info_score', 'fowlkes_mallows_score', 'precision', 'precision_macro', 'precision_micro', 'precision_samples', 'precision_weighted', 'recall', 'recall_macro', 'recall_micro', 'recall_samples', 'recall_weighted', 'f1', 'f1_macro', 'f1_micro', 'f1_samples', 'f1_weighted', 'jaccard', 'jaccard_macro', 'jaccard_micro', 'jaccard_samples', 'jaccard_weighted'])"
            ]
          },
          "metadata": {},
          "execution_count": 108
        }
      ]
    },
    {
      "cell_type": "code",
      "source": [
        "parameters = {\"splitter\":[\"best\",\"random\"],\n",
        "            \"max_depth\" : [1,3,9,12],\n",
        "           \"min_samples_leaf\":[1,5,15],\n",
        "           'min_samples_split':[2,6,10,14],\n",
        "           \"max_features\":[\"auto\",\"sqrt\"]\n",
        "             }\n",
        "      \n"
      ],
      "metadata": {
        "id": "jeuxUpD5ELTb"
      },
      "execution_count": null,
      "outputs": []
    },
    {
      "cell_type": "code",
      "source": [
        "from sklearn.experimental import enable_halving_search_cv \n",
        "from sklearn.model_selection import HalvingGridSearchCV\n",
        "\n",
        "# Run the grid search & Fit decision tree regression model.\n",
        "grid_dtr = HalvingGridSearchCV(dtr, parameters, scoring=\"neg_root_mean_squared_error\",verbose= 4, n_jobs=-1, cv=10).fit(X_train, y_train['price_log'])"
      ],
      "metadata": {
        "colab": {
          "base_uri": "https://localhost:8080/"
        },
        "id": "jsgumSRbELbl",
        "outputId": "6ad9a297-6acd-4a76-81ca-5fd2d0c476ed"
      },
      "execution_count": null,
      "outputs": [
        {
          "output_type": "stream",
          "name": "stdout",
          "text": [
            "n_iterations: 5\n",
            "n_required_iterations: 5\n",
            "n_possible_iterations: 5\n",
            "min_resources_: 62\n",
            "max_resources_: 5076\n",
            "aggressive_elimination: False\n",
            "factor: 3\n",
            "----------\n",
            "iter: 0\n",
            "n_candidates: 192\n",
            "n_resources: 62\n",
            "Fitting 10 folds for each of 192 candidates, totalling 1920 fits\n",
            "----------\n",
            "iter: 1\n",
            "n_candidates: 64\n",
            "n_resources: 186\n",
            "Fitting 10 folds for each of 64 candidates, totalling 640 fits\n",
            "----------\n",
            "iter: 2\n",
            "n_candidates: 22\n",
            "n_resources: 558\n",
            "Fitting 10 folds for each of 22 candidates, totalling 220 fits\n",
            "----------\n",
            "iter: 3\n",
            "n_candidates: 8\n",
            "n_resources: 1674\n",
            "Fitting 10 folds for each of 8 candidates, totalling 80 fits\n",
            "----------\n",
            "iter: 4\n",
            "n_candidates: 3\n",
            "n_resources: 5022\n",
            "Fitting 10 folds for each of 3 candidates, totalling 30 fits\n"
          ]
        }
      ]
    },
    {
      "cell_type": "code",
      "source": [
        "bbmod= grid_dtr.best_estimator_"
      ],
      "metadata": {
        "id": "3Q-0tqTWELYN"
      },
      "execution_count": null,
      "outputs": []
    },
    {
      "cell_type": "code",
      "source": [
        "grid_dtr.best_params_"
      ],
      "metadata": {
        "colab": {
          "base_uri": "https://localhost:8080/"
        },
        "id": "EqUaGFijELf-",
        "outputId": "7d5f931d-5347-47b0-fa5c-c2977df49bf2"
      },
      "execution_count": null,
      "outputs": [
        {
          "output_type": "execute_result",
          "data": {
            "text/plain": [
              "{'max_depth': 12,\n",
              " 'max_features': 'auto',\n",
              " 'min_samples_leaf': 5,\n",
              " 'min_samples_split': 14,\n",
              " 'splitter': 'best'}"
            ]
          },
          "metadata": {},
          "execution_count": 132
        }
      ]
    },
    {
      "cell_type": "code",
      "source": [
        "get_model_score(bbmod)\n"
      ],
      "metadata": {
        "colab": {
          "base_uri": "https://localhost:8080/"
        },
        "id": "_QI7V7AEELjy",
        "outputId": "faa5c3ae-1493-4bd1-b310-827233eefdd3"
      },
      "execution_count": null,
      "outputs": [
        {
          "output_type": "stream",
          "name": "stdout",
          "text": [
            "R-square on training set :  0.9074742817378049\n",
            "R-square on test set :  0.8176505825192184\n",
            "RMSE on training set :  3.267979987352243\n",
            "RMSE on test set :  4.5700381258570575\n"
          ]
        },
        {
          "output_type": "execute_result",
          "data": {
            "text/plain": [
              "[0.9074742817378049, 0.8176505825192184, 3.267979987352243, 4.5700381258570575]"
            ]
          },
          "metadata": {},
          "execution_count": 134
        }
      ]
    },
    {
      "cell_type": "code",
      "source": [],
      "metadata": {
        "id": "OBwTW0sNELnl"
      },
      "execution_count": null,
      "outputs": []
    },
    {
      "cell_type": "code",
      "source": [],
      "metadata": {
        "id": "jGnJHoDpELrM"
      },
      "execution_count": null,
      "outputs": []
    },
    {
      "cell_type": "code",
      "execution_count": null,
      "metadata": {
        "id": "nIts6GGZHa10"
      },
      "outputs": [],
      "source": [
        "# # Choose the type of estimator. \n",
        "# dtree_tuned = DecisionTreeRegressor(random_state=1)\n",
        "\n",
        "# # Grid of parameters to choose from.\n",
        "# # Check documentation for all the parameters that the model takes and play with those.\n",
        "# parameters = {\"splitter\":[\"best\",\"random\"],\n",
        "#             \"max_depth\" : [1,3,5,7,9,11,12],\n",
        "#            \"min_samples_leaf\":[1,2,3,4,5,6,7,8,9,10],\n",
        "#            \"min_weight_fraction_leaf\":[0.1,0.2,0.3,0.4,0.5,0.6,0.7,0.8,0.9],\n",
        "#            \"max_features\":[\"auto\",\"log2\",\"sqrt\",None],\n",
        "#            \"max_leaf_nodes\":[None,10,20,30,40,50,60,70,80,90]}\n",
        "\n",
        "# # Type of scoring used to compare parameter combinations\n",
        "# scorer = metrics.make_scorer(recall_score, pos_label = 1)\n",
        "\n",
        "# # Run the grid search\n",
        "# grid_obj = GridSearchCV(dtree_tuned, parameters, scoring = scorer , cv = 10)\n",
        "\n",
        "# #Fitting the grid search on the train data\n",
        "# grid_obj = grid_obj.fit(X_train, y_train)\n",
        "\n",
        "# # Set the clf to the best combination of parameters\n",
        "# grid_obj.best_estimator_\n",
        "\n"
      ]
    },
    {
      "cell_type": "code",
      "source": [
        "# Fit the best algorithm to the data. \n",
        "# dtree_tuned.fit(X_train,y_train)"
      ],
      "metadata": {
        "id": "CCP5zoC8Pm7c"
      },
      "execution_count": null,
      "outputs": []
    },
    {
      "cell_type": "code",
      "execution_count": null,
      "metadata": {
        "id": "emEXP4m4Ha10"
      },
      "outputs": [],
      "source": [
        "# Get score of the dtree_tuned"
      ]
    },
    {
      "cell_type": "markdown",
      "metadata": {
        "id": "OY8YopGkHa11"
      },
      "source": [
        "#### **Observations and insights: _____**"
      ]
    },
    {
      "cell_type": "markdown",
      "metadata": {
        "id": "tQRJiC2qHa11"
      },
      "source": [
        "**Feature Importance**"
      ]
    },
    {
      "cell_type": "code",
      "execution_count": null,
      "metadata": {
        "id": "HXV0_2WnHa11"
      },
      "outputs": [],
      "source": [
        "# Print important features of tuned decision tree similar to decision trees"
      ]
    },
    {
      "cell_type": "markdown",
      "metadata": {
        "id": "UyU1KUk4Ha11"
      },
      "source": [
        "#### **Observations and insights: _____**"
      ]
    },
    {
      "cell_type": "markdown",
      "metadata": {
        "id": "3_nZ8fQnHa11"
      },
      "source": [
        "### **Hyperparameter Tuning: Random Forest**"
      ]
    },
    {
      "cell_type": "code",
      "source": [
        "from sklearn.ensemble import RandomForestRegressor\n",
        "rf = RandomForestRegressor(random_state = 42)\n",
        "from pprint import pprint\n",
        "# Look at parameters used by our current forest\n",
        "print('Parameters currently in use:\\n')\n",
        "pprint(rf.get_params())"
      ],
      "metadata": {
        "colab": {
          "base_uri": "https://localhost:8080/"
        },
        "id": "UU4SwtmWsb8e",
        "outputId": "b121d656-4530-4d88-8050-bcb68fbc2d7c"
      },
      "execution_count": null,
      "outputs": [
        {
          "output_type": "stream",
          "name": "stdout",
          "text": [
            "Parameters currently in use:\n",
            "\n",
            "{'bootstrap': True,\n",
            " 'ccp_alpha': 0.0,\n",
            " 'criterion': 'squared_error',\n",
            " 'max_depth': None,\n",
            " 'max_features': 'auto',\n",
            " 'max_leaf_nodes': None,\n",
            " 'max_samples': None,\n",
            " 'min_impurity_decrease': 0.0,\n",
            " 'min_samples_leaf': 1,\n",
            " 'min_samples_split': 2,\n",
            " 'min_weight_fraction_leaf': 0.0,\n",
            " 'n_estimators': 100,\n",
            " 'n_jobs': None,\n",
            " 'oob_score': False,\n",
            " 'random_state': 42,\n",
            " 'verbose': 0,\n",
            " 'warm_start': False}\n"
          ]
        }
      ]
    },
    {
      "cell_type": "code",
      "source": [
        "import sklearn\n",
        "sklearn.metrics.SCORERS.keys()\n"
      ],
      "metadata": {
        "colab": {
          "base_uri": "https://localhost:8080/"
        },
        "id": "aiywGz84o7eg",
        "outputId": "7dc5d279-7323-449f-a543-797bec68f901"
      },
      "execution_count": null,
      "outputs": [
        {
          "output_type": "execute_result",
          "data": {
            "text/plain": [
              "dict_keys(['explained_variance', 'r2', 'max_error', 'neg_median_absolute_error', 'neg_mean_absolute_error', 'neg_mean_absolute_percentage_error', 'neg_mean_squared_error', 'neg_mean_squared_log_error', 'neg_root_mean_squared_error', 'neg_mean_poisson_deviance', 'neg_mean_gamma_deviance', 'accuracy', 'top_k_accuracy', 'roc_auc', 'roc_auc_ovr', 'roc_auc_ovo', 'roc_auc_ovr_weighted', 'roc_auc_ovo_weighted', 'balanced_accuracy', 'average_precision', 'neg_log_loss', 'neg_brier_score', 'adjusted_rand_score', 'rand_score', 'homogeneity_score', 'completeness_score', 'v_measure_score', 'mutual_info_score', 'adjusted_mutual_info_score', 'normalized_mutual_info_score', 'fowlkes_mallows_score', 'precision', 'precision_macro', 'precision_micro', 'precision_samples', 'precision_weighted', 'recall', 'recall_macro', 'recall_micro', 'recall_samples', 'recall_weighted', 'f1', 'f1_macro', 'f1_micro', 'f1_samples', 'f1_weighted', 'jaccard', 'jaccard_macro', 'jaccard_micro', 'jaccard_samples', 'jaccard_weighted'])"
            ]
          },
          "metadata": {},
          "execution_count": 119
        }
      ]
    },
    {
      "cell_type": "code",
      "source": [
        "param_grid= {\n",
        "      \"n_estimators\":[100,200,300] ,\n",
        "      \"max_depth\": [80, 90, 100], \n",
        "      'max_features': ['auto', 'sqrt'],\n",
        "      'min_samples_split': [2, 4, 10],\n",
        "      'min_samples_leaf': [1, 3, 6]\n",
        "}"
      ],
      "metadata": {
        "id": "PtM1dF0PsLiu"
      },
      "execution_count": null,
      "outputs": []
    },
    {
      "cell_type": "code",
      "source": [
        "from sklearn.model_selection import GridSearchCV\n",
        "from sklearn.model_selection import RandomizedSearchCV\n",
        "rf = RandomForestRegressor() #creating base model\n",
        "\n",
        "rf_random = RandomizedSearchCV(estimator = rf,\n",
        "                               param_distributions = param_grid,\n",
        "                               scoring='neg_root_mean_squared_error', \n",
        "                               cv = 5, \n",
        "                               verbose=4, \n",
        "                               n_jobs = -1)"
      ],
      "metadata": {
        "id": "UyAGvILIo7oP"
      },
      "execution_count": null,
      "outputs": []
    },
    {
      "cell_type": "code",
      "source": [
        "rf_random.fit(X_train, y_train['price_log'])"
      ],
      "metadata": {
        "colab": {
          "base_uri": "https://localhost:8080/"
        },
        "id": "s0bxaqjGpL8j",
        "outputId": "cad11cfc-ddc3-49bc-ecd3-ae5c70b79961"
      },
      "execution_count": null,
      "outputs": [
        {
          "output_type": "stream",
          "name": "stdout",
          "text": [
            "Fitting 5 folds for each of 10 candidates, totalling 50 fits\n"
          ]
        },
        {
          "output_type": "execute_result",
          "data": {
            "text/plain": [
              "RandomizedSearchCV(cv=5, estimator=RandomForestRegressor(), n_jobs=-1,\n",
              "                   param_distributions={'max_depth': [80, 90, 100],\n",
              "                                        'max_features': ['auto', 'sqrt'],\n",
              "                                        'min_samples_leaf': [1, 3, 6],\n",
              "                                        'min_samples_split': [2, 4, 10],\n",
              "                                        'n_estimators': [100, 200, 300]},\n",
              "                   scoring='neg_root_mean_squared_error', verbose=4)"
            ]
          },
          "metadata": {},
          "execution_count": 156
        }
      ]
    },
    {
      "cell_type": "code",
      "source": [
        "best_mod =rf_random.best_estimator_"
      ],
      "metadata": {
        "id": "8BFNG7q29vRE"
      },
      "execution_count": null,
      "outputs": []
    },
    {
      "cell_type": "code",
      "source": [
        "from pprint import pprint\n",
        "pprint(rf_random.best_params_)"
      ],
      "metadata": {
        "colab": {
          "base_uri": "https://localhost:8080/"
        },
        "id": "_viYAVwP984X",
        "outputId": "16cc3901-1c49-4073-f400-92aa76ffe623"
      },
      "execution_count": null,
      "outputs": [
        {
          "output_type": "stream",
          "name": "stdout",
          "text": [
            "{'max_depth': 90,\n",
            " 'max_features': 'auto',\n",
            " 'min_samples_leaf': 1,\n",
            " 'min_samples_split': 4,\n",
            " 'n_estimators': 200}\n"
          ]
        }
      ]
    },
    {
      "cell_type": "code",
      "source": [
        "get_model_score(best_mod)\n"
      ],
      "metadata": {
        "colab": {
          "base_uri": "https://localhost:8080/"
        },
        "id": "M8umsOFB-vlm",
        "outputId": "95386307-f3bf-40de-e50c-6b0b9943d644"
      },
      "execution_count": null,
      "outputs": [
        {
          "output_type": "stream",
          "name": "stdout",
          "text": [
            "R-square on training set :  0.9636353198297614\n",
            "R-square on test set :  0.8551467561186386\n",
            "RMSE on training set :  2.048745637808449\n",
            "RMSE on test set :  4.073162584526179\n"
          ]
        },
        {
          "output_type": "execute_result",
          "data": {
            "text/plain": [
              "[0.9636353198297614, 0.8551467561186386, 2.048745637808449, 4.073162584526179]"
            ]
          },
          "metadata": {},
          "execution_count": 159
        }
      ]
    },
    {
      "cell_type": "code",
      "execution_count": null,
      "metadata": {
        "id": "CnDfK-IlHa11"
      },
      "outputs": [],
      "source": [
        "# Choose the type of Regressor. \n",
        "\n",
        "# Define the parameters for Grid to choose from \n",
        "# Check documentation for all the parametrs that the model takes and play with those\n",
        "\n",
        "# Type of scoring used to compare parameter combinations\n",
        "\n",
        "# Run the grid search\n",
        "\n",
        "# Set the clf to the best combination of parameters\n",
        "\n",
        " "
      ]
    },
    {
      "cell_type": "code",
      "execution_count": null,
      "metadata": {
        "id": "GEqmxD2jHa12"
      },
      "outputs": [],
      "source": [
        "# Fit the best algorithm to the data.\n",
        "# Get score of the model."
      ]
    },
    {
      "cell_type": "markdown",
      "metadata": {
        "id": "tE9_P1CJHa12"
      },
      "source": [
        "#### **Observations and insights: _____**"
      ]
    },
    {
      "cell_type": "markdown",
      "metadata": {
        "id": "6MjIfP1HHa12"
      },
      "source": [
        "**Feature Importance**"
      ]
    },
    {
      "cell_type": "code",
      "execution_count": null,
      "metadata": {
        "id": "pR2frjCiHa12"
      },
      "outputs": [],
      "source": [
        "# Print important features of tuned decision tree similar to decision trees"
      ]
    },
    {
      "cell_type": "markdown",
      "metadata": {
        "id": "razY4EksHa12"
      },
      "source": [
        "#### **Observations and insights: _____**"
      ]
    },
    {
      "cell_type": "code",
      "execution_count": null,
      "metadata": {
        "id": "lLgJlYbhHa12"
      },
      "outputs": [],
      "source": [
        "# defining list of models you have trained\n",
        "models = [lr,dtree, __________________]\n",
        "\n",
        "# defining empty lists to add train and test results\n",
        "r2_train = []\n",
        "r2_test = []\n",
        "rmse_train= []\n",
        "rmse_test= []\n",
        "\n",
        "# looping through all the models to get the rmse and r2 scores\n",
        "for model in models:\n",
        "    # accuracy score\n",
        "    j = get_model_score(model,False)\n",
        "    r2_train.append(j[0])\n",
        "    r2_test.append(j[1])\n",
        "    rmse_train.append(j[2])\n",
        "    rmse_test.append(j[3])"
      ]
    },
    {
      "cell_type": "code",
      "execution_count": null,
      "metadata": {
        "id": "IW0LFoz_Ha13"
      },
      "outputs": [],
      "source": [
        "comparison_frame = pd.DataFrame({'Model':['Linear Regression','Decision Tree',___________,___________], \n",
        "                                          'Train_r2': r2_train,'Test_r2': r2_test,\n",
        "                                          'Train_RMSE':rmse_train,'Test_RMSE':rmse_test}) \n",
        "comparison_frame"
      ]
    },
    {
      "cell_type": "markdown",
      "metadata": {
        "id": "XG4kbrG8Ha13"
      },
      "source": [
        "#### **Observations: _____**"
      ]
    },
    {
      "cell_type": "markdown",
      "metadata": {
        "id": "Y1-piBFMHa13"
      },
      "source": [
        "**Note:** You can also try some other algorithms such as kNN and compare the model performance with the existing ones"
      ]
    },
    {
      "cell_type": "markdown",
      "metadata": {
        "id": "OhCdBLuuHa13"
      },
      "source": [
        "### **Insights**\n",
        "\n",
        "####**Refined insights**:\n",
        "- What are the most meaningful insights from the data relevant to the problem?\n",
        "\n",
        "####**Comparison of various techniques and their relative performance**:\n",
        "- How do different techniques perform? Which one is performing relatively better? Is there scope to improve the performance further?\n",
        "\n",
        "####**Proposal for the final solution design**:\n",
        "- What model do you propose to be adopted? Why is this the best solution to adopt?"
      ]
    },
    {
      "cell_type": "code",
      "source": [],
      "metadata": {
        "id": "pCcN89_Yz6qI"
      },
      "execution_count": null,
      "outputs": []
    }
  ],
  "metadata": {
    "colab": {
      "collapsed_sections": [
        "XYmSIliuIrcy",
        "vjT3FFoDIrc3"
      ],
      "provenance": [],
      "include_colab_link": true
    },
    "kernelspec": {
      "display_name": "Python 3 (ipykernel)",
      "language": "python",
      "name": "python3"
    },
    "language_info": {
      "codemirror_mode": {
        "name": "ipython",
        "version": 3
      },
      "file_extension": ".py",
      "mimetype": "text/x-python",
      "name": "python",
      "nbconvert_exporter": "python",
      "pygments_lexer": "ipython3",
      "version": "3.9.7"
    },
    "accelerator": "GPU"
  },
  "nbformat": 4,
  "nbformat_minor": 0
}